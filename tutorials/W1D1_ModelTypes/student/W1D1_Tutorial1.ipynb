{
  "cells": [
    {
      "cell_type": "markdown",
      "metadata": {
        "id": "view-in-github",
        "colab_type": "text"
      },
      "source": [
        "<a href=\"https://colab.research.google.com/github/LeouYing/Neuromatch/blob/main/tutorials/W1D1_ModelTypes/student/W1D1_Tutorial1.ipynb\" target=\"_parent\"><img src=\"https://colab.research.google.com/assets/colab-badge.svg\" alt=\"Open In Colab\"/></a>"
      ]
    },
    {
      "cell_type": "markdown",
      "metadata": {
        "execution": {},
        "id": "uHiHlJjk3bkd"
      },
      "source": [
        "# Tutorial 1: \"What\" models\n",
        "\n",
        "**Week 1, Day 1: Model Types**\n",
        "\n",
        "**By Neuromatch Academy**\n",
        "\n",
        "__Content creators:__ Matt Laporte, Byron Galbraith, Konrad Kording\n",
        "\n",
        "__Content reviewers:__ Dalin Guo, Aishwarya Balwani, Madineh Sarvestani, Maryam Vaziri-Pashkam, Michael Waskom, Ella Batty\n",
        "\n",
        "__Production editors:__ Gagana B, Spiros Chavlis\n",
        "\n",
        "<br>\n",
        "\n",
        "We would like to acknowledge [Steinmetz _et al._ (2019)](https://www.nature.com/articles/s41586-019-1787-x) for sharing their data, a subset of which is used here."
      ]
    },
    {
      "cell_type": "markdown",
      "metadata": {
        "execution": {},
        "id": "mVPhki0v3bkf"
      },
      "source": [
        "___\n",
        "# Tutorial Objectives\n",
        "\n",
        "*Estimated timing of tutorial: 50 minutes*\n",
        "\n",
        "This is tutorial 1 of a 3-part series on different flavors of models used to understand neural data. In this tutorial we will explore 'What' models, used to describe the data. To understand what our data looks like, we will visualize it in different ways. Then we will compare it to simple mathematical models. Specifically, we will:\n",
        "\n",
        "- Load a dataset with spiking activity from hundreds of neurons and understand how it is organized\n",
        "- Make plots to visualize characteristics of the spiking activity across the population\n",
        "- Compute the distribution of \"inter-spike intervals\" (ISIs) for a single neuron\n",
        "- Consider several formal models of this distribution's shape and fit them to the data \"by hand\""
      ]
    },
    {
      "cell_type": "code",
      "execution_count": 1,
      "metadata": {
        "cellView": "form",
        "execution": {},
        "colab": {
          "base_uri": "https://localhost:8080/",
          "height": 519
        },
        "id": "B6u0YvPo3bkf",
        "outputId": "10370023-383e-4911-b4d6-3582efcb26dd"
      },
      "outputs": [
        {
          "output_type": "stream",
          "name": "stdout",
          "text": [
            "If you want to download the slides: https://osf.io/download/6dxwe/\n"
          ]
        },
        {
          "output_type": "execute_result",
          "data": {
            "text/plain": [
              "<IPython.lib.display.IFrame at 0x7f35da039870>"
            ],
            "text/html": [
              "\n",
              "        <iframe\n",
              "            width=\"854\"\n",
              "            height=\"480\"\n",
              "            src=\"https://mfr.ca-1.osf.io/render?url=https://osf.io/6dxwe/?direct%26mode=render%26action=download%26mode=render\"\n",
              "            frameborder=\"0\"\n",
              "            allowfullscreen\n",
              "            \n",
              "        ></iframe>\n",
              "        "
            ]
          },
          "metadata": {},
          "execution_count": 1
        }
      ],
      "source": [
        "\n",
        "# @title Tutorial slides\n",
        "# @markdown These are the slides for the videos in all tutorials today\n",
        "from IPython.display import IFrame\n",
        "link_id = \"6dxwe\"\n",
        "print(f\"If you want to download the slides: https://osf.io/download/{link_id}/\")\n",
        "IFrame(src=f\"https://mfr.ca-1.osf.io/render?url=https://osf.io/{link_id}/?direct%26mode=render%26action=download%26mode=render\", width=854, height=480)"
      ]
    },
    {
      "cell_type": "markdown",
      "metadata": {
        "execution": {},
        "id": "O89WoIS_3bkg"
      },
      "source": [
        "---\n",
        "# Setup\n",
        "\n"
      ]
    },
    {
      "cell_type": "code",
      "execution_count": 3,
      "metadata": {
        "cellView": "form",
        "execution": {},
        "colab": {
          "base_uri": "https://localhost:8080/",
          "height": 0
        },
        "id": "AOaxnjtV3bkg",
        "outputId": "0a9f6809-15d7-4c21-d81e-de2df6faaf42"
      },
      "outputs": [
        {
          "output_type": "stream",
          "name": "stdout",
          "text": [
            "  Preparing metadata (setup.py) ... \u001b[?25l\u001b[?25hdone\n",
            "  Preparing metadata (setup.py) ... \u001b[?25l\u001b[?25hdone\n",
            "\u001b[2K     \u001b[90m━━━━━━━━━━━━━━━━━━━━━━━━━━━━━━━━━━━━━━━━\u001b[0m \u001b[32m1.6/1.6 MB\u001b[0m \u001b[31m21.7 MB/s\u001b[0m eta \u001b[36m0:00:00\u001b[0m\n",
            "\u001b[?25h  Building wheel for vibecheck (setup.py) ... \u001b[?25l\u001b[?25hdone\n",
            "  Building wheel for datatops (setup.py) ... \u001b[?25l\u001b[?25hdone\n"
          ]
        }
      ],
      "source": [
        "# @title Install and import feedback gadget\n",
        "\n",
        "!pip3 install vibecheck datatops --quiet\n",
        "\n",
        "from vibecheck import DatatopsContentReviewContainer\n",
        "def content_review(notebook_section: str):\n",
        "    return DatatopsContentReviewContainer(\n",
        "        \"\",  # No text prompt\n",
        "        notebook_section,\n",
        "        {\n",
        "            \"url\": \"https://pmyvdlilci.execute-api.us-east-1.amazonaws.com/klab\",\n",
        "            \"name\": \"neuromatch_cn\",\n",
        "            \"user_key\": \"y1x3mpx5\",\n",
        "        },\n",
        "    ).render()\n",
        "\n",
        "\n",
        "feedback_prefix = \"W1D1_T1\""
      ]
    },
    {
      "cell_type": "markdown",
      "metadata": {
        "execution": {},
        "id": "nI7M13_H3bkg"
      },
      "source": [
        "Python requires you to explicitly \"import\" libraries before their functions are available to use. We will always specify our imports at the beginning of each notebook or script."
      ]
    },
    {
      "cell_type": "code",
      "execution_count": 2,
      "metadata": {
        "execution": {},
        "pycharm": {
          "name": "#%%\n"
        },
        "id": "dKt4uN2U3bkg"
      },
      "outputs": [],
      "source": [
        "import numpy as np\n",
        "import matplotlib.pyplot as plt"
      ]
    },
    {
      "cell_type": "markdown",
      "metadata": {
        "execution": {},
        "id": "CfSVEncx3bkh"
      },
      "source": [
        "Tutorial notebooks typically begin with several set-up steps that are hidden from view by default.\n",
        "\n",
        "**Important:** Even though the code is hidden, you still need to run it so that the rest of the notebook can work properly. Step through each cell, either by pressing the play button in the upper-left-hand corner or with a keyboard shortcut (`Cmd-Return` on a Mac, `Ctrl-Enter` otherwise). A number will appear inside the brackets (e.g. `[3]`) to tell you that the cell was executed and what order that happened in.\n",
        "\n",
        "If you are curious to see what is going on inside each cell, you can double click to expand. Once expanded, double-click the white space to the right of the editor to collapse again."
      ]
    },
    {
      "cell_type": "code",
      "execution_count": 4,
      "metadata": {
        "cellView": "form",
        "execution": {},
        "pycharm": {
          "name": "#%%\n"
        },
        "id": "GEquGjgt3bkh"
      },
      "outputs": [],
      "source": [
        "# @title Figure Settings\n",
        "import logging\n",
        "logging.getLogger('matplotlib.font_manager').disabled = True\n",
        "\n",
        "import ipywidgets as widgets  # interactive display\n",
        "%matplotlib inline\n",
        "%config InlineBackend.figure_format = 'retina'\n",
        "plt.style.use(\"https://raw.githubusercontent.com/NeuromatchAcademy/course-content/main/nma.mplstyle\")"
      ]
    },
    {
      "cell_type": "code",
      "execution_count": 5,
      "metadata": {
        "cellView": "form",
        "execution": {},
        "id": "qKHrtdcW3bkh"
      },
      "outputs": [],
      "source": [
        "# @title Plotting functions\n",
        "\n",
        "def plot_isis(single_neuron_isis):\n",
        "  plt.hist(single_neuron_isis, bins=50, histtype=\"stepfilled\")\n",
        "  plt.axvline(single_neuron_isis.mean(), color=\"orange\", label=\"Mean ISI\")\n",
        "  plt.xlabel(\"ISI duration (s)\")\n",
        "  plt.ylabel(\"Number of spikes\")\n",
        "  plt.legend()"
      ]
    },
    {
      "cell_type": "code",
      "execution_count": 6,
      "metadata": {
        "cellView": "form",
        "execution": {},
        "pycharm": {
          "name": "#%%\n"
        },
        "id": "PLpYfsws3bkh"
      },
      "outputs": [],
      "source": [
        "#@title Data retrieval\n",
        "#@markdown This cell downloads the example dataset that we will use in this tutorial.\n",
        "import io\n",
        "import requests\n",
        "r = requests.get('https://osf.io/sy5xt/download')\n",
        "if r.status_code != 200:\n",
        "  print('Failed to download data')\n",
        "else:\n",
        "  spike_times = np.load(io.BytesIO(r.content), allow_pickle=True)['spike_times']"
      ]
    },
    {
      "cell_type": "markdown",
      "metadata": {
        "execution": {},
        "id": "o0CMRV773bkh"
      },
      "source": [
        "---\n",
        "# \"What\" models"
      ]
    },
    {
      "cell_type": "code",
      "execution_count": 7,
      "metadata": {
        "cellView": "form",
        "execution": {},
        "colab": {
          "base_uri": "https://localhost:8080/",
          "height": 581,
          "referenced_widgets": [
            "5b83a03feb8d40359ee4a43a78fdd983",
            "4ca037261fe04b52b519c306de955b9a",
            "472d4ccd62ed4d29884e1f45077472c8",
            "bc1b23ba0be940828ca08ff8a03441a2",
            "a5a5f6058aa84631a618c482ff9ea3ac",
            "16c9c18dc86b4661b051b14131bcde5b"
          ]
        },
        "id": "iwGfMIeW3bkh",
        "outputId": "35d73fb2-853a-471b-b4d3-008cf0c3e885"
      },
      "outputs": [
        {
          "output_type": "display_data",
          "data": {
            "text/plain": [
              "Tab(children=(Output(), Output()), _titles={'0': 'Youtube', '1': 'Bilibili'})"
            ],
            "application/vnd.jupyter.widget-view+json": {
              "version_major": 2,
              "version_minor": 0,
              "model_id": "5b83a03feb8d40359ee4a43a78fdd983"
            }
          },
          "metadata": {}
        }
      ],
      "source": [
        "# @title Video 1: \"What\" Models\n",
        "from ipywidgets import widgets\n",
        "from IPython.display import YouTubeVideo\n",
        "from IPython.display import IFrame\n",
        "from IPython.display import display\n",
        "\n",
        "\n",
        "class PlayVideo(IFrame):\n",
        "  def __init__(self, id, source, page=1, width=400, height=300, **kwargs):\n",
        "    self.id = id\n",
        "    if source == 'Bilibili':\n",
        "      src = f'https://player.bilibili.com/player.html?bvid={id}&page={page}'\n",
        "    elif source == 'Osf':\n",
        "      src = f'https://mfr.ca-1.osf.io/render?url=https://osf.io/download/{id}/?direct%26mode=render'\n",
        "    super(PlayVideo, self).__init__(src, width, height, **kwargs)\n",
        "\n",
        "\n",
        "def display_videos(video_ids, W=400, H=300, fs=1):\n",
        "  tab_contents = []\n",
        "  for i, video_id in enumerate(video_ids):\n",
        "    out = widgets.Output()\n",
        "    with out:\n",
        "      if video_ids[i][0] == 'Youtube':\n",
        "        video = YouTubeVideo(id=video_ids[i][1], width=W,\n",
        "                             height=H, fs=fs, rel=0)\n",
        "        print(f'Video available at https://youtube.com/watch?v={video.id}')\n",
        "      else:\n",
        "        video = PlayVideo(id=video_ids[i][1], source=video_ids[i][0], width=W,\n",
        "                          height=H, fs=fs, autoplay=False)\n",
        "        if video_ids[i][0] == 'Bilibili':\n",
        "          print(f'Video available at https://www.bilibili.com/video/{video.id}')\n",
        "        elif video_ids[i][0] == 'Osf':\n",
        "          print(f'Video available at https://osf.io/{video.id}')\n",
        "      display(video)\n",
        "    tab_contents.append(out)\n",
        "  return tab_contents\n",
        "\n",
        "\n",
        "video_ids = [('Youtube', 'KgqR_jbjMQg'), ('Bilibili', 'BV1mz4y1X7ot')]\n",
        "tab_contents = display_videos(video_ids, W=854, H=480)\n",
        "tabs = widgets.Tab()\n",
        "tabs.children = tab_contents\n",
        "for i in range(len(tab_contents)):\n",
        "  tabs.set_title(i, video_ids[i][0])\n",
        "display(tabs)"
      ]
    },
    {
      "cell_type": "code",
      "execution_count": null,
      "metadata": {
        "cellView": "form",
        "execution": {},
        "id": "nBpO0twA3bki"
      },
      "outputs": [],
      "source": [
        "# @title Submit your feedback\n",
        "content_review(f\"{feedback_prefix}_What_models_Video\")"
      ]
    },
    {
      "cell_type": "markdown",
      "metadata": {
        "execution": {},
        "id": "guRVhu7q3bki"
      },
      "source": [
        "---\n",
        "\n",
        "# Section 1: Exploring the Steinmetz dataset\n",
        "\n",
        "In this tutorial we will explore the structure of a neuroscience dataset.\n",
        "\n",
        "We consider a subset of data from a study of [Steinmetz _et al._ (2019)](https://www.nature.com/articles/s41586-019-1787-x). In this study, Neuropixels probes were implanted in the brains of mice. Electrical potentials were measured by hundreds of electrodes along the length of each probe. Each electrode's measurements captured local variations in the electric field due to nearby spiking neurons. A spike sorting algorithm was used to infer spike times and cluster spikes according to common origin: a single cluster of sorted spikes is causally attributed to a single neuron.\n",
        "\n",
        "In particular, a single recording session of spike times and neuron assignments was loaded and assigned to `spike_times` in the preceding setup.\n",
        "\n",
        "Typically a dataset comes with some information about its structure. However, this information may be incomplete. You might also apply some transformations or \"pre-processing\" to create a working representation of the data of interest, which might go partly undocumented depending on the circumstances. In any case it is important to be able to use the available tools to investigate unfamiliar aspects of a data structure.\n",
        "\n",
        "Let's see what our data looks like..."
      ]
    },
    {
      "cell_type": "markdown",
      "metadata": {
        "execution": {},
        "id": "rrOXgLUS3bki"
      },
      "source": [
        "## Section 1.1: Warming up with `spike_times`"
      ]
    },
    {
      "cell_type": "markdown",
      "metadata": {
        "execution": {},
        "id": "m7zIG13k3bki"
      },
      "source": [
        "What is the Python type of our variable?"
      ]
    },
    {
      "cell_type": "code",
      "execution_count": 8,
      "metadata": {
        "execution": {},
        "pycharm": {
          "name": "#%%\n"
        },
        "colab": {
          "base_uri": "https://localhost:8080/",
          "height": 0
        },
        "id": "cRlS0ET-3bki",
        "outputId": "5ff7e39d-625e-4131-a855-2e40b61c9273"
      },
      "outputs": [
        {
          "output_type": "execute_result",
          "data": {
            "text/plain": [
              "numpy.ndarray"
            ]
          },
          "metadata": {},
          "execution_count": 8
        }
      ],
      "source": [
        "type(spike_times)"
      ]
    },
    {
      "cell_type": "markdown",
      "metadata": {
        "execution": {},
        "id": "V15ZwxyD3bki"
      },
      "source": [
        "You should see `numpy.ndarray`, which means that it's a normal NumPy array.\n",
        "\n",
        "If you see an error message, it probably means that you did not execute the set-up cells at the top of the notebook. So go ahead and make sure to do that.\n",
        "\n",
        "Once everything is running properly, we can ask the next question about the dataset: what's its shape?"
      ]
    },
    {
      "cell_type": "code",
      "execution_count": 9,
      "metadata": {
        "execution": {},
        "pycharm": {
          "name": "#%%\n"
        },
        "colab": {
          "base_uri": "https://localhost:8080/",
          "height": 0
        },
        "id": "V4caInaM3bki",
        "outputId": "18467444-c4dc-4d59-cb3c-f7ab5f69b86a"
      },
      "outputs": [
        {
          "output_type": "execute_result",
          "data": {
            "text/plain": [
              "(734,)"
            ]
          },
          "metadata": {},
          "execution_count": 9
        }
      ],
      "source": [
        "spike_times.shape"
      ]
    },
    {
      "cell_type": "markdown",
      "metadata": {
        "execution": {},
        "id": "VebE1O5q3bki"
      },
      "source": [
        "There are 734 entries in one dimension, and no other dimensions. What is the Python type of the first entry, and what is *its* shape?"
      ]
    },
    {
      "cell_type": "code",
      "execution_count": 10,
      "metadata": {
        "execution": {},
        "pycharm": {
          "name": "#%%\n"
        },
        "colab": {
          "base_uri": "https://localhost:8080/",
          "height": 0
        },
        "id": "RjRKXW_63bki",
        "outputId": "7a3757ef-a39b-4410-9e25-8af2994eaf99"
      },
      "outputs": [
        {
          "output_type": "stream",
          "name": "stdout",
          "text": [
            "<class 'numpy.ndarray'>\n",
            "(826,)\n"
          ]
        }
      ],
      "source": [
        "idx = 0\n",
        "print(\n",
        "  type(spike_times[idx]),\n",
        "  spike_times[idx].shape,\n",
        "  sep=\"\\n\",\n",
        ")"
      ]
    },
    {
      "cell_type": "markdown",
      "metadata": {
        "execution": {},
        "id": "0sMlFEc23bki"
      },
      "source": [
        "It's also a NumPy array with a 1D shape! Why didn't this show up as a second dimension in the shape of `spike_times`? That is, why not `spike_times.shape == (734, 826)`?\n",
        "\n",
        "To investigate, let's check another entry."
      ]
    },
    {
      "cell_type": "code",
      "execution_count": 13,
      "metadata": {
        "execution": {},
        "pycharm": {
          "name": "#%%\n"
        },
        "colab": {
          "base_uri": "https://localhost:8080/",
          "height": 0
        },
        "id": "OJ5hxjJ53bki",
        "outputId": "4b0c3abc-ffac-4412-f9a4-cd5d94efacaa"
      },
      "outputs": [
        {
          "output_type": "stream",
          "name": "stdout",
          "text": [
            "<class 'numpy.ndarray'>\n",
            "(9723,)\n"
          ]
        }
      ],
      "source": [
        "idx = 321\n",
        "print(\n",
        "  type(spike_times[idx]),\n",
        "  spike_times[idx].shape,\n",
        "  sep=\"\\n\",\n",
        ")"
      ]
    },
    {
      "cell_type": "markdown",
      "metadata": {
        "execution": {},
        "id": "B-yBrN6j3bki"
      },
      "source": [
        "It's also a 1D NumPy array, but it has a different shape. Checking the NumPy types of the values in these arrays, and their first few elements, we see they are composed of floating point numbers (not another level of `np.ndarray`):"
      ]
    },
    {
      "cell_type": "code",
      "execution_count": 14,
      "metadata": {
        "execution": {},
        "pycharm": {
          "name": "#%%\n"
        },
        "colab": {
          "base_uri": "https://localhost:8080/",
          "height": 0
        },
        "id": "5MJarckf3bki",
        "outputId": "e9bb9506-95af-4bf6-804d-22a2ddfca36e"
      },
      "outputs": [
        {
          "output_type": "stream",
          "name": "stdout",
          "text": [
            "Neuron 0:\n",
            "float32\n",
            "[ 0.8149   14.822467 24.9646   25.1436   38.8709  ]\n",
            "\n",
            "\n",
            "Neuron 321:\n",
            "float32\n",
            "[1.0698667 1.1536334 1.2403667 1.7072    1.799    ]\n",
            "\n",
            "\n"
          ]
        }
      ],
      "source": [
        "i_neurons = [0, 321]\n",
        "i_print = slice(0, 5)\n",
        "\n",
        "for i in i_neurons:\n",
        "  print(\n",
        "    \"Neuron {}:\".format(i),\n",
        "    spike_times[i].dtype,\n",
        "    spike_times[i][i_print],\n",
        "    \"\\n\",\n",
        "    sep=\"\\n\"\n",
        "  )"
      ]
    },
    {
      "cell_type": "markdown",
      "metadata": {
        "execution": {},
        "id": "6d0y92sb3bki"
      },
      "source": [
        "Note that this time we've checked the NumPy `dtype` rather than the Python variable type. These two arrays contain floating point numbers (\"floats\") with 32 bits of precision.\n",
        "\n",
        "The basic picture is coming together:\n",
        "- `spike_times` is 1D, its entries are NumPy arrays, and its length is the number of neurons (734): by indexing it, we select a subset of neurons.\n",
        "- An array in `spike_times` is also 1D and corresponds to a single neuron; its entries are floating point numbers, and its length is the number of spikes attributed to that neuron. By indexing it, we select a subset of spike times for that neuron.\n",
        "\n",
        "Visually, you can think of the data structure as looking something like this:\n",
        "\n",
        "```\n",
        "| . . . . . |\n",
        "| . . . . . . . . |\n",
        "| . . . |\n",
        "| . . . . . . . |\n",
        "```\n",
        "\n",
        "Before moving on, we'll calculate and store the number of neurons in the dataset and the number of spikes per neuron:"
      ]
    },
    {
      "cell_type": "code",
      "execution_count": 15,
      "metadata": {
        "execution": {},
        "pycharm": {
          "name": "#%%\n"
        },
        "colab": {
          "base_uri": "https://localhost:8080/",
          "height": 0
        },
        "id": "PAK-TxgB3bki",
        "outputId": "c4ff2e53-ceee-490c-ff50-b7ac7ae2a465"
      },
      "outputs": [
        {
          "output_type": "stream",
          "name": "stdout",
          "text": [
            "Number of neurons: 734\n",
            "Number of spikes for first five neurons: [826, 2818, 3953, 646, 1115]\n"
          ]
        }
      ],
      "source": [
        "n_neurons = len(spike_times)\n",
        "total_spikes_per_neuron = [len(spike_times_i) for spike_times_i in spike_times]\n",
        "\n",
        "print(f\"Number of neurons: {n_neurons}\")\n",
        "print(f\"Number of spikes for first five neurons: {total_spikes_per_neuron[:5]}\")"
      ]
    },
    {
      "cell_type": "code",
      "execution_count": 16,
      "metadata": {
        "execution": {},
        "colab": {
          "base_uri": "https://localhost:8080/",
          "height": 581,
          "referenced_widgets": [
            "085e113023e6417b8661171f0bc60a64",
            "51b40d6b45994c35b1d5a5d24846da24",
            "1bc574fe9e0b4799ab116a1d467de596",
            "3b085a2edd154e5a80c78417b9b821b5",
            "8db54e43aa45477397b9cabe13657ee5",
            "a8a69fbfc8294fe4ae311d38855a2ff0"
          ]
        },
        "id": "_65J-yDt3bki",
        "outputId": "985882b2-157b-4786-a790-a86402c46c80"
      },
      "outputs": [
        {
          "output_type": "display_data",
          "data": {
            "text/plain": [
              "Tab(children=(Output(), Output()), _titles={'0': 'Youtube', '1': 'Bilibili'})"
            ],
            "application/vnd.jupyter.widget-view+json": {
              "version_major": 2,
              "version_minor": 0,
              "model_id": "085e113023e6417b8661171f0bc60a64"
            }
          },
          "metadata": {}
        }
      ],
      "source": [
        "# @title Video 2: Exploring the dataset\n",
        "from ipywidgets import widgets\n",
        "from IPython.display import YouTubeVideo\n",
        "from IPython.display import IFrame\n",
        "from IPython.display import display\n",
        "\n",
        "\n",
        "class PlayVideo(IFrame):\n",
        "  def __init__(self, id, source, page=1, width=400, height=300, **kwargs):\n",
        "    self.id = id\n",
        "    if source == 'Bilibili':\n",
        "      src = f'https://player.bilibili.com/player.html?bvid={id}&page={page}'\n",
        "    elif source == 'Osf':\n",
        "      src = f'https://mfr.ca-1.osf.io/render?url=https://osf.io/download/{id}/?direct%26mode=render'\n",
        "    super(PlayVideo, self).__init__(src, width, height, **kwargs)\n",
        "\n",
        "\n",
        "def display_videos(video_ids, W=400, H=300, fs=1):\n",
        "  tab_contents = []\n",
        "  for i, video_id in enumerate(video_ids):\n",
        "    out = widgets.Output()\n",
        "    with out:\n",
        "      if video_ids[i][0] == 'Youtube':\n",
        "        video = YouTubeVideo(id=video_ids[i][1], width=W,\n",
        "                             height=H, fs=fs, rel=0)\n",
        "        print(f'Video available at https://youtube.com/watch?v={video.id}')\n",
        "      else:\n",
        "        video = PlayVideo(id=video_ids[i][1], source=video_ids[i][0], width=W,\n",
        "                          height=H, fs=fs, autoplay=False)\n",
        "        if video_ids[i][0] == 'Bilibili':\n",
        "          print(f'Video available at https://www.bilibili.com/video/{video.id}')\n",
        "        elif video_ids[i][0] == 'Osf':\n",
        "          print(f'Video available at https://osf.io/{video.id}')\n",
        "      display(video)\n",
        "    tab_contents.append(out)\n",
        "  return tab_contents\n",
        "\n",
        "\n",
        "video_ids = [('Youtube', 'oHwYWUI_o1U'), ('Bilibili', 'BV1Hp4y1S7Au')]\n",
        "tab_contents = display_videos(video_ids, W=854, H=480)\n",
        "tabs = widgets.Tab()\n",
        "tabs.children = tab_contents\n",
        "for i in range(len(tab_contents)):\n",
        "  tabs.set_title(i, video_ids[i][0])\n",
        "display(tabs)"
      ]
    },
    {
      "cell_type": "code",
      "execution_count": null,
      "metadata": {
        "cellView": "form",
        "execution": {},
        "id": "wIh0JoCY3bkj"
      },
      "outputs": [],
      "source": [
        "# @title Submit your feedback\n",
        "content_review(f\"{feedback_prefix}_Exploring_the_dataset_Video\")"
      ]
    },
    {
      "cell_type": "markdown",
      "metadata": {
        "execution": {},
        "id": "8JXiyS5n3bkj"
      },
      "source": [
        "## Section 1.2: Getting warmer: counting and plotting total spike counts\n",
        "\n",
        "As we've seen, the number of spikes over the entire recording is variable between neurons. More generally, some neurons tend to spike more than others in a given period. Let's explore what the distribution of spiking looks like across all the neurons in the dataset."
      ]
    },
    {
      "cell_type": "markdown",
      "metadata": {
        "execution": {},
        "id": "Yx8MmhhV3bkj"
      },
      "source": [
        "Are most neurons \"loud\" or \"quiet\", compared to the average? To see, we'll define bins of constant width in terms of total spikes and count the neurons that fall in each bin. This is known as a \"histogram\".\n",
        "\n",
        "You can plot a histogram with the matplotlib function `plt.hist`. If you just need to compute it, you can use the numpy function `np.histogram` instead."
      ]
    },
    {
      "cell_type": "code",
      "execution_count": 17,
      "metadata": {
        "execution": {},
        "pycharm": {
          "name": "#%%\n"
        },
        "colab": {
          "base_uri": "https://localhost:8080/",
          "height": 592
        },
        "id": "0fnfM6e13bkj",
        "outputId": "a3aa269e-11dd-4665-a402-26771f99fe5e"
      },
      "outputs": [
        {
          "output_type": "display_data",
          "data": {
            "text/plain": [
              "<Figure size 800x600 with 1 Axes>"
            ],
            "image/png": "[encoded data removed]"
          },
          "metadata": {
            "image/png": {
              "width": 775,
              "height": 575
            }
          }
        }
      ],
      "source": [
        "plt.hist(total_spikes_per_neuron, bins=50, histtype=\"stepfilled\")\n",
        "plt.xlabel(\"Total spikes per neuron\")\n",
        "plt.ylabel(\"Number of neurons\");"
      ]
    },
    {
      "cell_type": "markdown",
      "metadata": {
        "execution": {},
        "id": "lLB1IWMF3bkj"
      },
      "source": [
        "Let's see what percentage of neurons have a below-average spike count:"
      ]
    },
    {
      "cell_type": "code",
      "execution_count": 18,
      "metadata": {
        "execution": {},
        "pycharm": {
          "name": "#%%\n"
        },
        "colab": {
          "base_uri": "https://localhost:8080/",
          "height": 0
        },
        "id": "qPNs3Rsi3bkj",
        "outputId": "e6696bbc-cc48-4ddc-fd52-8e92af429d2c"
      },
      "outputs": [
        {
          "output_type": "stream",
          "name": "stdout",
          "text": [
            "68.0% of neurons are below the mean\n"
          ]
        }
      ],
      "source": [
        "mean_spike_count = np.mean(total_spikes_per_neuron)\n",
        "frac_below_mean = (total_spikes_per_neuron < mean_spike_count).mean()\n",
        "print(f\"{frac_below_mean:2.1%} of neurons are below the mean\")"
      ]
    },
    {
      "cell_type": "markdown",
      "metadata": {
        "execution": {},
        "id": "gf9oNVCn3bkj"
      },
      "source": [
        "We can also see this by adding the average spike count to the histogram plot:"
      ]
    },
    {
      "cell_type": "code",
      "execution_count": 19,
      "metadata": {
        "execution": {},
        "pycharm": {
          "name": "#%%\n"
        },
        "colab": {
          "base_uri": "https://localhost:8080/",
          "height": 592
        },
        "id": "kgWJZ6o-3bkj",
        "outputId": "2789c240-53da-4566-cadb-0e563a1a9827"
      },
      "outputs": [
        {
          "output_type": "display_data",
          "data": {
            "text/plain": [
              "<Figure size 800x600 with 1 Axes>"
            ],
            "image/png": "[encoded data removed]"
          },
          "metadata": {
            "image/png": {
              "width": 775,
              "height": 575
            }
          }
        }
      ],
      "source": [
        "plt.hist(total_spikes_per_neuron, bins=50, histtype=\"stepfilled\")\n",
        "plt.xlabel(\"Total spikes per neuron\")\n",
        "plt.ylabel(\"Number of neurons\")\n",
        "plt.axvline(mean_spike_count, color=\"orange\", label=\"Mean neuron\")\n",
        "plt.legend();"
      ]
    },
    {
      "cell_type": "markdown",
      "metadata": {
        "execution": {},
        "id": "F8LzdbyS3bkj"
      },
      "source": [
        "This shows that the majority of neurons are relatively \"quiet\" compared to the mean, while a small number of neurons are exceptionally \"loud\": they must have spiked more often to reach a large count.\n",
        "\n",
        "### Coding Exercise 1.2: Comparing mean and median neurons\n",
        "\n",
        "If the mean neuron is more active than 68% of the population, what does that imply about the relationship between the mean neuron and the median neuron?\n",
        "\n",
        "*Exercise objective:* Reproduce the plot above, but add the median neuron.\n"
      ]
    },
    {
      "cell_type": "code",
      "execution_count": 21,
      "metadata": {
        "execution": {},
        "pycharm": {
          "name": "#%%\n"
        },
        "colab": {
          "base_uri": "https://localhost:8080/",
          "height": 610
        },
        "id": "C8bhNOVg3bkj",
        "outputId": "813dc7f2-9a19-4197-fe04-e6b9b73495f3"
      },
      "outputs": [
        {
          "output_type": "execute_result",
          "data": {
            "text/plain": [
              "<matplotlib.legend.Legend at 0x7f35c402f670>"
            ]
          },
          "metadata": {},
          "execution_count": 21
        },
        {
          "output_type": "display_data",
          "data": {
            "text/plain": [
              "<Figure size 800x600 with 1 Axes>"
            ],
            "image/png": "[encoded data removed]"
          },
          "metadata": {
            "image/png": {
              "width": 775,
              "height": 575
            }
          }
        }
      ],
      "source": [
        "\n",
        "# Compute median spike count\n",
        "median_spike_count = np.median(total_spikes_per_neuron)  # Hint: Try the function np.median\n",
        "\n",
        "# Visualize median, mean, and histogram\n",
        "plt.hist(total_spikes_per_neuron, bins=50, histtype=\"stepfilled\")\n",
        "plt.axvline(median_spike_count, color=\"limegreen\", label=\"Median neuron\")\n",
        "plt.axvline(mean_spike_count, color=\"orange\", label=\"Mean neuron\")\n",
        "plt.xlabel(\"Total spikes per neuron\")\n",
        "plt.ylabel(\"Number of neurons\")\n",
        "plt.legend()"
      ]
    },
    {
      "cell_type": "markdown",
      "metadata": {
        "execution": {},
        "pycharm": {
          "name": "#%%\n"
        },
        "id": "5GGRe3EF3bkm"
      },
      "source": [
        "[*Click for solution*](https://github.com/NeuromatchAcademy/course-content/tree/main/tutorials/W1D1_ModelTypes/solutions/W1D1_Tutorial1_Solution_9af91fe0.py)\n",
        "\n",
        "*Example output:*\n",
        "\n",
        "<img alt='Solution hint' align='left' width=775.0 height=575.0 src=https://raw.githubusercontent.com/NeuromatchAcademy/course-content/main/tutorials/W1D1_ModelTypes/static/W1D1_Tutorial1_Solution_9af91fe0_0.png>\n",
        "\n"
      ]
    },
    {
      "cell_type": "markdown",
      "metadata": {
        "execution": {},
        "id": "fF1Mj0Cp3bkn"
      },
      "source": [
        "\n",
        "*Bonus:* The median is the 50th percentile. What about other percentiles? Can you show the interquartile range on the histogram?"
      ]
    },
    {
      "cell_type": "code",
      "execution_count": null,
      "metadata": {
        "cellView": "form",
        "execution": {},
        "id": "OU5a1xbY3bkn"
      },
      "outputs": [],
      "source": [
        "# @title Submit your feedback\n",
        "content_review(f\"{feedback_prefix}_Comparing_mean_and_median_neurons_Exercise\")"
      ]
    },
    {
      "cell_type": "markdown",
      "metadata": {
        "execution": {},
        "id": "oajq1wG13bkn"
      },
      "source": [
        "---\n",
        "\n",
        "# Section 2: Visualizing neuronal spiking activity\n",
        "\n",
        "*Estimated timing to here from start of tutorial: 15 min*"
      ]
    },
    {
      "cell_type": "markdown",
      "metadata": {
        "execution": {},
        "id": "lLYSiJ6X3bkn"
      },
      "source": [
        "## Section 2.1: Getting a subset of the data\n",
        "\n",
        "Now we'll visualize trains of spikes. Because the recordings are long, we will first define a short time interval and restrict the visualization to only the spikes in this interval. We defined a helper function, `restrict_spike_times`, to do this for you. If you call `help()` on the function, it will tell you a little bit about itself:"
      ]
    },
    {
      "cell_type": "code",
      "execution_count": 23,
      "metadata": {
        "execution": {},
        "id": "k2EweBp73bkn"
      },
      "outputs": [],
      "source": [
        "# @markdown Execute this cell for helper function `restrict_spike_times`\n",
        "def restrict_spike_times(spike_times, interval):\n",
        "  \"\"\"Given a spike_time dataset, restrict to spikes within given interval.\n",
        "\n",
        "  Args:\n",
        "    spike_times (sequence of np.ndarray): List or array of arrays,\n",
        "      each inner array has spike times for a single neuron.\n",
        "    interval (tuple): Min, max time values; keep min <= t < max.\n",
        "\n",
        "  Returns:\n",
        "    np.ndarray: like `spike_times`, but only within `interval`\n",
        "  \"\"\"\n",
        "  interval_spike_times = []\n",
        "  for spikes in spike_times:\n",
        "    interval_mask = (spikes >= interval[0]) & (spikes < interval[1])\n",
        "    interval_spike_times.append(spikes[interval_mask])\n",
        "  return np.array(interval_spike_times, object)"
      ]
    },
    {
      "cell_type": "code",
      "execution_count": 24,
      "metadata": {
        "execution": {},
        "pycharm": {
          "name": "#%%\n"
        },
        "colab": {
          "base_uri": "https://localhost:8080/",
          "height": 0
        },
        "id": "JnFzNIwM3bkn",
        "outputId": "5f018c8b-be12-464a-a20d-bc18486513e8"
      },
      "outputs": [
        {
          "output_type": "stream",
          "name": "stdout",
          "text": [
            "Help on function restrict_spike_times in module __main__:\n",
            "\n",
            "restrict_spike_times(spike_times, interval)\n",
            "    Given a spike_time dataset, restrict to spikes within given interval.\n",
            "    \n",
            "    Args:\n",
            "      spike_times (sequence of np.ndarray): List or array of arrays,\n",
            "        each inner array has spike times for a single neuron.\n",
            "      interval (tuple): Min, max time values; keep min <= t < max.\n",
            "    \n",
            "    Returns:\n",
            "      np.ndarray: like `spike_times`, but only within `interval`\n",
            "\n"
          ]
        }
      ],
      "source": [
        "help(restrict_spike_times)"
      ]
    },
    {
      "cell_type": "code",
      "execution_count": 26,
      "metadata": {
        "execution": {},
        "pycharm": {
          "name": "#%%\n"
        },
        "id": "JKq5spPo3bkn"
      },
      "outputs": [],
      "source": [
        "t_interval = (5, 15)  # units are seconds after start of recording\n",
        "interval_spike_times = restrict_spike_times(spike_times, t_interval)"
      ]
    },
    {
      "cell_type": "markdown",
      "metadata": {
        "execution": {},
        "id": "iH4O7nYZ3bkn"
      },
      "source": [
        "Is this a representative interval? What fraction of the total spikes fall in this interval?"
      ]
    },
    {
      "cell_type": "code",
      "execution_count": 27,
      "metadata": {
        "execution": {},
        "pycharm": {
          "name": "#%%\n"
        },
        "colab": {
          "base_uri": "https://localhost:8080/",
          "height": 0
        },
        "id": "4dY1Vpf-3bkn",
        "outputId": "f46aa2af-5744-4230-a7bc-0518bf8e5d23"
      },
      "outputs": [
        {
          "output_type": "stream",
          "name": "stdout",
          "text": [
            "0.33% of the total spikes are in the interval\n"
          ]
        }
      ],
      "source": [
        "original_counts = sum([len(spikes) for spikes in spike_times])\n",
        "interval_counts = sum([len(spikes) for spikes in interval_spike_times])\n",
        "frac_interval_spikes = interval_counts / original_counts\n",
        "print(f\"{frac_interval_spikes:.2%} of the total spikes are in the interval\")"
      ]
    },
    {
      "cell_type": "markdown",
      "metadata": {
        "execution": {},
        "id": "Sfqq_f_W3bkn"
      },
      "source": [
        "How does this compare to the ratio between the interval duration and the experiment duration? (What fraction of the total time is in this interval?)\n",
        "\n",
        "We can approximate the experiment duration by taking the minimum and maximum spike time in the whole dataset. To do that, we \"concatenate\" all of the neurons into one array and then use `np.ptp` (\"peak-to-peak\") to get the difference between the maximum and minimum value:"
      ]
    },
    {
      "cell_type": "code",
      "execution_count": 28,
      "metadata": {
        "execution": {},
        "pycharm": {
          "name": "#%%\n"
        },
        "colab": {
          "base_uri": "https://localhost:8080/",
          "height": 0
        },
        "id": "u1diwFfT3bkn",
        "outputId": "cfcdb172-d8cc-4979-b968-39011a274a49"
      },
      "outputs": [
        {
          "output_type": "stream",
          "name": "stdout",
          "text": [
            "0.37% of the total time is in the interval\n"
          ]
        }
      ],
      "source": [
        "spike_times_flat = np.concatenate(spike_times)\n",
        "experiment_duration = np.ptp(spike_times_flat)\n",
        "interval_duration = t_interval[1] - t_interval[0]\n",
        "\n",
        "frac_interval_time = interval_duration / experiment_duration\n",
        "print(f\"{frac_interval_time:.2%} of the total time is in the interval\")"
      ]
    },
    {
      "cell_type": "markdown",
      "metadata": {
        "execution": {},
        "id": "e_ntdV3y3bkn"
      },
      "source": [
        "These two values—the fraction of total spikes and the fraction of total time—are similar. This suggests the average spike rate of the neuronal population is not very different in this interval compared to the entire recording.\n",
        "\n",
        "## Section 2.2: Plotting spike trains and rasters\n",
        "\n",
        "Now that we have a representative subset, we're ready to plot the spikes, using the matplotlib `plt.eventplot` function. Let's look at a single neuron first:"
      ]
    },
    {
      "cell_type": "code",
      "execution_count": 29,
      "metadata": {
        "execution": {},
        "pycharm": {
          "name": "#%%\n"
        },
        "colab": {
          "base_uri": "https://localhost:8080/",
          "height": 592
        },
        "id": "AW_lZ1_A3bko",
        "outputId": "4d4f754e-ec25-4385-9f21-6ded62331ded"
      },
      "outputs": [
        {
          "output_type": "display_data",
          "data": {
            "text/plain": [
              "<Figure size 800x600 with 1 Axes>"
            ],
            "image/png": "[encoded data removed]"
          },
          "metadata": {
            "image/png": {
              "width": 775,
              "height": 575
            }
          }
        }
      ],
      "source": [
        "neuron_idx = 1\n",
        "plt.eventplot(interval_spike_times[neuron_idx], color=\".2\")\n",
        "plt.xlabel(\"Time (s)\")\n",
        "plt.yticks([]);"
      ]
    },
    {
      "cell_type": "markdown",
      "metadata": {
        "execution": {},
        "id": "CEG5QL1c3bko"
      },
      "source": [
        "We can also plot multiple neurons. Here are three:"
      ]
    },
    {
      "cell_type": "code",
      "execution_count": 30,
      "metadata": {
        "execution": {},
        "pycharm": {
          "name": "#%%\n"
        },
        "colab": {
          "base_uri": "https://localhost:8080/",
          "height": 592
        },
        "id": "bs3JeAFO3bko",
        "outputId": "8bb48cd8-8bf2-4a94-f109-d4725cc1f015"
      },
      "outputs": [
        {
          "output_type": "display_data",
          "data": {
            "text/plain": [
              "<Figure size 800x600 with 1 Axes>"
            ],
            "image/png": "[encoded data removed]"
          },
          "metadata": {
            "image/png": {
              "width": 775,
              "height": 575
            }
          }
        }
      ],
      "source": [
        "neuron_idx = [1, 11, 51]\n",
        "plt.eventplot(interval_spike_times[neuron_idx], color=\".2\")\n",
        "plt.xlabel(\"Time (s)\")\n",
        "plt.yticks([]);"
      ]
    },
    {
      "cell_type": "markdown",
      "metadata": {
        "execution": {},
        "id": "7RAH7rmQ3bko"
      },
      "source": [
        "This makes a \"raster\" plot, where the spikes from each neuron appear in a different row.\n",
        "\n",
        "Plotting a large number of neurons can give you a sense for the characteristics in the population. Let's show every 5th neuron that was recorded:"
      ]
    },
    {
      "cell_type": "code",
      "execution_count": 31,
      "metadata": {
        "execution": {},
        "pycharm": {
          "name": "#%%\n"
        },
        "colab": {
          "base_uri": "https://localhost:8080/",
          "height": 592
        },
        "id": "oQFK3eN_3bko",
        "outputId": "156c8d12-5353-41b8-9f04-12c84af1859c"
      },
      "outputs": [
        {
          "output_type": "display_data",
          "data": {
            "text/plain": [
              "<Figure size 800x600 with 1 Axes>"
            ],
            "image/png": "[encoded data removed]"
          },
          "metadata": {
            "image/png": {
              "width": 775,
              "height": 575
            }
          }
        }
      ],
      "source": [
        "neuron_idx = np.arange(0, len(spike_times), 5)\n",
        "plt.eventplot(interval_spike_times[neuron_idx], color=\".2\")\n",
        "plt.xlabel(\"Time (s)\")\n",
        "plt.yticks([]);"
      ]
    },
    {
      "cell_type": "markdown",
      "metadata": {
        "execution": {},
        "id": "IPq7ooLS3bko"
      },
      "source": [
        "*Question*: How does the information in this plot relate to the histogram of total spike counts that you saw above?"
      ]
    },
    {
      "cell_type": "markdown",
      "metadata": {
        "execution": {},
        "id": "bZ9jkvO_3bko"
      },
      "source": [
        "[*Click for solution*](https://github.com/NeuromatchAcademy/course-content/tree/main/tutorials/W1D1_ModelTypes/solutions/W1D1_Tutorial1_Solution_60e8b44b.py)\n",
        "\n"
      ]
    },
    {
      "cell_type": "code",
      "execution_count": 32,
      "metadata": {
        "cellView": "form",
        "execution": {},
        "colab": {
          "base_uri": "https://localhost:8080/",
          "height": 581,
          "referenced_widgets": [
            "7e172a1f35b64505a19963b984c78f61",
            "decd0fe5b74e431297199e05e29bef15",
            "b32cd4c3f77d46639ad3be6b56e30758",
            "879718cb5911496a9acad605b5809347",
            "faac52870cd440029152406126d8ba31",
            "7095d70f525e4a5ca6bd57a0dd08f1ad"
          ]
        },
        "id": "jabc-0Sq3bko",
        "outputId": "34f4e881-0ac8-45dd-effc-3f2e8cfe54e2"
      },
      "outputs": [
        {
          "output_type": "display_data",
          "data": {
            "text/plain": [
              "Tab(children=(Output(), Output()), _titles={'0': 'Youtube', '1': 'Bilibili'})"
            ],
            "application/vnd.jupyter.widget-view+json": {
              "version_major": 2,
              "version_minor": 0,
              "model_id": "7e172a1f35b64505a19963b984c78f61"
            }
          },
          "metadata": {}
        }
      ],
      "source": [
        "# @title Video 3: Visualizing activity\n",
        "from ipywidgets import widgets\n",
        "from IPython.display import YouTubeVideo\n",
        "from IPython.display import IFrame\n",
        "from IPython.display import display\n",
        "\n",
        "\n",
        "class PlayVideo(IFrame):\n",
        "  def __init__(self, id, source, page=1, width=400, height=300, **kwargs):\n",
        "    self.id = id\n",
        "    if source == 'Bilibili':\n",
        "      src = f'https://player.bilibili.com/player.html?bvid={id}&page={page}'\n",
        "    elif source == 'Osf':\n",
        "      src = f'https://mfr.ca-1.osf.io/render?url=https://osf.io/download/{id}/?direct%26mode=render'\n",
        "    super(PlayVideo, self).__init__(src, width, height, **kwargs)\n",
        "\n",
        "\n",
        "def display_videos(video_ids, W=400, H=300, fs=1):\n",
        "  tab_contents = []\n",
        "  for i, video_id in enumerate(video_ids):\n",
        "    out = widgets.Output()\n",
        "    with out:\n",
        "      if video_ids[i][0] == 'Youtube':\n",
        "        video = YouTubeVideo(id=video_ids[i][1], width=W,\n",
        "                             height=H, fs=fs, rel=0)\n",
        "        print(f'Video available at https://youtube.com/watch?v={video.id}')\n",
        "      else:\n",
        "        video = PlayVideo(id=video_ids[i][1], source=video_ids[i][0], width=W,\n",
        "                          height=H, fs=fs, autoplay=False)\n",
        "        if video_ids[i][0] == 'Bilibili':\n",
        "          print(f'Video available at https://www.bilibili.com/video/{video.id}')\n",
        "        elif video_ids[i][0] == 'Osf':\n",
        "          print(f'Video available at https://osf.io/{video.id}')\n",
        "      display(video)\n",
        "    tab_contents.append(out)\n",
        "  return tab_contents\n",
        "\n",
        "\n",
        "video_ids = [('Youtube', 'QGA5FCW7kkA'), ('Bilibili', 'BV1dt4y1Q7C5')]\n",
        "tab_contents = display_videos(video_ids, W=854, H=480)\n",
        "tabs = widgets.Tab()\n",
        "tabs.children = tab_contents\n",
        "for i in range(len(tab_contents)):\n",
        "  tabs.set_title(i, video_ids[i][0])\n",
        "display(tabs)"
      ]
    },
    {
      "cell_type": "code",
      "execution_count": 33,
      "metadata": {
        "cellView": "form",
        "execution": {},
        "colab": {
          "base_uri": "https://localhost:8080/",
          "height": 117,
          "referenced_widgets": [
            "f1f035ee5feb4072be7e0d2a47111df3",
            "5a1f11d92f9642a5b33ea3b1e6bfd31a",
            "607aca37bc824a11bf83e1bc900c8092",
            "c9a008d55d2b4192950563f22c1198be",
            "d49d5c754a53456cb821245b29d71cb1",
            "2e597b84ef074a52947ed90b27ca9505",
            "cc27693fa85a408ba4190c73fcf59c2f",
            "ae5eec5b1671421ba2d31255338234b5",
            "4329400df00b4fe587775627bd6ebfec",
            "f0a2a0f6f1244567b04bd678def193a0",
            "796166d0fa8e499fb9466c6737704672",
            "cb3eb047d9dd4c9c81ebde29b44c3da4",
            "0a7c443950204915ae374a5bdcbb8a52",
            "c0a8f983bda74f30ac895b296cc23af3",
            "00b74da3349a4ca7ac83e23fa199d9b7",
            "e0381a4f55d44cf3a45af0a90ab0d8e4",
            "764aa69882d846e8b8a14b3ae7924880",
            "12d10758cc43414688782a5137fabacf",
            "68fd849f3cbf44f18a951a1ecd53496d",
            "eb387acc05ab46a6bd23721f82223ba2",
            "d26d6f05c8ff4f92a883aea75690f105",
            "0c890b0fe3c24c8ebee250c6be682d00",
            "27c4c1559a2a4d7d98814242b8926663",
            "42bfe4b6653a429bb4690b322713cfe0",
            "ea95f65bc9b648f4a423e15420c30115",
            "5673af87ce1f4fa79a93dd7facdf3ec7",
            "b4f3a778b0f9485b8ead6e3f423bd78d"
          ]
        },
        "id": "2DCSFA5z3bko",
        "outputId": "82d4675f-0a8f-4536-af51-86d84b3c69e0"
      },
      "outputs": [
        {
          "output_type": "display_data",
          "data": {
            "text/plain": [
              "VBox(children=(Label(value=''), HBox(children=(Button(description='🙂', layout=Layout(height='auto', width='aut…"
            ],
            "application/vnd.jupyter.widget-view+json": {
              "version_major": 2,
              "version_minor": 0,
              "model_id": "f1f035ee5feb4072be7e0d2a47111df3"
            }
          },
          "metadata": {}
        }
      ],
      "source": [
        "# @title Submit your feedback\n",
        "content_review(f\"{feedback_prefix}_Visualizing_activity_Video\")"
      ]
    },
    {
      "cell_type": "markdown",
      "metadata": {
        "execution": {},
        "id": "QxirimIF3bko"
      },
      "source": [
        "---\n",
        "\n",
        "# Section 3: Inter-spike intervals and their distributions\n",
        "\n",
        "*Estimated timing to here from start of tutorial: 25 min*"
      ]
    },
    {
      "cell_type": "markdown",
      "metadata": {
        "execution": {},
        "id": "r9y-owwr3bkp"
      },
      "source": [
        "Given the ordered arrays of spike times for each neuron in `spike_times`, which we've just visualized, what can we ask next?\n",
        "\n",
        "Scientific questions are informed by existing models. So, what knowledge do we already have that can inform questions about this data?\n",
        "\n",
        "We know that there are physical constraints on neuron spiking. Spiking costs energy, which the neuron's cellular machinery can only obtain at a finite rate. Therefore neurons should have a refractory period: they can only fire as quickly as their metabolic processes can support, and there is a minimum delay between consecutive spikes of the same neuron.\n",
        "\n",
        "More generally, we can ask \"how long does a neuron wait to spike again?\" or \"what is the longest a neuron will wait?\" Can we transform spike times into something else, to address questions like these more directly?\n",
        "\n",
        "We can consider the inter-spike times (or interspike intervals: ISIs). These are simply the time differences between consecutive spikes of the same neuron.\n",
        "\n",
        "### Exercise 3: Plot the distribution of ISIs for a single neuron\n",
        "\n",
        "*Exercise objective:* make a histogram, like we did for spike counts, to show the distribution of ISIs for one of the neurons in the dataset.\n",
        "\n",
        "Do this in three steps:\n",
        "\n",
        "1. Extract the spike times for one of the neurons\n",
        "2. Compute the ISIs (the amount of time between spikes, or equivalently, the difference between adjacent spike times)\n",
        "3. Plot a histogram with the array of individual ISIs"
      ]
    },
    {
      "cell_type": "code",
      "execution_count": 36,
      "metadata": {
        "execution": {},
        "pycharm": {
          "name": "#%%\n"
        },
        "colab": {
          "base_uri": "https://localhost:8080/",
          "height": 592
        },
        "id": "8A04WBBl3bkp",
        "outputId": "d90a156f-6d37-413e-b06b-ec9bd9a06617"
      },
      "outputs": [
        {
          "output_type": "display_data",
          "data": {
            "text/plain": [
              "<Figure size 800x600 with 1 Axes>"
            ],
            "image/png": "[encoded data removed]"
          },
          "metadata": {
            "image/png": {
              "width": 775,
              "height": 575
            }
          }
        }
      ],
      "source": [
        "def compute_single_neuron_isis(spike_times, neuron_idx):\n",
        "  \"\"\"Compute a vector of ISIs for a single neuron given spike times.\n",
        "\n",
        "  Args:\n",
        "    spike_times (list of 1D arrays): Spike time dataset, with the first\n",
        "      dimension corresponding to different neurons.\n",
        "    neuron_idx (int): Index of the unit to compute ISIs for.\n",
        "\n",
        "  Returns:\n",
        "    isis (1D array): Duration of time between each spike from one neuron.\n",
        "  \"\"\"\n",
        "\n",
        "  # Extract the spike times for the specified neuron\n",
        "  single_neuron_spikes = spike_times[neuron_idx]\n",
        "\n",
        "  # Compute the ISIs for this set of spikes\n",
        "  # Hint: the function np.diff computes discrete differences along an array\n",
        "  isis = np.diff(single_neuron_spikes)\n",
        "\n",
        "  return isis\n",
        "\n",
        "# Compute ISIs\n",
        "single_neuron_isis = compute_single_neuron_isis(spike_times, neuron_idx=283)\n",
        "\n",
        "# Visualize ISIs\n",
        "plot_isis(single_neuron_isis)"
      ]
    },
    {
      "cell_type": "markdown",
      "metadata": {
        "execution": {},
        "pycharm": {
          "name": "#%%\n"
        },
        "id": "e7wrF_BY3bkp"
      },
      "source": [
        "[*Click for solution*](https://github.com/NeuromatchAcademy/course-content/tree/main/tutorials/W1D1_ModelTypes/solutions/W1D1_Tutorial1_Solution_2972c168.py)\n",
        "\n",
        "*Example output:*\n",
        "\n",
        "<img alt='Solution hint' align='left' width=775.0 height=575.0 src=https://raw.githubusercontent.com/NeuromatchAcademy/course-content/main/tutorials/W1D1_ModelTypes/static/W1D1_Tutorial1_Solution_2972c168_0.png>\n",
        "\n"
      ]
    },
    {
      "cell_type": "markdown",
      "metadata": {
        "execution": {},
        "id": "8n9vH4U43bkp"
      },
      "source": [
        "In general, the shorter ISIs are predominant, with counts decreasing rapidly (and smoothly, more or less) with increasing ISI. However, counts also rapidly decrease to zero with _decreasing_ ISI below the maximum of the distribution (8-11 ms). The absence of these very low ISIs agrees with the refractory period hypothesis: the neuron cannot fire quickly enough to populate this region of the ISI distribution.\n",
        "\n",
        "Check the distributions of some other neurons. To resolve various features of the distributions, you might need to play with the value of `bins` in the call to `plt.hist`. Using too few bins might smooth over interesting details, but if you use too many bins, the random variability will start to dominate.\n",
        "\n",
        "You might also want to restrict the range to see the shape of the distribution when focusing on relatively short or long ISIs. *Hint:* `plt.hist` takes a `range` argument"
      ]
    },
    {
      "cell_type": "code",
      "execution_count": 37,
      "metadata": {
        "cellView": "form",
        "execution": {},
        "colab": {
          "base_uri": "https://localhost:8080/",
          "height": 117,
          "referenced_widgets": [
            "4ce6bf762d8c44eba2e84b216026613e",
            "5d241ae9fdb14a999e7d366e87c9b501",
            "90f79cdf12f04b109f2e73ee1c4c271e",
            "78024a3db8f94574968ac0e0546d87cb",
            "5afb63cd329a439b8fa0d30c4871723b",
            "e4815727eaed459e81e7bb991f4481bb",
            "85218b6194d34f34bf6599c6d8a399a0",
            "acef090c31c24be09aa8f01968493c23",
            "f82bd189545a48398713fa71a253d9da",
            "75650288a06d4962b04ba5b006762930",
            "a33bf85428644cf0b8b6b107e92b2765",
            "e6aeb937c99f4a36939bce88ff6d263e",
            "e9b0b145415b4b0bb725a9437633795a",
            "74d623e2f5204a969f8f6fef92ff4f8e",
            "875a810104a04aa18923c75d2e738723",
            "5e527f2d3bf746c0a7b0ea93841d5bfc",
            "1c4e719be453428c88503adf7cba431e",
            "f53d56f70281477aa4df70eca4669e6c",
            "fb82a0e97cbe4003a16035fdf9c4ddbc",
            "47583e686e8944488493f3205662d474",
            "243bc4de3f21416baffbd63935eb9aba",
            "0821b549c1344ec394b4105762dd7528",
            "a5fa55d0054f49649af14a0d205f13ad",
            "7243afe9029148b88a5c3223273aae05",
            "011bd0e660b843ba938687c28d7d92f4",
            "7accbf829bd14f0ba8215e116beefa9a",
            "828722dfe8dc459e91084a82a3f6d5ca"
          ]
        },
        "id": "fKDsIYf_3bkp",
        "outputId": "c5cd16d4-32f6-47cb-bb04-29a26303318a"
      },
      "outputs": [
        {
          "output_type": "display_data",
          "data": {
            "text/plain": [
              "VBox(children=(Label(value=''), HBox(children=(Button(description='🙂', layout=Layout(height='auto', width='aut…"
            ],
            "application/vnd.jupyter.widget-view+json": {
              "version_major": 2,
              "version_minor": 0,
              "model_id": "4ce6bf762d8c44eba2e84b216026613e"
            }
          },
          "metadata": {}
        }
      ],
      "source": [
        "# @title Submit your feedback\n",
        "content_review(f\"{feedback_prefix}_ISIs_and_their_distributions_Exercise\")"
      ]
    },
    {
      "cell_type": "markdown",
      "metadata": {
        "execution": {},
        "id": "r3MQD-VV3bkp"
      },
      "source": [
        "---\n",
        "\n",
        "# Section 4: What is the functional form of an ISI distribution?\n",
        "\n",
        "*Estimated timing to here from start of tutorial: 35 min*"
      ]
    },
    {
      "cell_type": "code",
      "execution_count": 38,
      "metadata": {
        "cellView": "form",
        "execution": {},
        "colab": {
          "base_uri": "https://localhost:8080/",
          "height": 581,
          "referenced_widgets": [
            "5bbda18d48264992a6e02a15b10466e5",
            "f63f7f47edfb46e0807d4cbeecf1947b",
            "f0c4e817343b475b8c21c2d3209030fb",
            "1340219fdf2c43a48d863bbd2b6af6e8",
            "7f1ea7c98d5a49a29de9c90e978265c7",
            "13ea06052f6b434d86a53d13004df981"
          ]
        },
        "id": "PA50ynju3bkp",
        "outputId": "c9340ba1-1175-4eae-a67d-392a9646381c"
      },
      "outputs": [
        {
          "output_type": "display_data",
          "data": {
            "text/plain": [
              "Tab(children=(Output(), Output()), _titles={'0': 'Youtube', '1': 'Bilibili'})"
            ],
            "application/vnd.jupyter.widget-view+json": {
              "version_major": 2,
              "version_minor": 0,
              "model_id": "5bbda18d48264992a6e02a15b10466e5"
            }
          },
          "metadata": {}
        }
      ],
      "source": [
        "# @title Video 4: ISI distribution\n",
        "from ipywidgets import widgets\n",
        "from IPython.display import YouTubeVideo\n",
        "from IPython.display import IFrame\n",
        "from IPython.display import display\n",
        "\n",
        "\n",
        "class PlayVideo(IFrame):\n",
        "  def __init__(self, id, source, page=1, width=400, height=300, **kwargs):\n",
        "    self.id = id\n",
        "    if source == 'Bilibili':\n",
        "      src = f'https://player.bilibili.com/player.html?bvid={id}&page={page}'\n",
        "    elif source == 'Osf':\n",
        "      src = f'https://mfr.ca-1.osf.io/render?url=https://osf.io/download/{id}/?direct%26mode=render'\n",
        "    super(PlayVideo, self).__init__(src, width, height, **kwargs)\n",
        "\n",
        "\n",
        "def display_videos(video_ids, W=400, H=300, fs=1):\n",
        "  tab_contents = []\n",
        "  for i, video_id in enumerate(video_ids):\n",
        "    out = widgets.Output()\n",
        "    with out:\n",
        "      if video_ids[i][0] == 'Youtube':\n",
        "        video = YouTubeVideo(id=video_ids[i][1], width=W,\n",
        "                             height=H, fs=fs, rel=0)\n",
        "        print(f'Video available at https://youtube.com/watch?v={video.id}')\n",
        "      else:\n",
        "        video = PlayVideo(id=video_ids[i][1], source=video_ids[i][0], width=W,\n",
        "                          height=H, fs=fs, autoplay=False)\n",
        "        if video_ids[i][0] == 'Bilibili':\n",
        "          print(f'Video available at https://www.bilibili.com/video/{video.id}')\n",
        "        elif video_ids[i][0] == 'Osf':\n",
        "          print(f'Video available at https://osf.io/{video.id}')\n",
        "      display(video)\n",
        "    tab_contents.append(out)\n",
        "  return tab_contents\n",
        "\n",
        "\n",
        "video_ids = [('Youtube', 'DHhM80MOTe8'), ('Bilibili', 'BV1ov411B7Pm')]\n",
        "tab_contents = display_videos(video_ids, W=854, H=480)\n",
        "tabs = widgets.Tab()\n",
        "tabs.children = tab_contents\n",
        "for i in range(len(tab_contents)):\n",
        "  tabs.set_title(i, video_ids[i][0])\n",
        "display(tabs)"
      ]
    },
    {
      "cell_type": "code",
      "execution_count": null,
      "metadata": {
        "cellView": "form",
        "execution": {},
        "id": "XStCgVUd3bkp"
      },
      "outputs": [],
      "source": [
        "# @title Submit your feedback\n",
        "content_review(f\"{feedback_prefix}_ISI_distribution_Video\")"
      ]
    },
    {
      "cell_type": "markdown",
      "metadata": {
        "execution": {},
        "id": "vl5dIpZx3bkp"
      },
      "source": [
        "The ISI histograms seem to follow continuous, monotonically decreasing functions above their maxima. The function is clearly non-linear. Could it belong to a single family of functions?\n",
        "\n",
        "To motivate the idea of using a mathematical function to explain physiological phenomena, let's define a few different function forms that we might expect the relationship to follow: exponential, inverse, and linear."
      ]
    },
    {
      "cell_type": "code",
      "execution_count": 39,
      "metadata": {
        "execution": {},
        "pycharm": {
          "name": "#%%\n"
        },
        "id": "HeMQPYLf3bkp"
      },
      "outputs": [],
      "source": [
        "def exponential(xs, scale, rate, x0):\n",
        "  \"\"\"A simple parameterized exponential function, applied element-wise.\n",
        "\n",
        "  Args:\n",
        "    xs (np.ndarray or float): Input(s) to the function.\n",
        "    scale (float): Linear scaling factor.\n",
        "    rate (float): Exponential growth (positive) or decay (negative) rate.\n",
        "    x0 (float): Horizontal offset.\n",
        "\n",
        "  \"\"\"\n",
        "  ys = scale * np.exp(rate * (xs - x0))\n",
        "  return ys\n",
        "\n",
        "def inverse(xs, scale, x0):\n",
        "  \"\"\"A simple parameterized inverse function (`1/x`), applied element-wise.\n",
        "\n",
        "  Args:\n",
        "    xs (np.ndarray or float): Input(s) to the function.\n",
        "    scale (float): Linear scaling factor.\n",
        "    x0 (float): Horizontal offset.\n",
        "\n",
        "  \"\"\"\n",
        "  ys = scale / (xs - x0)\n",
        "  return ys\n",
        "\n",
        "def linear(xs, slope, y0):\n",
        "  \"\"\"A simple linear function, applied element-wise.\n",
        "\n",
        "  Args:\n",
        "    xs (np.ndarray or float): Input(s) to the function.\n",
        "    slope (float): Slope of the line.\n",
        "    y0 (float): y-intercept of the line.\n",
        "\n",
        "  \"\"\"\n",
        "  ys = slope * xs + y0\n",
        "  return ys"
      ]
    },
    {
      "cell_type": "markdown",
      "metadata": {
        "execution": {},
        "id": "AFvFS2Cy3bkp"
      },
      "source": [
        "### Interactive Demo 4: ISI functions explorer\n",
        "\n",
        "Here is an interactive demo where you can vary the parameters of these functions and see how well the resulting outputs correspond to the data. Adjust the parameters by moving the sliders and see how close you can get the lines to follow the falling curve of the histogram. This will give you a taste of what you're trying to do when you *fit a model* to data.\n",
        "\n",
        "\"Interactive demo\" cells have hidden code that defines an interface where you can play with the parameters of some function using sliders. You don't need to worry about how the code works – but you do need to **run the cell** to enable the sliders.\n",
        "\n",
        "- Which type of function (exponential/inverse/linear) can you make match the data best?\n"
      ]
    },
    {
      "cell_type": "code",
      "execution_count": 42,
      "metadata": {
        "execution": {},
        "pycharm": {
          "name": "#%%\n"
        },
        "colab": {
          "base_uri": "https://localhost:8080/",
          "height": 816,
          "referenced_widgets": [
            "b74c803ee4f6437d9d6e58a4c4532386",
            "9797dfd6e3a647648c8341eb72c9ceb8",
            "2d3c10f0dc1b4dec97146161a542fa15",
            "3db8fec8840744489218ed2fde18c8e2",
            "dcddc5c9c6bd484fb2246ee80630bf99",
            "2539cfbb2d5041d7aaec17089c0e9522",
            "7c12ab96009f45c894c7b5cc17d594b7",
            "1bea49a9b73d4fa090dcfa88f47e1910",
            "90e83ae5833c4989985a47e31eeca1d9",
            "3a1574748c7f4186b30ab209372ddb2a",
            "8facac2e1b484d969821bbcc06091fdc",
            "2de2ac052e8d477ca2ed6a0a6c2e9edc",
            "8e3b69399fc54938861543ba72f57c04",
            "4f9befbe798d41769f20f1d71f9c8615",
            "d6f17f7d6db047adb44ba79ce142e86e",
            "3c629fd9222b4d9d9a6a481c992d1311",
            "dcc262c7cc9140d0a076e1ca7f0f470e",
            "7dc63d23e5834332a58f7a5a64531628",
            "e9d40a79e38048d183802bc032f29f8a",
            "b68cbd152e2b479bb5320159594abeda",
            "ab7b7ce93dc74d8ca0e658b65ca08e40",
            "3809dfd642454879a72183ad5e5cfe35",
            "379ff3ee07dc4b51838191c58c19aee7",
            "8079828e996d4b52a44b45efba375e3b",
            "6803ba7b9c344b15a1ba539a0f0cdeed"
          ]
        },
        "id": "nmSI65Zx3bkp",
        "outputId": "0ef5d8a8-51f7-49bf-e0cf-ea7d5ec780b9"
      },
      "outputs": [
        {
          "output_type": "display_data",
          "data": {
            "text/plain": [
              "interactive(children=(FloatSlider(value=1000.0, description='exp_scale', max=20000.0, step=250.0), FloatSlider…"
            ],
            "application/vnd.jupyter.widget-view+json": {
              "version_major": 2,
              "version_minor": 0,
              "model_id": "b74c803ee4f6437d9d6e58a4c4532386"
            }
          },
          "metadata": {}
        }
      ],
      "source": [
        "#@markdown Be sure to run this cell to enable the demo\n",
        "# Don't worry about understanding this code! It's to setup an interactive plot.\n",
        "single_neuron_idx = 283\n",
        "single_neuron_spikes = spike_times[single_neuron_idx]\n",
        "single_neuron_isis = np.diff(single_neuron_spikes)\n",
        "\n",
        "counts, edges = np.histogram(\n",
        "  single_neuron_isis,\n",
        "  bins=50,\n",
        "  range=(0, single_neuron_isis.max())\n",
        ")\n",
        "\n",
        "functions = dict(\n",
        "  exponential=exponential,\n",
        "  inverse=inverse,\n",
        "  linear=linear,\n",
        ")\n",
        "\n",
        "colors = dict(\n",
        "  exponential=\"C1\",\n",
        "  inverse=\"C2\",\n",
        "  linear=\"C4\",\n",
        ")\n",
        "\n",
        "@widgets.interact(\n",
        "  exp_scale=widgets.FloatSlider(1000, min=0, max=20000, step=250),\n",
        "  exp_rate=widgets.FloatSlider(-10, min=-200, max=50, step=1),\n",
        "  exp_x0=widgets.FloatSlider(0.1, min=-0.5, max=0.5, step=0.005),\n",
        "  inv_scale=widgets.FloatSlider(1000, min=0, max=3e2, step=10),\n",
        "  inv_x0=widgets.FloatSlider(0, min=-0.2, max=0.2, step=0.01),\n",
        "  lin_slope=widgets.FloatSlider(-1e5, min=-6e5, max=1e5, step=10000),\n",
        "  lin_y0=widgets.FloatSlider(10000, min=0, max=4e4, step=1000),\n",
        ")\n",
        "def fit_plot(\n",
        "  exp_scale=1000, exp_rate=-10, exp_x0=0.1,\n",
        "  inv_scale=1000, inv_x0=0,\n",
        "  lin_slope=-1e5, lin_y0=2000,\n",
        "):\n",
        "  \"\"\"Helper function for plotting function fits with interactive sliders.\"\"\"\n",
        "  func_params = dict(\n",
        "    exponential=(exp_scale, exp_rate, exp_x0),\n",
        "    inverse=(inv_scale, inv_x0),\n",
        "    linear=(lin_slope, lin_y0),\n",
        "  )\n",
        "  f, ax = plt.subplots()\n",
        "  ax.fill_between(edges[:-1], counts, step=\"post\", alpha=.5)\n",
        "  xs = np.linspace(1e-10, edges.max())\n",
        "  for name, function in functions.items():\n",
        "    ys = function(xs, *func_params[name])\n",
        "    ax.plot(xs, ys, lw=3, color=colors[name], label=name);\n",
        "  ax.set(\n",
        "      xlim=(edges.min(), edges.max()),\n",
        "      ylim=(0, counts.max() * 1.1),\n",
        "      xlabel=\"ISI (s)\",\n",
        "      ylabel=\"Number of spikes\",\n",
        "  )\n",
        "  ax.legend()\n",
        "  plt.show()"
      ]
    },
    {
      "cell_type": "markdown",
      "metadata": {
        "execution": {},
        "id": "4lmlbj_63bkp"
      },
      "source": [
        "[*Click for solution*](https://github.com/NeuromatchAcademy/course-content/tree/main/tutorials/W1D1_ModelTypes/solutions/W1D1_Tutorial1_Solution_1bfa4ab0.py)\n",
        "\n"
      ]
    },
    {
      "cell_type": "code",
      "execution_count": null,
      "metadata": {
        "cellView": "form",
        "execution": {},
        "id": "6A0DVPwN3bkq"
      },
      "outputs": [],
      "source": [
        "# @title Submit your feedback\n",
        "content_review(f\"{feedback_prefix}_ISI_functions_explorer_Interactive_Demo_and_Discussion\")"
      ]
    },
    {
      "cell_type": "code",
      "execution_count": 41,
      "metadata": {
        "cellView": "form",
        "execution": {},
        "colab": {
          "base_uri": "https://localhost:8080/",
          "height": 581,
          "referenced_widgets": [
            "9aa3d8c8516c45d29f4c2e7ef3270ec4",
            "0150add7322648b7a01ea5f4c28094cd",
            "de26b1ae5a2b47a5b460fe141b83baf4",
            "edf476c5f98c4f8eaa69a665c1b6962f",
            "30b3f4d92a614ebea0b0d1bc1f18c1ed",
            "cf4190c7b2a6479385263a41bcdd57df"
          ]
        },
        "id": "V8GYCORE3bkq",
        "outputId": "d9bb8f6b-eeec-4977-cc9f-a1faf029b196"
      },
      "outputs": [
        {
          "output_type": "display_data",
          "data": {
            "text/plain": [
              "Tab(children=(Output(), Output()), _titles={'0': 'Youtube', '1': 'Bilibili'})"
            ],
            "application/vnd.jupyter.widget-view+json": {
              "version_major": 2,
              "version_minor": 0,
              "model_id": "9aa3d8c8516c45d29f4c2e7ef3270ec4"
            }
          },
          "metadata": {}
        }
      ],
      "source": [
        "# @title Video 5: Fitting models by hand\n",
        "from ipywidgets import widgets\n",
        "from IPython.display import YouTubeVideo\n",
        "from IPython.display import IFrame\n",
        "from IPython.display import display\n",
        "\n",
        "\n",
        "class PlayVideo(IFrame):\n",
        "  def __init__(self, id, source, page=1, width=400, height=300, **kwargs):\n",
        "    self.id = id\n",
        "    if source == 'Bilibili':\n",
        "      src = f'https://player.bilibili.com/player.html?bvid={id}&page={page}'\n",
        "    elif source == 'Osf':\n",
        "      src = f'https://mfr.ca-1.osf.io/render?url=https://osf.io/download/{id}/?direct%26mode=render'\n",
        "    super(PlayVideo, self).__init__(src, width, height, **kwargs)\n",
        "\n",
        "\n",
        "def display_videos(video_ids, W=400, H=300, fs=1):\n",
        "  tab_contents = []\n",
        "  for i, video_id in enumerate(video_ids):\n",
        "    out = widgets.Output()\n",
        "    with out:\n",
        "      if video_ids[i][0] == 'Youtube':\n",
        "        video = YouTubeVideo(id=video_ids[i][1], width=W,\n",
        "                             height=H, fs=fs, rel=0)\n",
        "        print(f'Video available at https://youtube.com/watch?v={video.id}')\n",
        "      else:\n",
        "        video = PlayVideo(id=video_ids[i][1], source=video_ids[i][0], width=W,\n",
        "                          height=H, fs=fs, autoplay=False)\n",
        "        if video_ids[i][0] == 'Bilibili':\n",
        "          print(f'Video available at https://www.bilibili.com/video/{video.id}')\n",
        "        elif video_ids[i][0] == 'Osf':\n",
        "          print(f'Video available at https://osf.io/{video.id}')\n",
        "      display(video)\n",
        "    tab_contents.append(out)\n",
        "  return tab_contents\n",
        "\n",
        "\n",
        "video_ids = [('Youtube', 'uW2HDk_4-wk'), ('Bilibili', 'BV1w54y1S7Eb')]\n",
        "tab_contents = display_videos(video_ids, W=854, H=480)\n",
        "tabs = widgets.Tab()\n",
        "tabs.children = tab_contents\n",
        "for i in range(len(tab_contents)):\n",
        "  tabs.set_title(i, video_ids[i][0])\n",
        "display(tabs)"
      ]
    },
    {
      "cell_type": "code",
      "execution_count": null,
      "metadata": {
        "cellView": "form",
        "execution": {},
        "id": "sDS3OTVs3bkq"
      },
      "outputs": [],
      "source": [
        "# @title Submit your feedback\n",
        "content_review(f\"{feedback_prefix}_Fitting_models_by_hand_Video\")"
      ]
    },
    {
      "cell_type": "markdown",
      "metadata": {
        "execution": {},
        "id": "YiY3-3WN3bkq"
      },
      "source": [
        "---\n",
        "# Section 5: Reflecting on what models\n",
        "\n",
        "*Estimated timing to here from start of tutorial: 40 min*"
      ]
    },
    {
      "cell_type": "markdown",
      "metadata": {
        "execution": {},
        "id": "cFjHGhdS3bkq"
      },
      "source": [
        "## Think! 5: Reflecting on what models\n",
        "\n",
        "Please discuss the following questions for around 10 minutes with your group:\n",
        "- Have you seen what models before?\n",
        "- Have you ever done one?\n",
        "- Why are what models useful?\n",
        "- When are they possible? Does your field have what models?\n",
        "- What do we learn from constructing them?"
      ]
    },
    {
      "cell_type": "code",
      "execution_count": null,
      "metadata": {
        "cellView": "form",
        "execution": {},
        "id": "x-g-FwfI3bkq"
      },
      "outputs": [],
      "source": [
        "# @title Submit your feedback\n",
        "content_review(f\"{feedback_prefix}_Reflecting_on_what_models_Discussion\")"
      ]
    },
    {
      "cell_type": "markdown",
      "metadata": {
        "execution": {},
        "id": "3kcNnswi3bkq"
      },
      "source": [
        "---\n",
        "# Summary\n",
        "\n",
        "*Estimated timing of tutorial: 50 minutes*\n",
        "\n",
        "In this tutorial, we loaded some neural data and poked at it to understand how the dataset is organized. Then we made some basic plots to visualize (1) the average level of activity across the population and (2) the distribution of ISIs for an individual neuron. In the very last bit, we started to think about using mathematical formalisms to understand or explain some physiological phenomenon. All of this only allowed us to understand \"What\" the data looks like.\n",
        "\n",
        "This is the first step towards developing models that can tell us something about the brain. That's what we'll focus on in the next two tutorials."
      ]
    }
  ],
  "metadata": {
    "colab": {
      "name": "W1D1_Tutorial1",
      "provenance": [],
      "toc_visible": true,
      "include_colab_link": true
    },
    "kernel": {
      "display_name": "Python 3",
      "language": "python",
      "name": "python3"
    },
    "kernelspec": {
      "display_name": "Python 3",
      "name": "python3"
    },
    "language_info": {
      "codemirror_mode": {
        "name": "ipython",
        "version": 3
      },
      "file_extension": ".py",
      "mimetype": "text/x-python",
      "name": "python",
      "nbconvert_exporter": "python",
      "pygments_lexer": "ipython3",
      "version": "3.9.17"
    },
    "widgets": {
      "application/vnd.jupyter.widget-state+json": {
        "5b83a03feb8d40359ee4a43a78fdd983": {
          "model_module": "@jupyter-widgets/controls",
          "model_name": "TabModel",
          "model_module_version": "1.5.0",
          "state": {
            "_dom_classes": [],
            "_model_module": "@jupyter-widgets/controls",
            "_model_module_version": "1.5.0",
            "_model_name": "TabModel",
            "_titles": {
              "0": "Youtube",
              "1": "Bilibili"
            },
            "_view_count": null,
            "_view_module": "@jupyter-widgets/controls",
            "_view_module_version": "1.5.0",
            "_view_name": "TabView",
            "box_style": "",
            "children": [
              "IPY_MODEL_4ca037261fe04b52b519c306de955b9a",
              "IPY_MODEL_472d4ccd62ed4d29884e1f45077472c8"
            ],
            "layout": "IPY_MODEL_bc1b23ba0be940828ca08ff8a03441a2",
            "selected_index": 0
          }
        },
        "4ca037261fe04b52b519c306de955b9a": {
          "model_module": "@jupyter-widgets/output",
          "model_name": "OutputModel",
          "model_module_version": "1.0.0",
          "state": {
            "_dom_classes": [],
            "_model_module": "@jupyter-widgets/output",
            "_model_module_version": "1.0.0",
            "_model_name": "OutputModel",
            "_view_count": null,
            "_view_module": "@jupyter-widgets/output",
            "_view_module_version": "1.0.0",
            "_view_name": "OutputView",
            "layout": "IPY_MODEL_a5a5f6058aa84631a618c482ff9ea3ac",
            "msg_id": "",
            "outputs": [
              {
                "output_type": "stream",
                "name": "stdout",
                "text": [
                  "Video available at https://youtube.com/watch?v=KgqR_jbjMQg\n"
                ]
              },
              {
                "output_type": "display_data",
                "data": {
                  "text/plain": "<IPython.lib.display.YouTubeVideo at 0x7f35d82124a0>",
                  "text/html": "\n        <iframe\n            width=\"854\"\n            height=\"480\"\n            src=\"https://www.youtube.com/embed/KgqR_jbjMQg?fs=1&rel=0\"\n            frameborder=\"0\"\n            allowfullscreen\n            \n        ></iframe>\n        ",
                  "image/jpeg": "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\n"
                },
                "metadata": {}
              }
            ]
          }
        },
        "472d4ccd62ed4d29884e1f45077472c8": {
          "model_module": "@jupyter-widgets/output",
          "model_name": "OutputModel",
          "model_module_version": "1.0.0",
          "state": {
            "_dom_classes": [],
            "_model_module": "@jupyter-widgets/output",
            "_model_module_version": "1.0.0",
            "_model_name": "OutputModel",
            "_view_count": null,
            "_view_module": "@jupyter-widgets/output",
            "_view_module_version": "1.0.0",
            "_view_name": "OutputView",
            "layout": "IPY_MODEL_16c9c18dc86b4661b051b14131bcde5b",
            "msg_id": "",
            "outputs": [
              {
                "output_type": "stream",
                "name": "stdout",
                "text": [
                  "Video available at https://www.bilibili.com/video/BV1mz4y1X7ot\n"
                ]
              },
              {
                "output_type": "display_data",
                "data": {
                  "text/plain": "<__main__.PlayVideo at 0x7f35d8212ef0>",
                  "text/html": "\n        <iframe\n            width=\"854\"\n            height=\"480\"\n            src=\"https://player.bilibili.com/player.html?bvid=BV1mz4y1X7ot&page=1?fs=1&autoplay=False\"\n            frameborder=\"0\"\n            allowfullscreen\n            \n        ></iframe>\n        "
                },
                "metadata": {}
              }
            ]
          }
        },
        "bc1b23ba0be940828ca08ff8a03441a2": {
          "model_module": "@jupyter-widgets/base",
          "model_name": "LayoutModel",
          "model_module_version": "1.2.0",
          "state": {
            "_model_module": "@jupyter-widgets/base",
            "_model_module_version": "1.2.0",
            "_model_name": "LayoutModel",
            "_view_count": null,
            "_view_module": "@jupyter-widgets/base",
            "_view_module_version": "1.2.0",
            "_view_name": "LayoutView",
            "align_content": null,
            "align_items": null,
            "align_self": null,
            "border": null,
            "bottom": null,
            "display": null,
            "flex": null,
            "flex_flow": null,
            "grid_area": null,
            "grid_auto_columns": null,
            "grid_auto_flow": null,
            "grid_auto_rows": null,
            "grid_column": null,
            "grid_gap": null,
            "grid_row": null,
            "grid_template_areas": null,
            "grid_template_columns": null,
            "grid_template_rows": null,
            "height": null,
            "justify_content": null,
            "justify_items": null,
            "left": null,
            "margin": null,
            "max_height": null,
            "max_width": null,
            "min_height": null,
            "min_width": null,
            "object_fit": null,
            "object_position": null,
            "order": null,
            "overflow": null,
            "overflow_x": null,
            "overflow_y": null,
            "padding": null,
            "right": null,
            "top": null,
            "visibility": null,
            "width": null
          }
        },
        "a5a5f6058aa84631a618c482ff9ea3ac": {
          "model_module": "@jupyter-widgets/base",
          "model_name": "LayoutModel",
          "model_module_version": "1.2.0",
          "state": {
            "_model_module": "@jupyter-widgets/base",
            "_model_module_version": "1.2.0",
            "_model_name": "LayoutModel",
            "_view_count": null,
            "_view_module": "@jupyter-widgets/base",
            "_view_module_version": "1.2.0",
            "_view_name": "LayoutView",
            "align_content": null,
            "align_items": null,
            "align_self": null,
            "border": null,
            "bottom": null,
            "display": null,
            "flex": null,
            "flex_flow": null,
            "grid_area": null,
            "grid_auto_columns": null,
            "grid_auto_flow": null,
            "grid_auto_rows": null,
            "grid_column": null,
            "grid_gap": null,
            "grid_row": null,
            "grid_template_areas": null,
            "grid_template_columns": null,
            "grid_template_rows": null,
            "height": null,
            "justify_content": null,
            "justify_items": null,
            "left": null,
            "margin": null,
            "max_height": null,
            "max_width": null,
            "min_height": null,
            "min_width": null,
            "object_fit": null,
            "object_position": null,
            "order": null,
            "overflow": null,
            "overflow_x": null,
            "overflow_y": null,
            "padding": null,
            "right": null,
            "top": null,
            "visibility": null,
            "width": null
          }
        },
        "16c9c18dc86b4661b051b14131bcde5b": {
          "model_module": "@jupyter-widgets/base",
          "model_name": "LayoutModel",
          "model_module_version": "1.2.0",
          "state": {
            "_model_module": "@jupyter-widgets/base",
            "_model_module_version": "1.2.0",
            "_model_name": "LayoutModel",
            "_view_count": null,
            "_view_module": "@jupyter-widgets/base",
            "_view_module_version": "1.2.0",
            "_view_name": "LayoutView",
            "align_content": null,
            "align_items": null,
            "align_self": null,
            "border": null,
            "bottom": null,
            "display": null,
            "flex": null,
            "flex_flow": null,
            "grid_area": null,
            "grid_auto_columns": null,
            "grid_auto_flow": null,
            "grid_auto_rows": null,
            "grid_column": null,
            "grid_gap": null,
            "grid_row": null,
            "grid_template_areas": null,
            "grid_template_columns": null,
            "grid_template_rows": null,
            "height": null,
            "justify_content": null,
            "justify_items": null,
            "left": null,
            "margin": null,
            "max_height": null,
            "max_width": null,
            "min_height": null,
            "min_width": null,
            "object_fit": null,
            "object_position": null,
            "order": null,
            "overflow": null,
            "overflow_x": null,
            "overflow_y": null,
            "padding": null,
            "right": null,
            "top": null,
            "visibility": null,
            "width": null
          }
        },
        "085e113023e6417b8661171f0bc60a64": {
          "model_module": "@jupyter-widgets/controls",
          "model_name": "TabModel",
          "model_module_version": "1.5.0",
          "state": {
            "_dom_classes": [],
            "_model_module": "@jupyter-widgets/controls",
            "_model_module_version": "1.5.0",
            "_model_name": "TabModel",
            "_titles": {
              "0": "Youtube",
              "1": "Bilibili"
            },
            "_view_count": null,
            "_view_module": "@jupyter-widgets/controls",
            "_view_module_version": "1.5.0",
            "_view_name": "TabView",
            "box_style": "",
            "children": [
              "IPY_MODEL_51b40d6b45994c35b1d5a5d24846da24",
              "IPY_MODEL_1bc574fe9e0b4799ab116a1d467de596"
            ],
            "layout": "IPY_MODEL_3b085a2edd154e5a80c78417b9b821b5",
            "selected_index": 0
          }
        },
        "51b40d6b45994c35b1d5a5d24846da24": {
          "model_module": "@jupyter-widgets/output",
          "model_name": "OutputModel",
          "model_module_version": "1.0.0",
          "state": {
            "_dom_classes": [],
            "_model_module": "@jupyter-widgets/output",
            "_model_module_version": "1.0.0",
            "_model_name": "OutputModel",
            "_view_count": null,
            "_view_module": "@jupyter-widgets/output",
            "_view_module_version": "1.0.0",
            "_view_name": "OutputView",
            "layout": "IPY_MODEL_8db54e43aa45477397b9cabe13657ee5",
            "msg_id": "",
            "outputs": [
              {
                "output_type": "stream",
                "name": "stdout",
                "text": [
                  "Video available at https://youtube.com/watch?v=oHwYWUI_o1U\n"
                ]
              },
              {
                "output_type": "display_data",
                "data": {
                  "text/plain": "<IPython.lib.display.YouTubeVideo at 0x7f35d8233970>",
                  "text/html": "\n        <iframe\n            width=\"854\"\n            height=\"480\"\n            src=\"https://www.youtube.com/embed/oHwYWUI_o1U?fs=1&rel=0\"\n            frameborder=\"0\"\n            allowfullscreen\n            \n        ></iframe>\n        ",
                  "image/jpeg": "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\n"
                },
                "metadata": {}
              }
            ]
          }
        },
        "1bc574fe9e0b4799ab116a1d467de596": {
          "model_module": "@jupyter-widgets/output",
          "model_name": "OutputModel",
          "model_module_version": "1.0.0",
          "state": {
            "_dom_classes": [],
            "_model_module": "@jupyter-widgets/output",
            "_model_module_version": "1.0.0",
            "_model_name": "OutputModel",
            "_view_count": null,
            "_view_module": "@jupyter-widgets/output",
            "_view_module_version": "1.0.0",
            "_view_name": "OutputView",
            "layout": "IPY_MODEL_a8a69fbfc8294fe4ae311d38855a2ff0",
            "msg_id": "",
            "outputs": [
              {
                "output_type": "stream",
                "name": "stdout",
                "text": [
                  "Video available at https://www.bilibili.com/video/BV1Hp4y1S7Au\n"
                ]
              },
              {
                "output_type": "display_data",
                "data": {
                  "text/plain": "<__main__.PlayVideo at 0x7f35d8233fa0>",
                  "text/html": "\n        <iframe\n            width=\"854\"\n            height=\"480\"\n            src=\"https://player.bilibili.com/player.html?bvid=BV1Hp4y1S7Au&page=1?fs=1&autoplay=False\"\n            frameborder=\"0\"\n            allowfullscreen\n            \n        ></iframe>\n        "
                },
                "metadata": {}
              }
            ]
          }
        },
        "3b085a2edd154e5a80c78417b9b821b5": {
          "model_module": "@jupyter-widgets/base",
          "model_name": "LayoutModel",
          "model_module_version": "1.2.0",
          "state": {
            "_model_module": "@jupyter-widgets/base",
            "_model_module_version": "1.2.0",
            "_model_name": "LayoutModel",
            "_view_count": null,
            "_view_module": "@jupyter-widgets/base",
            "_view_module_version": "1.2.0",
            "_view_name": "LayoutView",
            "align_content": null,
            "align_items": null,
            "align_self": null,
            "border": null,
            "bottom": null,
            "display": null,
            "flex": null,
            "flex_flow": null,
            "grid_area": null,
            "grid_auto_columns": null,
            "grid_auto_flow": null,
            "grid_auto_rows": null,
            "grid_column": null,
            "grid_gap": null,
            "grid_row": null,
            "grid_template_areas": null,
            "grid_template_columns": null,
            "grid_template_rows": null,
            "height": null,
            "justify_content": null,
            "justify_items": null,
            "left": null,
            "margin": null,
            "max_height": null,
            "max_width": null,
            "min_height": null,
            "min_width": null,
            "object_fit": null,
            "object_position": null,
            "order": null,
            "overflow": null,
            "overflow_x": null,
            "overflow_y": null,
            "padding": null,
            "right": null,
            "top": null,
            "visibility": null,
            "width": null
          }
        },
        "8db54e43aa45477397b9cabe13657ee5": {
          "model_module": "@jupyter-widgets/base",
          "model_name": "LayoutModel",
          "model_module_version": "1.2.0",
          "state": {
            "_model_module": "@jupyter-widgets/base",
            "_model_module_version": "1.2.0",
            "_model_name": "LayoutModel",
            "_view_count": null,
            "_view_module": "@jupyter-widgets/base",
            "_view_module_version": "1.2.0",
            "_view_name": "LayoutView",
            "align_content": null,
            "align_items": null,
            "align_self": null,
            "border": null,
            "bottom": null,
            "display": null,
            "flex": null,
            "flex_flow": null,
            "grid_area": null,
            "grid_auto_columns": null,
            "grid_auto_flow": null,
            "grid_auto_rows": null,
            "grid_column": null,
            "grid_gap": null,
            "grid_row": null,
            "grid_template_areas": null,
            "grid_template_columns": null,
            "grid_template_rows": null,
            "height": null,
            "justify_content": null,
            "justify_items": null,
            "left": null,
            "margin": null,
            "max_height": null,
            "max_width": null,
            "min_height": null,
            "min_width": null,
            "object_fit": null,
            "object_position": null,
            "order": null,
            "overflow": null,
            "overflow_x": null,
            "overflow_y": null,
            "padding": null,
            "right": null,
            "top": null,
            "visibility": null,
            "width": null
          }
        },
        "a8a69fbfc8294fe4ae311d38855a2ff0": {
          "model_module": "@jupyter-widgets/base",
          "model_name": "LayoutModel",
          "model_module_version": "1.2.0",
          "state": {
            "_model_module": "@jupyter-widgets/base",
            "_model_module_version": "1.2.0",
            "_model_name": "LayoutModel",
            "_view_count": null,
            "_view_module": "@jupyter-widgets/base",
            "_view_module_version": "1.2.0",
            "_view_name": "LayoutView",
            "align_content": null,
            "align_items": null,
            "align_self": null,
            "border": null,
            "bottom": null,
            "display": null,
            "flex": null,
            "flex_flow": null,
            "grid_area": null,
            "grid_auto_columns": null,
            "grid_auto_flow": null,
            "grid_auto_rows": null,
            "grid_column": null,
            "grid_gap": null,
            "grid_row": null,
            "grid_template_areas": null,
            "grid_template_columns": null,
            "grid_template_rows": null,
            "height": null,
            "justify_content": null,
            "justify_items": null,
            "left": null,
            "margin": null,
            "max_height": null,
            "max_width": null,
            "min_height": null,
            "min_width": null,
            "object_fit": null,
            "object_position": null,
            "order": null,
            "overflow": null,
            "overflow_x": null,
            "overflow_y": null,
            "padding": null,
            "right": null,
            "top": null,
            "visibility": null,
            "width": null
          }
        },
        "7e172a1f35b64505a19963b984c78f61": {
          "model_module": "@jupyter-widgets/controls",
          "model_name": "TabModel",
          "model_module_version": "1.5.0",
          "state": {
            "_dom_classes": [],
            "_model_module": "@jupyter-widgets/controls",
            "_model_module_version": "1.5.0",
            "_model_name": "TabModel",
            "_titles": {
              "0": "Youtube",
              "1": "Bilibili"
            },
            "_view_count": null,
            "_view_module": "@jupyter-widgets/controls",
            "_view_module_version": "1.5.0",
            "_view_name": "TabView",
            "box_style": "",
            "children": [
              "IPY_MODEL_decd0fe5b74e431297199e05e29bef15",
              "IPY_MODEL_b32cd4c3f77d46639ad3be6b56e30758"
            ],
            "layout": "IPY_MODEL_879718cb5911496a9acad605b5809347",
            "selected_index": 0
          }
        },
        "decd0fe5b74e431297199e05e29bef15": {
          "model_module": "@jupyter-widgets/output",
          "model_name": "OutputModel",
          "model_module_version": "1.0.0",
          "state": {
            "_dom_classes": [],
            "_model_module": "@jupyter-widgets/output",
            "_model_module_version": "1.0.0",
            "_model_name": "OutputModel",
            "_view_count": null,
            "_view_module": "@jupyter-widgets/output",
            "_view_module_version": "1.0.0",
            "_view_name": "OutputView",
            "layout": "IPY_MODEL_faac52870cd440029152406126d8ba31",
            "msg_id": "",
            "outputs": [
              {
                "output_type": "stream",
                "name": "stdout",
                "text": [
                  "Video available at https://youtube.com/watch?v=QGA5FCW7kkA\n"
                ]
              },
              {
                "output_type": "display_data",
                "data": {
                  "text/plain": "<IPython.lib.display.YouTubeVideo at 0x7f35c52ced70>",
                  "text/html": "\n        <iframe\n            width=\"854\"\n            height=\"480\"\n            src=\"https://www.youtube.com/embed/QGA5FCW7kkA?fs=1&rel=0\"\n            frameborder=\"0\"\n            allowfullscreen\n            \n        ></iframe>\n        ",
                  "image/jpeg": "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\n"
                },
                "metadata": {}
              }
            ]
          }
        },
        "b32cd4c3f77d46639ad3be6b56e30758": {
          "model_module": "@jupyter-widgets/output",
          "model_name": "OutputModel",
          "model_module_version": "1.0.0",
          "state": {
            "_dom_classes": [],
            "_model_module": "@jupyter-widgets/output",
            "_model_module_version": "1.0.0",
            "_model_name": "OutputModel",
            "_view_count": null,
            "_view_module": "@jupyter-widgets/output",
            "_view_module_version": "1.0.0",
            "_view_name": "OutputView",
            "layout": "IPY_MODEL_7095d70f525e4a5ca6bd57a0dd08f1ad",
            "msg_id": "",
            "outputs": [
              {
                "output_type": "stream",
                "name": "stdout",
                "text": [
                  "Video available at https://www.bilibili.com/video/BV1dt4y1Q7C5\n"
                ]
              },
              {
                "output_type": "display_data",
                "data": {
                  "text/plain": "<__main__.PlayVideo at 0x7f35c52cece0>",
                  "text/html": "\n        <iframe\n            width=\"854\"\n            height=\"480\"\n            src=\"https://player.bilibili.com/player.html?bvid=BV1dt4y1Q7C5&page=1?fs=1&autoplay=False\"\n            frameborder=\"0\"\n            allowfullscreen\n            \n        ></iframe>\n        "
                },
                "metadata": {}
              }
            ]
          }
        },
        "879718cb5911496a9acad605b5809347": {
          "model_module": "@jupyter-widgets/base",
          "model_name": "LayoutModel",
          "model_module_version": "1.2.0",
          "state": {
            "_model_module": "@jupyter-widgets/base",
            "_model_module_version": "1.2.0",
            "_model_name": "LayoutModel",
            "_view_count": null,
            "_view_module": "@jupyter-widgets/base",
            "_view_module_version": "1.2.0",
            "_view_name": "LayoutView",
            "align_content": null,
            "align_items": null,
            "align_self": null,
            "border": null,
            "bottom": null,
            "display": null,
            "flex": null,
            "flex_flow": null,
            "grid_area": null,
            "grid_auto_columns": null,
            "grid_auto_flow": null,
            "grid_auto_rows": null,
            "grid_column": null,
            "grid_gap": null,
            "grid_row": null,
            "grid_template_areas": null,
            "grid_template_columns": null,
            "grid_template_rows": null,
            "height": null,
            "justify_content": null,
            "justify_items": null,
            "left": null,
            "margin": null,
            "max_height": null,
            "max_width": null,
            "min_height": null,
            "min_width": null,
            "object_fit": null,
            "object_position": null,
            "order": null,
            "overflow": null,
            "overflow_x": null,
            "overflow_y": null,
            "padding": null,
            "right": null,
            "top": null,
            "visibility": null,
            "width": null
          }
        },
        "faac52870cd440029152406126d8ba31": {
          "model_module": "@jupyter-widgets/base",
          "model_name": "LayoutModel",
          "model_module_version": "1.2.0",
          "state": {
            "_model_module": "@jupyter-widgets/base",
            "_model_module_version": "1.2.0",
            "_model_name": "LayoutModel",
            "_view_count": null,
            "_view_module": "@jupyter-widgets/base",
            "_view_module_version": "1.2.0",
            "_view_name": "LayoutView",
            "align_content": null,
            "align_items": null,
            "align_self": null,
            "border": null,
            "bottom": null,
            "display": null,
            "flex": null,
            "flex_flow": null,
            "grid_area": null,
            "grid_auto_columns": null,
            "grid_auto_flow": null,
            "grid_auto_rows": null,
            "grid_column": null,
            "grid_gap": null,
            "grid_row": null,
            "grid_template_areas": null,
            "grid_template_columns": null,
            "grid_template_rows": null,
            "height": null,
            "justify_content": null,
            "justify_items": null,
            "left": null,
            "margin": null,
            "max_height": null,
            "max_width": null,
            "min_height": null,
            "min_width": null,
            "object_fit": null,
            "object_position": null,
            "order": null,
            "overflow": null,
            "overflow_x": null,
            "overflow_y": null,
            "padding": null,
            "right": null,
            "top": null,
            "visibility": null,
            "width": null
          }
        },
        "7095d70f525e4a5ca6bd57a0dd08f1ad": {
          "model_module": "@jupyter-widgets/base",
          "model_name": "LayoutModel",
          "model_module_version": "1.2.0",
          "state": {
            "_model_module": "@jupyter-widgets/base",
            "_model_module_version": "1.2.0",
            "_model_name": "LayoutModel",
            "_view_count": null,
            "_view_module": "@jupyter-widgets/base",
            "_view_module_version": "1.2.0",
            "_view_name": "LayoutView",
            "align_content": null,
            "align_items": null,
            "align_self": null,
            "border": null,
            "bottom": null,
            "display": null,
            "flex": null,
            "flex_flow": null,
            "grid_area": null,
            "grid_auto_columns": null,
            "grid_auto_flow": null,
            "grid_auto_rows": null,
            "grid_column": null,
            "grid_gap": null,
            "grid_row": null,
            "grid_template_areas": null,
            "grid_template_columns": null,
            "grid_template_rows": null,
            "height": null,
            "justify_content": null,
            "justify_items": null,
            "left": null,
            "margin": null,
            "max_height": null,
            "max_width": null,
            "min_height": null,
            "min_width": null,
            "object_fit": null,
            "object_position": null,
            "order": null,
            "overflow": null,
            "overflow_x": null,
            "overflow_y": null,
            "padding": null,
            "right": null,
            "top": null,
            "visibility": null,
            "width": null
          }
        },
        "f1f035ee5feb4072be7e0d2a47111df3": {
          "model_module": "@jupyter-widgets/controls",
          "model_name": "VBoxModel",
          "model_module_version": "1.5.0",
          "state": {
            "_dom_classes": [],
            "_model_module": "@jupyter-widgets/controls",
            "_model_module_version": "1.5.0",
            "_model_name": "VBoxModel",
            "_view_count": null,
            "_view_module": "@jupyter-widgets/controls",
            "_view_module_version": "1.5.0",
            "_view_name": "VBoxView",
            "box_style": "",
            "children": [
              "IPY_MODEL_5a1f11d92f9642a5b33ea3b1e6bfd31a",
              "IPY_MODEL_607aca37bc824a11bf83e1bc900c8092",
              "IPY_MODEL_c9a008d55d2b4192950563f22c1198be",
              "IPY_MODEL_d49d5c754a53456cb821245b29d71cb1"
            ],
            "layout": "IPY_MODEL_2e597b84ef074a52947ed90b27ca9505"
          }
        },
        "5a1f11d92f9642a5b33ea3b1e6bfd31a": {
          "model_module": "@jupyter-widgets/controls",
          "model_name": "LabelModel",
          "model_module_version": "1.5.0",
          "state": {
            "_dom_classes": [],
            "_model_module": "@jupyter-widgets/controls",
            "_model_module_version": "1.5.0",
            "_model_name": "LabelModel",
            "_view_count": null,
            "_view_module": "@jupyter-widgets/controls",
            "_view_module_version": "1.5.0",
            "_view_name": "LabelView",
            "description": "",
            "description_tooltip": null,
            "layout": "IPY_MODEL_cc27693fa85a408ba4190c73fcf59c2f",
            "placeholder": "​",
            "style": "IPY_MODEL_ae5eec5b1671421ba2d31255338234b5",
            "value": ""
          }
        },
        "607aca37bc824a11bf83e1bc900c8092": {
          "model_module": "@jupyter-widgets/controls",
          "model_name": "HBoxModel",
          "model_module_version": "1.5.0",
          "state": {
            "_dom_classes": [],
            "_model_module": "@jupyter-widgets/controls",
            "_model_module_version": "1.5.0",
            "_model_name": "HBoxModel",
            "_view_count": null,
            "_view_module": "@jupyter-widgets/controls",
            "_view_module_version": "1.5.0",
            "_view_name": "HBoxView",
            "box_style": "",
            "children": [
              "IPY_MODEL_4329400df00b4fe587775627bd6ebfec",
              "IPY_MODEL_f0a2a0f6f1244567b04bd678def193a0",
              "IPY_MODEL_796166d0fa8e499fb9466c6737704672"
            ],
            "layout": "IPY_MODEL_cb3eb047d9dd4c9c81ebde29b44c3da4"
          }
        },
        "c9a008d55d2b4192950563f22c1198be": {
          "model_module": "@jupyter-widgets/controls",
          "model_name": "HBoxModel",
          "model_module_version": "1.5.0",
          "state": {
            "_dom_classes": [],
            "_model_module": "@jupyter-widgets/controls",
            "_model_module_version": "1.5.0",
            "_model_name": "HBoxModel",
            "_view_count": null,
            "_view_module": "@jupyter-widgets/controls",
            "_view_module_version": "1.5.0",
            "_view_name": "HBoxView",
            "box_style": "",
            "children": [
              "IPY_MODEL_0a7c443950204915ae374a5bdcbb8a52",
              "IPY_MODEL_c0a8f983bda74f30ac895b296cc23af3"
            ],
            "layout": "IPY_MODEL_00b74da3349a4ca7ac83e23fa199d9b7"
          }
        },
        "d49d5c754a53456cb821245b29d71cb1": {
          "model_module": "@jupyter-widgets/controls",
          "model_name": "LabelModel",
          "model_module_version": "1.5.0",
          "state": {
            "_dom_classes": [],
            "_model_module": "@jupyter-widgets/controls",
            "_model_module_version": "1.5.0",
            "_model_name": "LabelModel",
            "_view_count": null,
            "_view_module": "@jupyter-widgets/controls",
            "_view_module_version": "1.5.0",
            "_view_name": "LabelView",
            "description": "",
            "description_tooltip": null,
            "layout": "IPY_MODEL_e0381a4f55d44cf3a45af0a90ab0d8e4",
            "placeholder": "​",
            "style": "IPY_MODEL_764aa69882d846e8b8a14b3ae7924880",
            "value": "Thanks for your feedback!"
          }
        },
        "2e597b84ef074a52947ed90b27ca9505": {
          "model_module": "@jupyter-widgets/base",
          "model_name": "LayoutModel",
          "model_module_version": "1.2.0",
          "state": {
            "_model_module": "@jupyter-widgets/base",
            "_model_module_version": "1.2.0",
            "_model_name": "LayoutModel",
            "_view_count": null,
            "_view_module": "@jupyter-widgets/base",
            "_view_module_version": "1.2.0",
            "_view_name": "LayoutView",
            "align_content": null,
            "align_items": null,
            "align_self": null,
            "border": null,
            "bottom": null,
            "display": null,
            "flex": null,
            "flex_flow": null,
            "grid_area": null,
            "grid_auto_columns": null,
            "grid_auto_flow": null,
            "grid_auto_rows": null,
            "grid_column": null,
            "grid_gap": null,
            "grid_row": null,
            "grid_template_areas": null,
            "grid_template_columns": null,
            "grid_template_rows": null,
            "height": null,
            "justify_content": null,
            "justify_items": null,
            "left": null,
            "margin": null,
            "max_height": null,
            "max_width": null,
            "min_height": null,
            "min_width": null,
            "object_fit": null,
            "object_position": null,
            "order": null,
            "overflow": null,
            "overflow_x": null,
            "overflow_y": null,
            "padding": null,
            "right": null,
            "top": null,
            "visibility": null,
            "width": null
          }
        },
        "cc27693fa85a408ba4190c73fcf59c2f": {
          "model_module": "@jupyter-widgets/base",
          "model_name": "LayoutModel",
          "model_module_version": "1.2.0",
          "state": {
            "_model_module": "@jupyter-widgets/base",
            "_model_module_version": "1.2.0",
            "_model_name": "LayoutModel",
            "_view_count": null,
            "_view_module": "@jupyter-widgets/base",
            "_view_module_version": "1.2.0",
            "_view_name": "LayoutView",
            "align_content": null,
            "align_items": null,
            "align_self": null,
            "border": null,
            "bottom": null,
            "display": null,
            "flex": null,
            "flex_flow": null,
            "grid_area": null,
            "grid_auto_columns": null,
            "grid_auto_flow": null,
            "grid_auto_rows": null,
            "grid_column": null,
            "grid_gap": null,
            "grid_row": null,
            "grid_template_areas": null,
            "grid_template_columns": null,
            "grid_template_rows": null,
            "height": null,
            "justify_content": null,
            "justify_items": null,
            "left": null,
            "margin": null,
            "max_height": null,
            "max_width": null,
            "min_height": null,
            "min_width": null,
            "object_fit": null,
            "object_position": null,
            "order": null,
            "overflow": null,
            "overflow_x": null,
            "overflow_y": null,
            "padding": null,
            "right": null,
            "top": null,
            "visibility": null,
            "width": null
          }
        },
        "ae5eec5b1671421ba2d31255338234b5": {
          "model_module": "@jupyter-widgets/controls",
          "model_name": "DescriptionStyleModel",
          "model_module_version": "1.5.0",
          "state": {
            "_model_module": "@jupyter-widgets/controls",
            "_model_module_version": "1.5.0",
            "_model_name": "DescriptionStyleModel",
            "_view_count": null,
            "_view_module": "@jupyter-widgets/base",
            "_view_module_version": "1.2.0",
            "_view_name": "StyleView",
            "description_width": ""
          }
        },
        "4329400df00b4fe587775627bd6ebfec": {
          "model_module": "@jupyter-widgets/controls",
          "model_name": "ButtonModel",
          "model_module_version": "1.5.0",
          "state": {
            "_dom_classes": [
              "happy"
            ],
            "_model_module": "@jupyter-widgets/controls",
            "_model_module_version": "1.5.0",
            "_model_name": "ButtonModel",
            "_view_count": null,
            "_view_module": "@jupyter-widgets/controls",
            "_view_module_version": "1.5.0",
            "_view_name": "ButtonView",
            "button_style": "",
            "description": "🙂",
            "disabled": false,
            "icon": "",
            "layout": "IPY_MODEL_12d10758cc43414688782a5137fabacf",
            "style": "IPY_MODEL_68fd849f3cbf44f18a951a1ecd53496d",
            "tooltip": "Happy"
          }
        },
        "f0a2a0f6f1244567b04bd678def193a0": {
          "model_module": "@jupyter-widgets/controls",
          "model_name": "ButtonModel",
          "model_module_version": "1.5.0",
          "state": {
            "_dom_classes": [
              "medium"
            ],
            "_model_module": "@jupyter-widgets/controls",
            "_model_module_version": "1.5.0",
            "_model_name": "ButtonModel",
            "_view_count": null,
            "_view_module": "@jupyter-widgets/controls",
            "_view_module_version": "1.5.0",
            "_view_name": "ButtonView",
            "button_style": "",
            "description": "😐",
            "disabled": false,
            "icon": "",
            "layout": "IPY_MODEL_eb387acc05ab46a6bd23721f82223ba2",
            "style": "IPY_MODEL_d26d6f05c8ff4f92a883aea75690f105",
            "tooltip": "Medium"
          }
        },
        "796166d0fa8e499fb9466c6737704672": {
          "model_module": "@jupyter-widgets/controls",
          "model_name": "ButtonModel",
          "model_module_version": "1.5.0",
          "state": {
            "_dom_classes": [
              "sad"
            ],
            "_model_module": "@jupyter-widgets/controls",
            "_model_module_version": "1.5.0",
            "_model_name": "ButtonModel",
            "_view_count": null,
            "_view_module": "@jupyter-widgets/controls",
            "_view_module_version": "1.5.0",
            "_view_name": "ButtonView",
            "button_style": "",
            "description": "🙁",
            "disabled": false,
            "icon": "",
            "layout": "IPY_MODEL_0c890b0fe3c24c8ebee250c6be682d00",
            "style": "IPY_MODEL_27c4c1559a2a4d7d98814242b8926663",
            "tooltip": "Sad"
          }
        },
        "cb3eb047d9dd4c9c81ebde29b44c3da4": {
          "model_module": "@jupyter-widgets/base",
          "model_name": "LayoutModel",
          "model_module_version": "1.2.0",
          "state": {
            "_model_module": "@jupyter-widgets/base",
            "_model_module_version": "1.2.0",
            "_model_name": "LayoutModel",
            "_view_count": null,
            "_view_module": "@jupyter-widgets/base",
            "_view_module_version": "1.2.0",
            "_view_name": "LayoutView",
            "align_content": null,
            "align_items": null,
            "align_self": null,
            "border": null,
            "bottom": null,
            "display": null,
            "flex": null,
            "flex_flow": null,
            "grid_area": null,
            "grid_auto_columns": null,
            "grid_auto_flow": null,
            "grid_auto_rows": null,
            "grid_column": null,
            "grid_gap": null,
            "grid_row": null,
            "grid_template_areas": null,
            "grid_template_columns": null,
            "grid_template_rows": null,
            "height": null,
            "justify_content": null,
            "justify_items": null,
            "left": null,
            "margin": null,
            "max_height": null,
            "max_width": null,
            "min_height": null,
            "min_width": null,
            "object_fit": null,
            "object_position": null,
            "order": null,
            "overflow": null,
            "overflow_x": null,
            "overflow_y": null,
            "padding": null,
            "right": null,
            "top": null,
            "visibility": null,
            "width": null
          }
        },
        "0a7c443950204915ae374a5bdcbb8a52": {
          "model_module": "@jupyter-widgets/controls",
          "model_name": "TextareaModel",
          "model_module_version": "1.5.0",
          "state": {
            "_dom_classes": [],
            "_model_module": "@jupyter-widgets/controls",
            "_model_module_version": "1.5.0",
            "_model_name": "TextareaModel",
            "_view_count": null,
            "_view_module": "@jupyter-widgets/controls",
            "_view_module_version": "1.5.0",
            "_view_name": "TextareaView",
            "continuous_update": true,
            "description": "",
            "description_tooltip": null,
            "disabled": false,
            "layout": "IPY_MODEL_42bfe4b6653a429bb4690b322713cfe0",
            "placeholder": "We want your feedback!",
            "rows": null,
            "style": "IPY_MODEL_ea95f65bc9b648f4a423e15420c30115",
            "value": ""
          }
        },
        "c0a8f983bda74f30ac895b296cc23af3": {
          "model_module": "@jupyter-widgets/controls",
          "model_name": "ButtonModel",
          "model_module_version": "1.5.0",
          "state": {
            "_dom_classes": [],
            "_model_module": "@jupyter-widgets/controls",
            "_model_module_version": "1.5.0",
            "_model_name": "ButtonModel",
            "_view_count": null,
            "_view_module": "@jupyter-widgets/controls",
            "_view_module_version": "1.5.0",
            "_view_name": "ButtonView",
            "button_style": "",
            "description": "Submit",
            "disabled": false,
            "icon": "",
            "layout": "IPY_MODEL_5673af87ce1f4fa79a93dd7facdf3ec7",
            "style": "IPY_MODEL_b4f3a778b0f9485b8ead6e3f423bd78d",
            "tooltip": ""
          }
        },
        "00b74da3349a4ca7ac83e23fa199d9b7": {
          "model_module": "@jupyter-widgets/base",
          "model_name": "LayoutModel",
          "model_module_version": "1.2.0",
          "state": {
            "_model_module": "@jupyter-widgets/base",
            "_model_module_version": "1.2.0",
            "_model_name": "LayoutModel",
            "_view_count": null,
            "_view_module": "@jupyter-widgets/base",
            "_view_module_version": "1.2.0",
            "_view_name": "LayoutView",
            "align_content": null,
            "align_items": null,
            "align_self": null,
            "border": null,
            "bottom": null,
            "display": "none",
            "flex": null,
            "flex_flow": null,
            "grid_area": null,
            "grid_auto_columns": null,
            "grid_auto_flow": null,
            "grid_auto_rows": null,
            "grid_column": null,
            "grid_gap": null,
            "grid_row": null,
            "grid_template_areas": null,
            "grid_template_columns": null,
            "grid_template_rows": null,
            "height": null,
            "justify_content": null,
            "justify_items": null,
            "left": null,
            "margin": null,
            "max_height": null,
            "max_width": null,
            "min_height": null,
            "min_width": null,
            "object_fit": null,
            "object_position": null,
            "order": null,
            "overflow": null,
            "overflow_x": null,
            "overflow_y": null,
            "padding": null,
            "right": null,
            "top": null,
            "visibility": null,
            "width": null
          }
        },
        "e0381a4f55d44cf3a45af0a90ab0d8e4": {
          "model_module": "@jupyter-widgets/base",
          "model_name": "LayoutModel",
          "model_module_version": "1.2.0",
          "state": {
            "_model_module": "@jupyter-widgets/base",
            "_model_module_version": "1.2.0",
            "_model_name": "LayoutModel",
            "_view_count": null,
            "_view_module": "@jupyter-widgets/base",
            "_view_module_version": "1.2.0",
            "_view_name": "LayoutView",
            "align_content": null,
            "align_items": null,
            "align_self": null,
            "border": null,
            "bottom": null,
            "display": "block",
            "flex": null,
            "flex_flow": null,
            "grid_area": null,
            "grid_auto_columns": null,
            "grid_auto_flow": null,
            "grid_auto_rows": null,
            "grid_column": null,
            "grid_gap": null,
            "grid_row": null,
            "grid_template_areas": null,
            "grid_template_columns": null,
            "grid_template_rows": null,
            "height": null,
            "justify_content": null,
            "justify_items": null,
            "left": null,
            "margin": null,
            "max_height": null,
            "max_width": null,
            "min_height": null,
            "min_width": null,
            "object_fit": null,
            "object_position": null,
            "order": null,
            "overflow": null,
            "overflow_x": null,
            "overflow_y": null,
            "padding": null,
            "right": null,
            "top": null,
            "visibility": null,
            "width": null
          }
        },
        "764aa69882d846e8b8a14b3ae7924880": {
          "model_module": "@jupyter-widgets/controls",
          "model_name": "DescriptionStyleModel",
          "model_module_version": "1.5.0",
          "state": {
            "_model_module": "@jupyter-widgets/controls",
            "_model_module_version": "1.5.0",
            "_model_name": "DescriptionStyleModel",
            "_view_count": null,
            "_view_module": "@jupyter-widgets/base",
            "_view_module_version": "1.2.0",
            "_view_name": "StyleView",
            "description_width": ""
          }
        },
        "12d10758cc43414688782a5137fabacf": {
          "model_module": "@jupyter-widgets/base",
          "model_name": "LayoutModel",
          "model_module_version": "1.2.0",
          "state": {
            "_model_module": "@jupyter-widgets/base",
            "_model_module_version": "1.2.0",
            "_model_name": "LayoutModel",
            "_view_count": null,
            "_view_module": "@jupyter-widgets/base",
            "_view_module_version": "1.2.0",
            "_view_name": "LayoutView",
            "align_content": null,
            "align_items": null,
            "align_self": null,
            "border": "2px solid #666666",
            "bottom": null,
            "display": null,
            "flex": null,
            "flex_flow": null,
            "grid_area": null,
            "grid_auto_columns": null,
            "grid_auto_flow": null,
            "grid_auto_rows": null,
            "grid_column": null,
            "grid_gap": null,
            "grid_row": null,
            "grid_template_areas": null,
            "grid_template_columns": null,
            "grid_template_rows": null,
            "height": "auto",
            "justify_content": null,
            "justify_items": null,
            "left": null,
            "margin": null,
            "max_height": null,
            "max_width": null,
            "min_height": null,
            "min_width": null,
            "object_fit": null,
            "object_position": null,
            "order": null,
            "overflow": null,
            "overflow_x": null,
            "overflow_y": null,
            "padding": null,
            "right": null,
            "top": null,
            "visibility": null,
            "width": "auto"
          }
        },
        "68fd849f3cbf44f18a951a1ecd53496d": {
          "model_module": "@jupyter-widgets/controls",
          "model_name": "ButtonStyleModel",
          "model_module_version": "1.5.0",
          "state": {
            "_model_module": "@jupyter-widgets/controls",
            "_model_module_version": "1.5.0",
            "_model_name": "ButtonStyleModel",
            "_view_count": null,
            "_view_module": "@jupyter-widgets/base",
            "_view_module_version": "1.2.0",
            "_view_name": "StyleView",
            "button_color": "#aaffaa",
            "font_weight": ""
          }
        },
        "eb387acc05ab46a6bd23721f82223ba2": {
          "model_module": "@jupyter-widgets/base",
          "model_name": "LayoutModel",
          "model_module_version": "1.2.0",
          "state": {
            "_model_module": "@jupyter-widgets/base",
            "_model_module_version": "1.2.0",
            "_model_name": "LayoutModel",
            "_view_count": null,
            "_view_module": "@jupyter-widgets/base",
            "_view_module_version": "1.2.0",
            "_view_name": "LayoutView",
            "align_content": null,
            "align_items": null,
            "align_self": null,
            "border": null,
            "bottom": null,
            "display": null,
            "flex": null,
            "flex_flow": null,
            "grid_area": null,
            "grid_auto_columns": null,
            "grid_auto_flow": null,
            "grid_auto_rows": null,
            "grid_column": null,
            "grid_gap": null,
            "grid_row": null,
            "grid_template_areas": null,
            "grid_template_columns": null,
            "grid_template_rows": null,
            "height": "auto",
            "justify_content": null,
            "justify_items": null,
            "left": null,
            "margin": null,
            "max_height": null,
            "max_width": null,
            "min_height": null,
            "min_width": null,
            "object_fit": null,
            "object_position": null,
            "order": null,
            "overflow": null,
            "overflow_x": null,
            "overflow_y": null,
            "padding": null,
            "right": null,
            "top": null,
            "visibility": null,
            "width": "auto"
          }
        },
        "d26d6f05c8ff4f92a883aea75690f105": {
          "model_module": "@jupyter-widgets/controls",
          "model_name": "ButtonStyleModel",
          "model_module_version": "1.5.0",
          "state": {
            "_model_module": "@jupyter-widgets/controls",
            "_model_module_version": "1.5.0",
            "_model_name": "ButtonStyleModel",
            "_view_count": null,
            "_view_module": "@jupyter-widgets/base",
            "_view_module_version": "1.2.0",
            "_view_name": "StyleView",
            "button_color": "#dddd77",
            "font_weight": ""
          }
        },
        "0c890b0fe3c24c8ebee250c6be682d00": {
          "model_module": "@jupyter-widgets/base",
          "model_name": "LayoutModel",
          "model_module_version": "1.2.0",
          "state": {
            "_model_module": "@jupyter-widgets/base",
            "_model_module_version": "1.2.0",
            "_model_name": "LayoutModel",
            "_view_count": null,
            "_view_module": "@jupyter-widgets/base",
            "_view_module_version": "1.2.0",
            "_view_name": "LayoutView",
            "align_content": null,
            "align_items": null,
            "align_self": null,
            "border": null,
            "bottom": null,
            "display": null,
            "flex": null,
            "flex_flow": null,
            "grid_area": null,
            "grid_auto_columns": null,
            "grid_auto_flow": null,
            "grid_auto_rows": null,
            "grid_column": null,
            "grid_gap": null,
            "grid_row": null,
            "grid_template_areas": null,
            "grid_template_columns": null,
            "grid_template_rows": null,
            "height": "auto",
            "justify_content": null,
            "justify_items": null,
            "left": null,
            "margin": null,
            "max_height": null,
            "max_width": null,
            "min_height": null,
            "min_width": null,
            "object_fit": null,
            "object_position": null,
            "order": null,
            "overflow": null,
            "overflow_x": null,
            "overflow_y": null,
            "padding": null,
            "right": null,
            "top": null,
            "visibility": null,
            "width": "auto"
          }
        },
        "27c4c1559a2a4d7d98814242b8926663": {
          "model_module": "@jupyter-widgets/controls",
          "model_name": "ButtonStyleModel",
          "model_module_version": "1.5.0",
          "state": {
            "_model_module": "@jupyter-widgets/controls",
            "_model_module_version": "1.5.0",
            "_model_name": "ButtonStyleModel",
            "_view_count": null,
            "_view_module": "@jupyter-widgets/base",
            "_view_module_version": "1.2.0",
            "_view_name": "StyleView",
            "button_color": "#ffaaaa",
            "font_weight": ""
          }
        },
        "42bfe4b6653a429bb4690b322713cfe0": {
          "model_module": "@jupyter-widgets/base",
          "model_name": "LayoutModel",
          "model_module_version": "1.2.0",
          "state": {
            "_model_module": "@jupyter-widgets/base",
            "_model_module_version": "1.2.0",
            "_model_name": "LayoutModel",
            "_view_count": null,
            "_view_module": "@jupyter-widgets/base",
            "_view_module_version": "1.2.0",
            "_view_name": "LayoutView",
            "align_content": null,
            "align_items": null,
            "align_self": null,
            "border": null,
            "bottom": null,
            "display": null,
            "flex": null,
            "flex_flow": null,
            "grid_area": null,
            "grid_auto_columns": null,
            "grid_auto_flow": null,
            "grid_auto_rows": null,
            "grid_column": null,
            "grid_gap": null,
            "grid_row": null,
            "grid_template_areas": null,
            "grid_template_columns": null,
            "grid_template_rows": null,
            "height": "auto",
            "justify_content": null,
            "justify_items": null,
            "left": null,
            "margin": null,
            "max_height": null,
            "max_width": null,
            "min_height": null,
            "min_width": null,
            "object_fit": null,
            "object_position": null,
            "order": null,
            "overflow": null,
            "overflow_x": null,
            "overflow_y": null,
            "padding": null,
            "right": null,
            "top": null,
            "visibility": null,
            "width": "auto"
          }
        },
        "ea95f65bc9b648f4a423e15420c30115": {
          "model_module": "@jupyter-widgets/controls",
          "model_name": "DescriptionStyleModel",
          "model_module_version": "1.5.0",
          "state": {
            "_model_module": "@jupyter-widgets/controls",
            "_model_module_version": "1.5.0",
            "_model_name": "DescriptionStyleModel",
            "_view_count": null,
            "_view_module": "@jupyter-widgets/base",
            "_view_module_version": "1.2.0",
            "_view_name": "StyleView",
            "description_width": ""
          }
        },
        "5673af87ce1f4fa79a93dd7facdf3ec7": {
          "model_module": "@jupyter-widgets/base",
          "model_name": "LayoutModel",
          "model_module_version": "1.2.0",
          "state": {
            "_model_module": "@jupyter-widgets/base",
            "_model_module_version": "1.2.0",
            "_model_name": "LayoutModel",
            "_view_count": null,
            "_view_module": "@jupyter-widgets/base",
            "_view_module_version": "1.2.0",
            "_view_name": "LayoutView",
            "align_content": null,
            "align_items": null,
            "align_self": null,
            "border": null,
            "bottom": null,
            "display": null,
            "flex": null,
            "flex_flow": null,
            "grid_area": null,
            "grid_auto_columns": null,
            "grid_auto_flow": null,
            "grid_auto_rows": null,
            "grid_column": null,
            "grid_gap": null,
            "grid_row": null,
            "grid_template_areas": null,
            "grid_template_columns": null,
            "grid_template_rows": null,
            "height": "auto",
            "justify_content": null,
            "justify_items": null,
            "left": null,
            "margin": null,
            "max_height": null,
            "max_width": null,
            "min_height": null,
            "min_width": null,
            "object_fit": null,
            "object_position": null,
            "order": null,
            "overflow": null,
            "overflow_x": null,
            "overflow_y": null,
            "padding": null,
            "right": null,
            "top": null,
            "visibility": null,
            "width": "auto"
          }
        },
        "b4f3a778b0f9485b8ead6e3f423bd78d": {
          "model_module": "@jupyter-widgets/controls",
          "model_name": "ButtonStyleModel",
          "model_module_version": "1.5.0",
          "state": {
            "_model_module": "@jupyter-widgets/controls",
            "_model_module_version": "1.5.0",
            "_model_name": "ButtonStyleModel",
            "_view_count": null,
            "_view_module": "@jupyter-widgets/base",
            "_view_module_version": "1.2.0",
            "_view_name": "StyleView",
            "button_color": null,
            "font_weight": ""
          }
        },
        "4ce6bf762d8c44eba2e84b216026613e": {
          "model_module": "@jupyter-widgets/controls",
          "model_name": "VBoxModel",
          "model_module_version": "1.5.0",
          "state": {
            "_dom_classes": [],
            "_model_module": "@jupyter-widgets/controls",
            "_model_module_version": "1.5.0",
            "_model_name": "VBoxModel",
            "_view_count": null,
            "_view_module": "@jupyter-widgets/controls",
            "_view_module_version": "1.5.0",
            "_view_name": "VBoxView",
            "box_style": "",
            "children": [
              "IPY_MODEL_5d241ae9fdb14a999e7d366e87c9b501",
              "IPY_MODEL_90f79cdf12f04b109f2e73ee1c4c271e",
              "IPY_MODEL_78024a3db8f94574968ac0e0546d87cb",
              "IPY_MODEL_5afb63cd329a439b8fa0d30c4871723b"
            ],
            "layout": "IPY_MODEL_e4815727eaed459e81e7bb991f4481bb"
          }
        },
        "5d241ae9fdb14a999e7d366e87c9b501": {
          "model_module": "@jupyter-widgets/controls",
          "model_name": "LabelModel",
          "model_module_version": "1.5.0",
          "state": {
            "_dom_classes": [],
            "_model_module": "@jupyter-widgets/controls",
            "_model_module_version": "1.5.0",
            "_model_name": "LabelModel",
            "_view_count": null,
            "_view_module": "@jupyter-widgets/controls",
            "_view_module_version": "1.5.0",
            "_view_name": "LabelView",
            "description": "",
            "description_tooltip": null,
            "layout": "IPY_MODEL_85218b6194d34f34bf6599c6d8a399a0",
            "placeholder": "​",
            "style": "IPY_MODEL_acef090c31c24be09aa8f01968493c23",
            "value": ""
          }
        },
        "90f79cdf12f04b109f2e73ee1c4c271e": {
          "model_module": "@jupyter-widgets/controls",
          "model_name": "HBoxModel",
          "model_module_version": "1.5.0",
          "state": {
            "_dom_classes": [],
            "_model_module": "@jupyter-widgets/controls",
            "_model_module_version": "1.5.0",
            "_model_name": "HBoxModel",
            "_view_count": null,
            "_view_module": "@jupyter-widgets/controls",
            "_view_module_version": "1.5.0",
            "_view_name": "HBoxView",
            "box_style": "",
            "children": [
              "IPY_MODEL_f82bd189545a48398713fa71a253d9da",
              "IPY_MODEL_75650288a06d4962b04ba5b006762930",
              "IPY_MODEL_a33bf85428644cf0b8b6b107e92b2765"
            ],
            "layout": "IPY_MODEL_e6aeb937c99f4a36939bce88ff6d263e"
          }
        },
        "78024a3db8f94574968ac0e0546d87cb": {
          "model_module": "@jupyter-widgets/controls",
          "model_name": "HBoxModel",
          "model_module_version": "1.5.0",
          "state": {
            "_dom_classes": [],
            "_model_module": "@jupyter-widgets/controls",
            "_model_module_version": "1.5.0",
            "_model_name": "HBoxModel",
            "_view_count": null,
            "_view_module": "@jupyter-widgets/controls",
            "_view_module_version": "1.5.0",
            "_view_name": "HBoxView",
            "box_style": "",
            "children": [
              "IPY_MODEL_e9b0b145415b4b0bb725a9437633795a",
              "IPY_MODEL_74d623e2f5204a969f8f6fef92ff4f8e"
            ],
            "layout": "IPY_MODEL_875a810104a04aa18923c75d2e738723"
          }
        },
        "5afb63cd329a439b8fa0d30c4871723b": {
          "model_module": "@jupyter-widgets/controls",
          "model_name": "LabelModel",
          "model_module_version": "1.5.0",
          "state": {
            "_dom_classes": [],
            "_model_module": "@jupyter-widgets/controls",
            "_model_module_version": "1.5.0",
            "_model_name": "LabelModel",
            "_view_count": null,
            "_view_module": "@jupyter-widgets/controls",
            "_view_module_version": "1.5.0",
            "_view_name": "LabelView",
            "description": "",
            "description_tooltip": null,
            "layout": "IPY_MODEL_5e527f2d3bf746c0a7b0ea93841d5bfc",
            "placeholder": "​",
            "style": "IPY_MODEL_1c4e719be453428c88503adf7cba431e",
            "value": "Thanks for your feedback!"
          }
        },
        "e4815727eaed459e81e7bb991f4481bb": {
          "model_module": "@jupyter-widgets/base",
          "model_name": "LayoutModel",
          "model_module_version": "1.2.0",
          "state": {
            "_model_module": "@jupyter-widgets/base",
            "_model_module_version": "1.2.0",
            "_model_name": "LayoutModel",
            "_view_count": null,
            "_view_module": "@jupyter-widgets/base",
            "_view_module_version": "1.2.0",
            "_view_name": "LayoutView",
            "align_content": null,
            "align_items": null,
            "align_self": null,
            "border": null,
            "bottom": null,
            "display": null,
            "flex": null,
            "flex_flow": null,
            "grid_area": null,
            "grid_auto_columns": null,
            "grid_auto_flow": null,
            "grid_auto_rows": null,
            "grid_column": null,
            "grid_gap": null,
            "grid_row": null,
            "grid_template_areas": null,
            "grid_template_columns": null,
            "grid_template_rows": null,
            "height": null,
            "justify_content": null,
            "justify_items": null,
            "left": null,
            "margin": null,
            "max_height": null,
            "max_width": null,
            "min_height": null,
            "min_width": null,
            "object_fit": null,
            "object_position": null,
            "order": null,
            "overflow": null,
            "overflow_x": null,
            "overflow_y": null,
            "padding": null,
            "right": null,
            "top": null,
            "visibility": null,
            "width": null
          }
        },
        "85218b6194d34f34bf6599c6d8a399a0": {
          "model_module": "@jupyter-widgets/base",
          "model_name": "LayoutModel",
          "model_module_version": "1.2.0",
          "state": {
            "_model_module": "@jupyter-widgets/base",
            "_model_module_version": "1.2.0",
            "_model_name": "LayoutModel",
            "_view_count": null,
            "_view_module": "@jupyter-widgets/base",
            "_view_module_version": "1.2.0",
            "_view_name": "LayoutView",
            "align_content": null,
            "align_items": null,
            "align_self": null,
            "border": null,
            "bottom": null,
            "display": null,
            "flex": null,
            "flex_flow": null,
            "grid_area": null,
            "grid_auto_columns": null,
            "grid_auto_flow": null,
            "grid_auto_rows": null,
            "grid_column": null,
            "grid_gap": null,
            "grid_row": null,
            "grid_template_areas": null,
            "grid_template_columns": null,
            "grid_template_rows": null,
            "height": null,
            "justify_content": null,
            "justify_items": null,
            "left": null,
            "margin": null,
            "max_height": null,
            "max_width": null,
            "min_height": null,
            "min_width": null,
            "object_fit": null,
            "object_position": null,
            "order": null,
            "overflow": null,
            "overflow_x": null,
            "overflow_y": null,
            "padding": null,
            "right": null,
            "top": null,
            "visibility": null,
            "width": null
          }
        },
        "acef090c31c24be09aa8f01968493c23": {
          "model_module": "@jupyter-widgets/controls",
          "model_name": "DescriptionStyleModel",
          "model_module_version": "1.5.0",
          "state": {
            "_model_module": "@jupyter-widgets/controls",
            "_model_module_version": "1.5.0",
            "_model_name": "DescriptionStyleModel",
            "_view_count": null,
            "_view_module": "@jupyter-widgets/base",
            "_view_module_version": "1.2.0",
            "_view_name": "StyleView",
            "description_width": ""
          }
        },
        "f82bd189545a48398713fa71a253d9da": {
          "model_module": "@jupyter-widgets/controls",
          "model_name": "ButtonModel",
          "model_module_version": "1.5.0",
          "state": {
            "_dom_classes": [
              "happy"
            ],
            "_model_module": "@jupyter-widgets/controls",
            "_model_module_version": "1.5.0",
            "_model_name": "ButtonModel",
            "_view_count": null,
            "_view_module": "@jupyter-widgets/controls",
            "_view_module_version": "1.5.0",
            "_view_name": "ButtonView",
            "button_style": "",
            "description": "🙂",
            "disabled": false,
            "icon": "",
            "layout": "IPY_MODEL_f53d56f70281477aa4df70eca4669e6c",
            "style": "IPY_MODEL_fb82a0e97cbe4003a16035fdf9c4ddbc",
            "tooltip": "Happy"
          }
        },
        "75650288a06d4962b04ba5b006762930": {
          "model_module": "@jupyter-widgets/controls",
          "model_name": "ButtonModel",
          "model_module_version": "1.5.0",
          "state": {
            "_dom_classes": [
              "medium"
            ],
            "_model_module": "@jupyter-widgets/controls",
            "_model_module_version": "1.5.0",
            "_model_name": "ButtonModel",
            "_view_count": null,
            "_view_module": "@jupyter-widgets/controls",
            "_view_module_version": "1.5.0",
            "_view_name": "ButtonView",
            "button_style": "",
            "description": "😐",
            "disabled": false,
            "icon": "",
            "layout": "IPY_MODEL_47583e686e8944488493f3205662d474",
            "style": "IPY_MODEL_243bc4de3f21416baffbd63935eb9aba",
            "tooltip": "Medium"
          }
        },
        "a33bf85428644cf0b8b6b107e92b2765": {
          "model_module": "@jupyter-widgets/controls",
          "model_name": "ButtonModel",
          "model_module_version": "1.5.0",
          "state": {
            "_dom_classes": [
              "sad"
            ],
            "_model_module": "@jupyter-widgets/controls",
            "_model_module_version": "1.5.0",
            "_model_name": "ButtonModel",
            "_view_count": null,
            "_view_module": "@jupyter-widgets/controls",
            "_view_module_version": "1.5.0",
            "_view_name": "ButtonView",
            "button_style": "",
            "description": "🙁",
            "disabled": false,
            "icon": "",
            "layout": "IPY_MODEL_0821b549c1344ec394b4105762dd7528",
            "style": "IPY_MODEL_a5fa55d0054f49649af14a0d205f13ad",
            "tooltip": "Sad"
          }
        },
        "e6aeb937c99f4a36939bce88ff6d263e": {
          "model_module": "@jupyter-widgets/base",
          "model_name": "LayoutModel",
          "model_module_version": "1.2.0",
          "state": {
            "_model_module": "@jupyter-widgets/base",
            "_model_module_version": "1.2.0",
            "_model_name": "LayoutModel",
            "_view_count": null,
            "_view_module": "@jupyter-widgets/base",
            "_view_module_version": "1.2.0",
            "_view_name": "LayoutView",
            "align_content": null,
            "align_items": null,
            "align_self": null,
            "border": null,
            "bottom": null,
            "display": null,
            "flex": null,
            "flex_flow": null,
            "grid_area": null,
            "grid_auto_columns": null,
            "grid_auto_flow": null,
            "grid_auto_rows": null,
            "grid_column": null,
            "grid_gap": null,
            "grid_row": null,
            "grid_template_areas": null,
            "grid_template_columns": null,
            "grid_template_rows": null,
            "height": null,
            "justify_content": null,
            "justify_items": null,
            "left": null,
            "margin": null,
            "max_height": null,
            "max_width": null,
            "min_height": null,
            "min_width": null,
            "object_fit": null,
            "object_position": null,
            "order": null,
            "overflow": null,
            "overflow_x": null,
            "overflow_y": null,
            "padding": null,
            "right": null,
            "top": null,
            "visibility": null,
            "width": null
          }
        },
        "e9b0b145415b4b0bb725a9437633795a": {
          "model_module": "@jupyter-widgets/controls",
          "model_name": "TextareaModel",
          "model_module_version": "1.5.0",
          "state": {
            "_dom_classes": [],
            "_model_module": "@jupyter-widgets/controls",
            "_model_module_version": "1.5.0",
            "_model_name": "TextareaModel",
            "_view_count": null,
            "_view_module": "@jupyter-widgets/controls",
            "_view_module_version": "1.5.0",
            "_view_name": "TextareaView",
            "continuous_update": true,
            "description": "",
            "description_tooltip": null,
            "disabled": false,
            "layout": "IPY_MODEL_7243afe9029148b88a5c3223273aae05",
            "placeholder": "We want your feedback!",
            "rows": null,
            "style": "IPY_MODEL_011bd0e660b843ba938687c28d7d92f4",
            "value": ""
          }
        },
        "74d623e2f5204a969f8f6fef92ff4f8e": {
          "model_module": "@jupyter-widgets/controls",
          "model_name": "ButtonModel",
          "model_module_version": "1.5.0",
          "state": {
            "_dom_classes": [],
            "_model_module": "@jupyter-widgets/controls",
            "_model_module_version": "1.5.0",
            "_model_name": "ButtonModel",
            "_view_count": null,
            "_view_module": "@jupyter-widgets/controls",
            "_view_module_version": "1.5.0",
            "_view_name": "ButtonView",
            "button_style": "",
            "description": "Submit",
            "disabled": false,
            "icon": "",
            "layout": "IPY_MODEL_7accbf829bd14f0ba8215e116beefa9a",
            "style": "IPY_MODEL_828722dfe8dc459e91084a82a3f6d5ca",
            "tooltip": ""
          }
        },
        "875a810104a04aa18923c75d2e738723": {
          "model_module": "@jupyter-widgets/base",
          "model_name": "LayoutModel",
          "model_module_version": "1.2.0",
          "state": {
            "_model_module": "@jupyter-widgets/base",
            "_model_module_version": "1.2.0",
            "_model_name": "LayoutModel",
            "_view_count": null,
            "_view_module": "@jupyter-widgets/base",
            "_view_module_version": "1.2.0",
            "_view_name": "LayoutView",
            "align_content": null,
            "align_items": null,
            "align_self": null,
            "border": null,
            "bottom": null,
            "display": "none",
            "flex": null,
            "flex_flow": null,
            "grid_area": null,
            "grid_auto_columns": null,
            "grid_auto_flow": null,
            "grid_auto_rows": null,
            "grid_column": null,
            "grid_gap": null,
            "grid_row": null,
            "grid_template_areas": null,
            "grid_template_columns": null,
            "grid_template_rows": null,
            "height": null,
            "justify_content": null,
            "justify_items": null,
            "left": null,
            "margin": null,
            "max_height": null,
            "max_width": null,
            "min_height": null,
            "min_width": null,
            "object_fit": null,
            "object_position": null,
            "order": null,
            "overflow": null,
            "overflow_x": null,
            "overflow_y": null,
            "padding": null,
            "right": null,
            "top": null,
            "visibility": null,
            "width": null
          }
        },
        "5e527f2d3bf746c0a7b0ea93841d5bfc": {
          "model_module": "@jupyter-widgets/base",
          "model_name": "LayoutModel",
          "model_module_version": "1.2.0",
          "state": {
            "_model_module": "@jupyter-widgets/base",
            "_model_module_version": "1.2.0",
            "_model_name": "LayoutModel",
            "_view_count": null,
            "_view_module": "@jupyter-widgets/base",
            "_view_module_version": "1.2.0",
            "_view_name": "LayoutView",
            "align_content": null,
            "align_items": null,
            "align_self": null,
            "border": null,
            "bottom": null,
            "display": "block",
            "flex": null,
            "flex_flow": null,
            "grid_area": null,
            "grid_auto_columns": null,
            "grid_auto_flow": null,
            "grid_auto_rows": null,
            "grid_column": null,
            "grid_gap": null,
            "grid_row": null,
            "grid_template_areas": null,
            "grid_template_columns": null,
            "grid_template_rows": null,
            "height": null,
            "justify_content": null,
            "justify_items": null,
            "left": null,
            "margin": null,
            "max_height": null,
            "max_width": null,
            "min_height": null,
            "min_width": null,
            "object_fit": null,
            "object_position": null,
            "order": null,
            "overflow": null,
            "overflow_x": null,
            "overflow_y": null,
            "padding": null,
            "right": null,
            "top": null,
            "visibility": null,
            "width": null
          }
        },
        "1c4e719be453428c88503adf7cba431e": {
          "model_module": "@jupyter-widgets/controls",
          "model_name": "DescriptionStyleModel",
          "model_module_version": "1.5.0",
          "state": {
            "_model_module": "@jupyter-widgets/controls",
            "_model_module_version": "1.5.0",
            "_model_name": "DescriptionStyleModel",
            "_view_count": null,
            "_view_module": "@jupyter-widgets/base",
            "_view_module_version": "1.2.0",
            "_view_name": "StyleView",
            "description_width": ""
          }
        },
        "f53d56f70281477aa4df70eca4669e6c": {
          "model_module": "@jupyter-widgets/base",
          "model_name": "LayoutModel",
          "model_module_version": "1.2.0",
          "state": {
            "_model_module": "@jupyter-widgets/base",
            "_model_module_version": "1.2.0",
            "_model_name": "LayoutModel",
            "_view_count": null,
            "_view_module": "@jupyter-widgets/base",
            "_view_module_version": "1.2.0",
            "_view_name": "LayoutView",
            "align_content": null,
            "align_items": null,
            "align_self": null,
            "border": "2px solid #666666",
            "bottom": null,
            "display": null,
            "flex": null,
            "flex_flow": null,
            "grid_area": null,
            "grid_auto_columns": null,
            "grid_auto_flow": null,
            "grid_auto_rows": null,
            "grid_column": null,
            "grid_gap": null,
            "grid_row": null,
            "grid_template_areas": null,
            "grid_template_columns": null,
            "grid_template_rows": null,
            "height": "auto",
            "justify_content": null,
            "justify_items": null,
            "left": null,
            "margin": null,
            "max_height": null,
            "max_width": null,
            "min_height": null,
            "min_width": null,
            "object_fit": null,
            "object_position": null,
            "order": null,
            "overflow": null,
            "overflow_x": null,
            "overflow_y": null,
            "padding": null,
            "right": null,
            "top": null,
            "visibility": null,
            "width": "auto"
          }
        },
        "fb82a0e97cbe4003a16035fdf9c4ddbc": {
          "model_module": "@jupyter-widgets/controls",
          "model_name": "ButtonStyleModel",
          "model_module_version": "1.5.0",
          "state": {
            "_model_module": "@jupyter-widgets/controls",
            "_model_module_version": "1.5.0",
            "_model_name": "ButtonStyleModel",
            "_view_count": null,
            "_view_module": "@jupyter-widgets/base",
            "_view_module_version": "1.2.0",
            "_view_name": "StyleView",
            "button_color": "#aaffaa",
            "font_weight": ""
          }
        },
        "47583e686e8944488493f3205662d474": {
          "model_module": "@jupyter-widgets/base",
          "model_name": "LayoutModel",
          "model_module_version": "1.2.0",
          "state": {
            "_model_module": "@jupyter-widgets/base",
            "_model_module_version": "1.2.0",
            "_model_name": "LayoutModel",
            "_view_count": null,
            "_view_module": "@jupyter-widgets/base",
            "_view_module_version": "1.2.0",
            "_view_name": "LayoutView",
            "align_content": null,
            "align_items": null,
            "align_self": null,
            "border": null,
            "bottom": null,
            "display": null,
            "flex": null,
            "flex_flow": null,
            "grid_area": null,
            "grid_auto_columns": null,
            "grid_auto_flow": null,
            "grid_auto_rows": null,
            "grid_column": null,
            "grid_gap": null,
            "grid_row": null,
            "grid_template_areas": null,
            "grid_template_columns": null,
            "grid_template_rows": null,
            "height": "auto",
            "justify_content": null,
            "justify_items": null,
            "left": null,
            "margin": null,
            "max_height": null,
            "max_width": null,
            "min_height": null,
            "min_width": null,
            "object_fit": null,
            "object_position": null,
            "order": null,
            "overflow": null,
            "overflow_x": null,
            "overflow_y": null,
            "padding": null,
            "right": null,
            "top": null,
            "visibility": null,
            "width": "auto"
          }
        },
        "243bc4de3f21416baffbd63935eb9aba": {
          "model_module": "@jupyter-widgets/controls",
          "model_name": "ButtonStyleModel",
          "model_module_version": "1.5.0",
          "state": {
            "_model_module": "@jupyter-widgets/controls",
            "_model_module_version": "1.5.0",
            "_model_name": "ButtonStyleModel",
            "_view_count": null,
            "_view_module": "@jupyter-widgets/base",
            "_view_module_version": "1.2.0",
            "_view_name": "StyleView",
            "button_color": "#dddd77",
            "font_weight": ""
          }
        },
        "0821b549c1344ec394b4105762dd7528": {
          "model_module": "@jupyter-widgets/base",
          "model_name": "LayoutModel",
          "model_module_version": "1.2.0",
          "state": {
            "_model_module": "@jupyter-widgets/base",
            "_model_module_version": "1.2.0",
            "_model_name": "LayoutModel",
            "_view_count": null,
            "_view_module": "@jupyter-widgets/base",
            "_view_module_version": "1.2.0",
            "_view_name": "LayoutView",
            "align_content": null,
            "align_items": null,
            "align_self": null,
            "border": null,
            "bottom": null,
            "display": null,
            "flex": null,
            "flex_flow": null,
            "grid_area": null,
            "grid_auto_columns": null,
            "grid_auto_flow": null,
            "grid_auto_rows": null,
            "grid_column": null,
            "grid_gap": null,
            "grid_row": null,
            "grid_template_areas": null,
            "grid_template_columns": null,
            "grid_template_rows": null,
            "height": "auto",
            "justify_content": null,
            "justify_items": null,
            "left": null,
            "margin": null,
            "max_height": null,
            "max_width": null,
            "min_height": null,
            "min_width": null,
            "object_fit": null,
            "object_position": null,
            "order": null,
            "overflow": null,
            "overflow_x": null,
            "overflow_y": null,
            "padding": null,
            "right": null,
            "top": null,
            "visibility": null,
            "width": "auto"
          }
        },
        "a5fa55d0054f49649af14a0d205f13ad": {
          "model_module": "@jupyter-widgets/controls",
          "model_name": "ButtonStyleModel",
          "model_module_version": "1.5.0",
          "state": {
            "_model_module": "@jupyter-widgets/controls",
            "_model_module_version": "1.5.0",
            "_model_name": "ButtonStyleModel",
            "_view_count": null,
            "_view_module": "@jupyter-widgets/base",
            "_view_module_version": "1.2.0",
            "_view_name": "StyleView",
            "button_color": "#ffaaaa",
            "font_weight": ""
          }
        },
        "7243afe9029148b88a5c3223273aae05": {
          "model_module": "@jupyter-widgets/base",
          "model_name": "LayoutModel",
          "model_module_version": "1.2.0",
          "state": {
            "_model_module": "@jupyter-widgets/base",
            "_model_module_version": "1.2.0",
            "_model_name": "LayoutModel",
            "_view_count": null,
            "_view_module": "@jupyter-widgets/base",
            "_view_module_version": "1.2.0",
            "_view_name": "LayoutView",
            "align_content": null,
            "align_items": null,
            "align_self": null,
            "border": null,
            "bottom": null,
            "display": null,
            "flex": null,
            "flex_flow": null,
            "grid_area": null,
            "grid_auto_columns": null,
            "grid_auto_flow": null,
            "grid_auto_rows": null,
            "grid_column": null,
            "grid_gap": null,
            "grid_row": null,
            "grid_template_areas": null,
            "grid_template_columns": null,
            "grid_template_rows": null,
            "height": "auto",
            "justify_content": null,
            "justify_items": null,
            "left": null,
            "margin": null,
            "max_height": null,
            "max_width": null,
            "min_height": null,
            "min_width": null,
            "object_fit": null,
            "object_position": null,
            "order": null,
            "overflow": null,
            "overflow_x": null,
            "overflow_y": null,
            "padding": null,
            "right": null,
            "top": null,
            "visibility": null,
            "width": "auto"
          }
        },
        "011bd0e660b843ba938687c28d7d92f4": {
          "model_module": "@jupyter-widgets/controls",
          "model_name": "DescriptionStyleModel",
          "model_module_version": "1.5.0",
          "state": {
            "_model_module": "@jupyter-widgets/controls",
            "_model_module_version": "1.5.0",
            "_model_name": "DescriptionStyleModel",
            "_view_count": null,
            "_view_module": "@jupyter-widgets/base",
            "_view_module_version": "1.2.0",
            "_view_name": "StyleView",
            "description_width": ""
          }
        },
        "7accbf829bd14f0ba8215e116beefa9a": {
          "model_module": "@jupyter-widgets/base",
          "model_name": "LayoutModel",
          "model_module_version": "1.2.0",
          "state": {
            "_model_module": "@jupyter-widgets/base",
            "_model_module_version": "1.2.0",
            "_model_name": "LayoutModel",
            "_view_count": null,
            "_view_module": "@jupyter-widgets/base",
            "_view_module_version": "1.2.0",
            "_view_name": "LayoutView",
            "align_content": null,
            "align_items": null,
            "align_self": null,
            "border": null,
            "bottom": null,
            "display": null,
            "flex": null,
            "flex_flow": null,
            "grid_area": null,
            "grid_auto_columns": null,
            "grid_auto_flow": null,
            "grid_auto_rows": null,
            "grid_column": null,
            "grid_gap": null,
            "grid_row": null,
            "grid_template_areas": null,
            "grid_template_columns": null,
            "grid_template_rows": null,
            "height": "auto",
            "justify_content": null,
            "justify_items": null,
            "left": null,
            "margin": null,
            "max_height": null,
            "max_width": null,
            "min_height": null,
            "min_width": null,
            "object_fit": null,
            "object_position": null,
            "order": null,
            "overflow": null,
            "overflow_x": null,
            "overflow_y": null,
            "padding": null,
            "right": null,
            "top": null,
            "visibility": null,
            "width": "auto"
          }
        },
        "828722dfe8dc459e91084a82a3f6d5ca": {
          "model_module": "@jupyter-widgets/controls",
          "model_name": "ButtonStyleModel",
          "model_module_version": "1.5.0",
          "state": {
            "_model_module": "@jupyter-widgets/controls",
            "_model_module_version": "1.5.0",
            "_model_name": "ButtonStyleModel",
            "_view_count": null,
            "_view_module": "@jupyter-widgets/base",
            "_view_module_version": "1.2.0",
            "_view_name": "StyleView",
            "button_color": null,
            "font_weight": ""
          }
        },
        "5bbda18d48264992a6e02a15b10466e5": {
          "model_module": "@jupyter-widgets/controls",
          "model_name": "TabModel",
          "model_module_version": "1.5.0",
          "state": {
            "_dom_classes": [],
            "_model_module": "@jupyter-widgets/controls",
            "_model_module_version": "1.5.0",
            "_model_name": "TabModel",
            "_titles": {
              "0": "Youtube",
              "1": "Bilibili"
            },
            "_view_count": null,
            "_view_module": "@jupyter-widgets/controls",
            "_view_module_version": "1.5.0",
            "_view_name": "TabView",
            "box_style": "",
            "children": [
              "IPY_MODEL_f63f7f47edfb46e0807d4cbeecf1947b",
              "IPY_MODEL_f0c4e817343b475b8c21c2d3209030fb"
            ],
            "layout": "IPY_MODEL_1340219fdf2c43a48d863bbd2b6af6e8",
            "selected_index": 0
          }
        },
        "f63f7f47edfb46e0807d4cbeecf1947b": {
          "model_module": "@jupyter-widgets/output",
          "model_name": "OutputModel",
          "model_module_version": "1.0.0",
          "state": {
            "_dom_classes": [],
            "_model_module": "@jupyter-widgets/output",
            "_model_module_version": "1.0.0",
            "_model_name": "OutputModel",
            "_view_count": null,
            "_view_module": "@jupyter-widgets/output",
            "_view_module_version": "1.0.0",
            "_view_name": "OutputView",
            "layout": "IPY_MODEL_7f1ea7c98d5a49a29de9c90e978265c7",
            "msg_id": "",
            "outputs": [
              {
                "output_type": "stream",
                "name": "stdout",
                "text": [
                  "Video available at https://youtube.com/watch?v=DHhM80MOTe8\n"
                ]
              },
              {
                "output_type": "display_data",
                "data": {
                  "text/plain": "<IPython.lib.display.YouTubeVideo at 0x7f359ff83f40>",
                  "text/html": "\n        <iframe\n            width=\"854\"\n            height=\"480\"\n            src=\"https://www.youtube.com/embed/DHhM80MOTe8?fs=1&rel=0\"\n            frameborder=\"0\"\n            allowfullscreen\n            \n        ></iframe>\n        ",
                  "image/jpeg": "/9j/4AAQSkZJRgABAQAAAQABAAD/2wCEAAUDBAkICgsICAgICAgKCgoICAgICggICAgICAoICggICAoIChALCAgOCggIDRUNDhERExMTCAsWGBYSGBASExIBBQUFCAcIDwgJDhINDg8SEhISEhISEhISEhISEhISEhISEhISEhISEhISEhISEhISEhISEhISEhISEhISEhISEv/AABEIAWgB4AMBIgACEQEDEQH/xAAdAAEAAgMBAQEBAAAAAAAAAAAABQYEBwgDAgEJ/8QAWhAAAQMCAwMGBgsMBggFBQAAAQACAwQRBRIhBhMxBxYiQVFSCBRhcZLSGCMyM1RVgZGT1OIVNUJzdZShpLGytNEJYnKCwfAkNjdDdLPh8Rc0VoO1JYWio8T/xAAaAQEBAAMBAQAAAAAAAAAAAAAAAQIEBQMG/8QALBEBAAIBAwIDBwUBAAAAAAAAAAECEQMEIRIxBUFRFCJhgbHB8BORodHxI//aAAwDAQACEQMRAD8A4yREQEREBERAREQEREBERAREQEREBERAREQEREBERAREQEREBERAREQEREBERAREQEREBERAREQEREBERAREQEREBERAREQEREBERAREQEREBERAREQEREBERAREQEREBERAREQEREBERAREQEREBERAREQEREBERAREQEREBERAREQEREBERAREQEREBERAREQEREBERART/NSfvw+k/wBROak/fh9J/qIIBFP81J+/D6T/AFE5qT9+H0n+oggEU/zUn78PpP8AUTmpP34fSf6iCART/NSfvw+k/wBROak/fh9J/qIIBFP81J+/D6T/AFE5qT9+H0n+oggEU/zUn78PpP8AUTmpP34fSf6iCART/NSfvw+k/wBROak/fh9J/qIIBFP81J+/D6T/AFE5qT9+H0n+oggEU/zUn78PpP8AUTmpP34fSf6iCART/NSfvw+k/wBROak/fh9J/qIIBFP81J+/D6T/AFE5qT9+H0n+oggEU/zUn78PpP8AUTmpP34fSf6iCART/NSfvw+k/wBROak/fh9J/qIIBFP81J+/D6T/AFE5qT9+H0n+oggEU/zUn78PpP8AUTmpP34fSf6iCART/NSfvw+k/wBROak/fh9J/qIIBFP81J+/D6T/AFE5qT9+H0n+oggEU/zUn78PpP8AUTmpP34fSf6iCART/NSfvw+k/wBROak/fh9J/qIIBFP81J+/D6T/AFE5qT9+H0n+oggEU/zUn78PpP8AUTmpP34fSf6iCART/NSfvw+k/wBROak/fh9J/qIIBFP81J+/D6T/AFE5qT9+H0n+oggEU/zUn78PpP8AUTmpP34fSf6iCART/NSfvw+k/wBROak/fh9J/qIIBFP81J+/D6T/AFE5qT9+H0n+oggEU/zUn78PpP8AUTmpP34fSf6iCART/NSfvw+k/wBROak/fh9J/qIIBFP81J+/D6T/AFE5qT9+H0n+oggEU/zUn78PpP8AUTmpP34fSf6iC5oiLJiIiICIiAiIgIiICIiAiIgIiICIiAiIgIiICIiAiIgIiICIiAiIgIiICIiAiIgIiICIiAiIgIiICIiAiIgIiICIiAiIgIiICIiAiIgIobHMd8VeI91nuwPvny8S4WtlPd/SsDncPg5+k+wouFoRVfncPg5+k+wnO4fBz9J9hDC0IqvzuHwc/SfYTncPg5+k+whhaEVX53D4OfpPsJzuHwc/SfYQwtCKr87h8HP0n2E53D4OfpPsIYWhFV+dw+Dn6T7Cc7h8HP0n2EMLQiq/O4fBz9J9hOdw+Dn6T7CGFoRVfncPg5+k+wnO4fBz9J9hDC0IqvzuHwc/SfYTncPg5+k+whhaEVX53D4OfpPsJzuHwc/SfYQwtCKr87h8HP0n2E53D4OfpPsIYWhFV+dw+Dn6T7Cc7h8HP0n2EMLQiq/O4fBz9J9hOdw+Dn6T7CGFoRVfncPg5+k+wnO4fBz9J9hDC0IqvzuHwc/SfYTncPg5+k+whhaEVX53D4OfpPsJzuHwc/SfYQwtCKr87h8HP0n2E53D4OfpPsIYWhFXKPagSPZHuCM72svvL2zEC9smvFWNAREVQREQEREBERAREQEREBERAREQEREBERAREQEREFM259/b+Kb+/KoBT+3Pv7fxTf35VALFkIiICK6VXJTj8VJ905MGr20AgbVmrMR3IpntD2zlw/3eRwdfsKpaAimtj9lMQxiY0uF0VRXVDY3Tuhp2GR7YWOY10jgODA6Rgv2vHavPavZutwqc0eJUs1HVNa17oJ25JAyQXY4jsIQRKIiAiIgIrzyKcl9dtbWyYdh01HBPFTPrXOrXzRxGKOWnhc1pghkcZM1Sw2LQLB2vAGsbUYPJh1XU4fM6N81JUz0croi50TpaaV8Ujoy9rXGMuYSCWg2IuBwQRqIiAi2ByJck9ftdUzUeGzUUEtPB4zI6ufPGwxmRkdmGCCUl+Z40IAtfVUzHsNfR1E9HKWOkp5paaR0ZcY3Pge6N5YXNBLCWm1wDa2gQYSK67M8k+0GJ08ddQYNX1dJLn3VRDEXxybt74pMpvraSN7T5WlSX/gTtX/6dxP6E/wA0GuEWx/8AwJ2r/wDTuJ/Qn+aoeMYdNRzS0tVE+CogkdDPDIMr4pYyWvY8dTg4EfIgxEREBERAREQEREBERAREQZeD+/w/jY/32rY61xg/v8P42P8AfatjqwkiIiqCIiAi/Y2FxDWgucTYAC5JPAADiVb8E5PqycB72iNl+k0uYJcn4TgHEN0Hlv5Fha9a95wyisz2U9FsvENh6FhayOpLix2abpNLnMtcNabho4gE6/OvMYFTNIiYynvYOdvHPEuugzNadG6g2uPnK8Lbuker1jb2lrhFtNmwtPMLhjDduu4llzBw6w2Xo28/b5LqnbSbMGma6WB5mhY7JK12UTQOJsN61pOl+sdoTS3enqTiJ5L7e9YzKuoiLaeAiIgIiICIiAiIgIiICIiCmbc+/t/FN/flUAp/bn39v4pv78qgFiyEREH9VNgH0tTgmE4PVtztxDZ+Jjo3Wyy07KKhiqYteLiyrGnYHnqX8xdudnZcIr6vDKi5lo6mWlc4tLBJuXua2VrTqGPaGvHG4eOK7R5V9sjgFDsHipNooGUwqbBzr0c+G0kNXZrdXO3EkhA16Qb2LXnh88n8n3bocRoYjKcaZHShseu9xGnMUMYzXygyQy0jW3IvunntsF1/o/8AZ6PDMNqMeqmlsmJ1sGFUF8t3wxyBjnRdeV1RJLmB6sPvbTXT3h7f60z/APCUf/JW9drq2LCMc2M2KpHAxYe6OtqyAAJKgw1EEEht7mVxNdK4W18aadFo/wAOqndNtbLFGLvkp6GNg4Xe+MNaNeGpCDXHJbySY5tKXnCKB88Mbt3NVSOjgpYn2BLDLM4NfIGuaSxmZwD2m1iFadufBo2qwiF1XLhzaunjaXzPoJo6p0TRa7nQi0zmgEkljHABriSBqt8eGJj02x2C4PszgEsmHwysmE9TSvMFS+KiFPnbniAc11RPVPlke0tLjGQbte8HU3ge8quKUmP0dBPX1VTQV8ppJ6apmlnYJJWu3E0IlcRFKJt3dzfdNLgeogOfVs7kr5B9odpIfG8OoQ2iJc1lZVyMpoJXRuyvEOf2ycBwc0uY0tBje0kEWV88IjkvgZtxDhNM3c0uMVFDUZIQG+Lsr5tzWOjB0AEkVTKABYBwAFgrr4ee3VXhc+H7M4TNLhuHwUEdTJFRPfTCRrnzU9NTO3VneLwx0pIZfKTMCQSxpAZ/gbcleM7M7S1DMXonQMlweqEFQxzJ6aYtrcKu1ksRLQ+2uR2V1tbWXL/LT9/sY/K+JfxlQulf6PvlExetxKqwetxCorKFuHyV0TKt76iSCeKooYQIZZSXshLKh9475bgEAG99O02yseN7cz4XP7xUbQ1wqAC5pfTRVlTLURtc0gsc6KKRocOBcD1IMPky8H3aTaGEVlFQNion3MVVWyMpoprW1ha68srNT02sLOiRmuLKvcqXJdjGzMrIsYonU4lzeLzscyamnye63csRLc4uCWOs4BwJAuF2N4VHJ5tfjVXT02z5FLglLTMZHDBWsoGSVBJzufFG9uZkcbYY2Bws3K/LbMb+e1mxOLybAV1DtUBLiWGiWto6l0zKyYxUeSeGUzanebt9VTEk5t2TrrdBrL+jb+++I/k0fxVOueOU777Yl+Ua3+JmXQ/9G3998R/Jo/iqdc8cp332xL8o1v8AEzILLsby57TYPSRYbhuLPpaKDebmBtPQyBm+lkmk6U1O57rySyO1J91bhYLr3wPOUfF8dwfFqvFa59XUU0jmU0hipojE0Uu8ADYImtd09ekCv59rtnwAPvBjn45/8Eg0L7JjbL4+l/NcN+qqFx/k+2jxChm2xqqTxjD6h76upxJk+HkvklqDDLI6mgl3rP8ASCQQIxlsSQALrXS7C8AvHYcVw/F9ja8l8M8MtTAwlxPi1WwUteyMn3vI51NI0N/CmkdoQSg49Vx2z5McZwakpcSxOh8UpK4MdRvfPRulmEkQmaTTxzOnitGWk52NylzQ6xICsnJLyUz1+1MezlXGbUtbK3E7B2TxXD3uNSQdC1kojEbX9tRGdbq1+HZtyMVx40EEgdR4RH4ixrC0x+OOIfXubbVrg8RQOHUaPz3CkYlyE7T076OKTB5TJiJIoGRT0VQ6bKxsj3O8XnduI2se1xfLlaAdSFZNovBZ2toqc1Zw6KpDWl8tPR1EVRVRtDS51ogQZ3C1ssOdxJFgV0p4WXKVX7OYJhTsKMUFZWRCm8fLGSVFLTtgppJmUwkaWtdK5sQLjewj0GbK5mj/AAQeWHGxtDSUFditdiFFiDn008VfUT1mSTdSvgmgM73GGXetYCRo5rnAg2aWhzcto8lvIJtHtHCKugoBHROzBlZWSMpoJS0gHcB/tk7b5hnYwsux4zXFlsfl85NqeflAhwyNoZTYtUUVXURsuzKypP8A9RLC0aSPMFTJfvS9S3P4U3J5tbi81JQbNBlJgVJSxsbDBVsoA+oDnNyuYx7c0EUMdO1jSLNvJbjoHHHKryUY1sw9jMXojDHKSIKmN7J6WYt4tZLESGvA1yPyusL2tqq7sjs3W4vUx0GG0stZVym0cMQBcQNXOcSQ2ONo1L3ENA1JC7krth8ZdsHiuHbW2nraCOqraCczNrJhT0MUdXTufPmc4yCRtVDrY7ohvBag/o8NoaCjxmqpqt0cVXW0jYKCaTK0PeyZr5aNjibiSX2t4bwd4tbjlBCvTeCRtc2LeikonvtfxdtbTiYG3ubvIhzdXu7eVaKrKd8L3xSDLJG50b23ByvYS1wuDY2IPBdG8tXJrt3s/UVOJtxPF8QpM8kxxTD6yqErIi5zs1VBFI2Wlys1dlaYmcA6wXONTM6RzpHuLnvcXvcdS5ziS5x8pJJ+VB5oiIMvB/f4fxsf77Vsda4wf3+H8bH++1bHVhJERFUERfrW5iGjiSAPOdFBfNi6CKjidW1DWulI9oB4sabNzD+sS8C/81+Vm3LbucB0m6tzXsDlFyzMLAE3v5vMpDGqCSSjAaLse1rmlrXXIaCLHXTQix6/0KhtwqQExyNJadcpb0nD+r18Osdq52pMWnMuhp1mI4Wen2tcGGSd8IcALMYyNuV1yAC4gkixvxOt+NgvmGojnZni8XZK4AeMTODGhzeB1sZSBbjoBbgqbiGz75LtaHMc4Zt3axvoOkc3YSeHWsvANjJXOb7YdLtfexAGa1mjsI0+Qryv0YznDOtb57JhmNtoC4y1b6osA9rpy+MPcLm29cAMlr+4vc34cFN4HtKyva+SdpErScrbNbvKQ2a+KS7ss4sDcOsQQbeTIrtkskcLXNjbC17N68X1ZmuRc6u6RDidf0KFxPBwyYPhjYx7GhslgGGxZK3I8j3OaSVotfQCx4LyiaWjjv6srVtWee3oxNs8GihLZ6YPEEnFpuWscRcGN3XE6zrX4EEeQVtXTD4fapKeVrnQ2LTnN905zc7ZGnzlrh/Z1uqbLGWktcLOaS0jyg2K6W11JtXE8zDR16YnMeb5REW08BERAREQEREBERAREQUzbn39v4pv78qgFP7c+/t/FN/flUAsWQiIg628Mn/VbZL/AISD/wCOolujwbsRotqdnMHrMRyy1GA1IzOe7SOswyCWGnmlc7V/+i1EE5J/Dsdcq4P2y5ScXxilpMPxGt8Yo8PY2Ohh3FJDuGMjZE0Z4IWyS2jjYLvLuF+Oqqsc72gta97Wu901riA64sbgGx0Qb55Otrzj3KFTYsb5KrFS6AEWc2liifDRtcO+KeKEHyg8F9+HXO6LayWWM5ZGU9DIx2hyvZGHNdrobEBaT2Ux+qwqqhxCgl3FZTv3tPNkil3b7EZskzXRu0J0cCFl7e7Y4hj1U7EMVqfGqx7GRum3UEF2RDLG3JTRsjFh1ht0HXnhfYDNtngmD7TYBDJXxxNlM9NTN39SyKtEG8OSMlzn089K6KRjA4gyE+5Y4jVXgfckuLVOP0lfU4dV0mH4fIaueoqoZadrpY2P8Xhg3rRvpTNuyQ33LQ4m3RB1hyYcq+ObNl33IxCSmikcHzUzmxz0srxlBc6GdrmNkLWtaXsyus0C+gVn258JHarF4HUk+J+L00jck0dDFFSOlabXa+WMb4MIuC0PDXBxBBBsguXLlypUsm3lNisUjX0GE1VDSPnjvIJYKObPXvjDR0rPmqmNLbh27a4XzK9+HjyXYpitbR47hFHPilM+iZRzMoI3VUsTopZpoZwyHM+WGVlVYOY0hu4JcRmbfjRbY5OvCG2mwKnbQ0eINko4xlggrIoqlsDepsL3jeMjHUzNlHUAg6C8BTkixTBqybGMWi+55qaGWko8PqLNr5o3T0U01VJDfNTxMMUTMrwH3m1DRlz6C51NwTbioxWQEw020Nc+ewLneLPramOpLAPdPEMkhA7QFgf+Pu1H3QdjAxiTx91O+iEhgo5IYqSSSGV8MNPLA6CEF8EJLmsDjuxcnW+vcaxKatnmrKl+8qamaSpqJMrGbyed7pJX5YwGNu9zjZoAF9AEHZXhkbLY/UzU+0ezFXidZhdVSxb6PCKipkEb2i8NXHDTSXkp5YHx9NjSAYXFxGZt+cZsM2yqKaokmZtK6higklrZKp2Ix0gp2D20SuqXCN/RPuNSRfQr45MeW3aHZyMU+GYk9lIC53ic7IqmmBdmLt22dpMF3OLjuiy51N9VLbeeEZtRjMEtHVYixlHPGYZ6ampqWFksbr52ufuzNZwNiA+1hw4oNnf0bf33xH8mj+Kp1zxynffbEvyjW/xMyyOTblDxbZyaSpwas8Tnmj3Er9zS1GeLM1+XLVRPa3pNabgA6KvYpXSVM0tTO7PNNI+eZ9mtzyyuL5HZWANbdzibAAC+iDGXbPgAfeDHPxz/AOCXEyu3J/yr45gFPPR4TX+KU1U4uqY/F6KfeOLN2TmqYHvZ0NOiQgpKvPINtsdnsbocVLi2GKYR1gGY5qKoBiqui33wiKRz2jXpRsPEBUZSOzODT4jVU9BSsz1NVNHTQN1AMsz2sZmIHRbd1yeoAlB/SfbfCsP2Wkx3btojfU1GG08bGu0a6phBjjYyQE2jqpBhbCGjjBm1Ll/M7EKySolkqJ3ukmlkfNNI7V0ksri6R7j1uLnE/Kut/Du2iGGYfg+xsFRLMaemgqa2V5dvJoqSI0lDviOi8yPZUyuaeBjiNvclcgoO8/DK2CxTGsCwiXCqOSuNE0S1MMHTqRFLTQtbJFCOnOA5li1l3dIHKRmI0x4GfJVi020FLiNTh9XSUOHmSomnq4Zadr5d1KyCCHesG9l3r2OIHuWscTYloO3/AAxNscRwLD9na/CayWiqmtkj3kWVzXxupaUuimjka6OeIlrXZJGuF2NNrgEc6bb+EntVi9O6inxIQU8jTHO2ihipXzsNrtfLGN61pAILWOaHBzg4EGyCx8s/KvCdumY5TuFRRYZV0lOx0IBM9NRFra3dEnK/M91WGOvYgsPBbZ8MXZrHa91JtLstWYlWYZPSRMngwieqJFnPfDXMhpn3likila0lrbs3F3aO04jWw+THlo2g2cZucLxJ8dKSXGjnZHU0uY5i4xxztduCXOuTEWFxAvdB7uwzbOpp6h8jNpnUUVPNLWvqXYiykbSxxudUCZ1Q4Rubuw67CSXC9gVW9i9gsWxqOplwrD569tG2N9U2mySTMbOZBFkgDt7OTupNI2uIy62uFeNuPCR2pxeCWjqcRjipJ4nwVFPTU1NE2aKUFsjHSGMyhrmuIIDwCCqdybcpGMbOSSTYNXPonzBjZwI4JmTNiLjGHsqI3sNs77G1xmKDqTwMdr9s3Yk3CsUp8TqcHbFKZ6jFYZ2yYe5jHOg3dTUtEkpfLu4hA5zrNcXNDQxy5z8JiioqfaTFocNEbaRtW7KyK27jnLGOrI2AaMayqM7cg0blygAABWbaXwo9ra6B1McSZSse0skkooIaedzXCxyzAGSF39aIscO1aVJQfiIiDLwf3+H8bH++1bHWuMH9/h/Gx/vtWx1YSRERVBfrTY3HEaj5F+Ig3xyWQHFo4baxxvPjDXcDu2gm44FrnFgt2O+a1YvscBnkip4nPtmDBljzcLtL2tN/m6gOCp/gnVQMlZTED3EUzXa34va8dluixb0rahjej18PlP8A0XI3k9M4h2tjHVXLn6PZOoD5JZWNbM8m7SL7pl9A3q11PXoG9hU/sxsgW6yC46/N2eX/AKrY1djFNCbvMYAHSc+wAt23UezbPDnnI2aNznGwyatHlJvYBcXVveXXrSsY4YeP4ZEYsugyDQf99NeC0xtzCWOMsLy1zxu3gXAc0OJ4douB/fat81ETJQTG8OYeD2nMAfkWpuUGnFPI2OWM5nEvAjGdsrLHPYNBLXZM3V1Ada9djaerpae+px1Khg9SQA2UWzsEeozgvYTka7ycezrCre1UYbUyWFgcjgP7UbCf03Vwwpkk87IaSCWpyuBlAbfdxkN6T3ONoTYNdZ5bc3sqvt5A6KtmiewsdHkjLXCx6MbLHzWtbyWXd22IvMfBxdeJ6YnHGe6DREW+1BERAREQEREBERAREQUzbn39v4pv78qgFP7c+/t/FN/flUAsWQiIgIiICIiAiIgIr3yQVmzML5ztTSYtVRFkYoxhToWuZIC/embezx3aW5LWvwK6H5I+T/k92nir56DDtoYm4ZCyoqRVzxRukZI2oc0QbmpkDn2ppPdFo1brxsHHqLeO0uL8m7qWpbh+FbUx17qeZtDJUPpDTsrDG8Uz5w2ucTCJchdYE2B0PBaOQERXjke5MMQ2qqJqPDX0rJYIDVymrkfEzdNfHGcpjjeS7NI3SyCjoiICIiAs/Z7GanD52VlDUS0tVEXGKohcWSxl7XMcWOGrSWPcP7xUhydtw44hSjGnSNwrejx50OfeiCxuWbsF9724C69uU9uFDEqkYC6V2EZ2eJOn3m9LN1HvM+9Af77vOI4WQRu02P1mJzurMQqp6yqeGtfPUPdLK5sbQ1jS5xvYNAFlGIvaiaDIwEXBe0EHgQXDQoJvanbfFcVjigxLEqythp//AC8dTK+VkN2tad2HHo9FrR8iry6C8PPZ2hwzHqenw2hpKCB2FQTOho4YqaJ0rqrEGukLIWhpeWxsF7XsxvYufUBERAREQEREBERBl4P7/D+Nj/fatjrXGD+/w/jY/wB9q2OrCSIiKoIiINi8l9QcPllYKjJLUwlntbHuLGxtE2jiACXMuPlGqkanaWupDcTVEgdHv2GUPmiAuSL9cd2tOlxxGnEKN5HaJtfiNPa5fBTyunhIA3scUbomPjeXZcw38d2ut7k2JutsVWCCtlFPuS3Od3eQg5GPuJXNYzQvEeexJ0Nj1LnbqYi/MZdjZUtanuzMYa929dWiWJlVBKzewxTwxOdHeSR+czR2bcXZ0LtuTqLHVR0NJVysidTysjJLt9E4agkjKxjY+lwFtSLarfvKHgbarI9ozSxHNT2yksfrbR3UdPmB0IBFSwCrsdMrJW+7LYo2yNcPdD23MAb36iuV7THaKxEurXZzaMzMz81KwyjrqeV0dS2YRyQxmERzlscMkD5d44Bzi9zpGyxi1ne9akaK3HZVhp5JLOLszpIor5Hlrs996Wnpuyvd0eBGlutTrSJnl7nXeO/robG3YG6DQdgWbG7MNNLGxH+HmssPar8Ujj1x5vO2zpEza3Mz/DX2FU0NNJHHUNkibMC8bprWtay7Q1r72IZdzrdlitZ8rzA3EHMvd7Io45CTc5m5hHmPW7c7hdB4i+lijkrqtuVtM0kS9xsfSsxt7Pe5+gBB6VrLljGsQfVzy1Mnu5pHykXvlzuJDAesNFm+ZoW54XW19S2r5Rx+fs1vE9StNCujHfOf2z9c/wAMRERd18+IiICIiAiIgIiICIiCmbc+/t/FN/flUAp/bn39v4pv78qgFiyEREBERAREQEREBdW+AP8A+S2p/wCAp/8AlYsuUl1d4A//AJLan/gKb/lYsg5RXSnKDTsHJls/II2CQ4xOHSBrQ8jfbSaF1rkaDTyBc1rrrCdjazark5wvD8DbDWV+H4pPNVUu+hhkaN/i5MYdM5sbZd3iNNLle5t2E2ubAhWvBHp2P2f23c9jHOZgwLHOa1xYfEsf1aSLtOg4dgVs/o7Nrqh0ldgu7pvFYaabEmSbs+NGeSSkiLHy5rGDK2+TLx61PckvJkdmNmtq6atq4ZMaqMElqMQw+B7ZW4bT+I4v4hHK9os6okvVOdYkWYy1xZz9bf0eGJQxY7VUssjY5KvDJoqYOIBlljmppHRRgm75N02WSw/BheepBR8d23xLlAxHCMKrYsPpSavxWKSgpzBlZiElKyeWUOlcJN2yAOAFuDuN1t/lw5YHbC1o2Y2SoMPooKKGA1s8tOJqiqqZ4o5hvXkje+0yQ5nuu4lxFwGgLTA2WxfYLGcNxDGaF8McNcJojG+CVtbBQyweN+LFr+uKZti/L763hYgba8KDkZxPaLFBtLszEzGsNxWCnl3tNNTt3M0EMVNlLZnsO7cyBjr6lrt612UgAhictWGUW1WyUO3MVDTYdjFPOKXGG0bd3T1YM7abeFvEy55aWRrnEuDZXsc5+VjhauTXF8Nwrk9pcVxHDYsSNPXTSU1LI1m7nrfG6llMKlxabwMLjIQb33TRrwUBytNZshsPDsjWywux3Ep21tXRwyNlNHAKmOpzyll2gDxami42e/fFheIyVi4l/srpvym7+OqkEBsLypV2121uAz4pBQxmnnFNHHSRSRxGJxlkyvbNLJexNhrwA86rvhNVMVFtpXTmmhnhp62jndRva0QTxxQUb308jcpbu3hpadDo46FQ3gsf60YP/wAaz91621jdLQzcqTosUELqN1cy7ai25fUDDGGhY8O6Ls1WKZoadHFwGt0Fj5I+WXbHEa+gjGzLGbOVVTT00rKPCKxlBDRVEjI3VDagBzA2ON+cuJyEMNwBw0h4UWAUuGbWYhR0MDKalZPSSxwRANijdVUlHUStjaNI497PIQxtg0EAAAALorbLZzbZ21BxXEcS+5+ytFiENX4w7E2UWFDB6apZI2GSnjlDn1T4Ru3b2OzpCQXZMpWpfDh2SraXaaXFZoHNoMQfR+KVHRLJH01JSQTRGxu2RroXGxA0IKDM/pGf9Yqb8j038Zia5pXS39Iz/rFTfkem/jMTXNKAiIgIiICIiAiIgy8H9/h/Gx/vtWx1rjB/f4fxsf77VsdWEkREVQREQXHkXx1uH4rTzSECKTPSyk8A2oblYT2NEu6J8gK3zS4vLJWSNiABbG5hNj0XG3Dy2BH95cqFbz5NMVlxGHNT1G4rmMEFQ8ta/wBsDSIahzT7pkjWgO4HMx2o0XP3tJnFvLPLr+Ga8RFtP17fdLYtiWJB7t1MW2sCctyT1lubqUe9kkTTI9xMriXuN7OLnHU2PV5D2KZrYnvjAqaetfVMG7mAkZFBNKIwTNEWkuEBedL62vcdtPxbBnVQySQQQRAnOI5XzSuBy9EvytDODuBJ6XVZcjW04rPpDu0taY4z9IWHDsSe46nW17jh5fMf5hWvAKzOOlxt89uB/SqNh8QaMo0A0+SwAGvVYKw0FSI7X0WvXmXnrW45Uzl/qzFHFTjNaeWWV3SIbaIxlt29ZzPv5LLTq274QVOXR0dSB0c08Tj2F4hewH0H/MtRL6PYxH6MTHx+r5re5/WnPw+giItxqCIiAiIgIiICIiAiIgpm3Pv7fxTf35VAKf259/b+Kb+/KoBYshERAREQEREBERAWZh+KVFMHinqJ4BIMsohkkiEjRcBsgY4Zx0naHvHtWGiApPANoa7Dy51BXVlC54DZHUc81M6RovZrzC9pcBc6HtKjEQZ0eMVTd9lqqlvjN/Gssso8ZzZ83jFne3X3kl81753dpWLTzPjc2SN7o5GOD2PYS17HtILXsc3VrgQCCOFl5oglMf2irsQLDX11ZXGMERGsqJ6kxh1swjMz3ZAcrb27o7F94DtRiOHtcygxGvomPOZ7aSpqKZrzYC7xC9ocbAC57FEIg9qyqkme6WaR8srzmfJK50kj3Hi57nElx8pXqcTqDCKU1E5pgcwp95JuA65OYR3yB1yTe3WViIg9aSpkhe2WKR8UjTmZJG5zHsd2tc0gtPlC/a2qkneZZpJJpXavklc6SRxAABc55JcbADXsXiiCWxnabEK2NkNZiFdVwxWMUVTUzzxxEAgGNkry1mhI0A0K+MW2hrqtkcVXXVlVHAMtPHUTzTMgaAAGwtkeRELACzbcAoxEGVieIz1ThJUzzVEgAYHzyPleGgkhodISQ27nG3lKxURAREQEREBERAREQZeD+/w/jY/32rY61xg3v8P42P8AfatjqwkiIiqCIiApjY7aCXDKllVF0g3oyxXsJoTbPGew6Ag9TmtPUodfRYRqdOvXS/VoOJ17FJjMYllW0xOYdQYuwV0EVdTSAwTxtkbm0vnAIzDWzxwI6iCoGHDZG6yEAdgI4f4Kl8lu00zWw4MOm6aWQUhcQGseIpp5YSe57U8g96S3A3Uhj1fVRvLJI3RvBsQ42A+Y2PnXA32hMTh9Jtd310hN1crYzpx6uC+qWbO8EnQcP8/KqjT1EjyLkuceJOgVlwdjtL6dq58x0w9qz1zmWXypYbJV4RMadwFTTWrIbgEPMFzJC4HRwfHnbY9ZaufROHOcAMtibN7AdRbtsDZdAbe4sKXD6g5rF7DE3tzS9A28wJd/dK5uo43SOzNJDnSWYBexuQLfM5dnwm1uic9s8fdyPFK1jUjHfHP2SiL7qIixzmEG7TxsQHA+5c0ni0jUL4XWcsREVQREQEREBERAREQfLo2nUtB84B/avncs7jfRH8l6Iorz3LO430R/JNyzuN9EfyXoiDaPgtbGYdjeLyUWJ0jKqmbh1RUtjzzQ2mjqKBjH5qd7H6MmlFr26XDQW6f9jrsl8Ss/O8S+tLQHgRff+X8k1f8AF4Wu1VFap9jrsl8Ss/O8S+tJ7HXZL4lZ+d4l9aWw6LaCjnqZ8PhqoJK2lEbqulY9rp6dszWvhMzAbsDmuaRfiCvOq2moIquLDJK2mbiM8ZmgoTIzxqWFu8vKyK+cxe1S9K1va39hQUD2OuyXxKz87xL60nsddkviVn53iX1pbWRBqn2OuyXxKz87xL60nsddkviVn53iX1pbWRBqn2OuyXxKz87xL60nsddkviVn53iX1pbWRBqn2OuyXxKz87xL60nsddkviVn53iX1pbWRBqn2OuyXxKz87xL60nsddkviVn53iX1pXHANt6KuxCuweB0hrcMEBrWujc2NnjbN5DkedJLt424KSx3aGjoDC2tq4KU1MzKWlE72xmoqZNI4Isx6crupo1KDXnsddkviVn53iX1pPY67JfErPzvEvrS2LtHjtJhsDquvqoKOlYWh9RUyMhiaXuDWAueQAS5wAHaVm0k7JWNljcHRva2Rjhwcx4DmuF+oggoNW+x12S+JWfneJfWk9jrsl8Ss/O8S+tLayINU+x12S+JWfneJfWk9jrsl8Ss/O8S+tLaywNo8Whw+lqK+pLm09JBNVzua0vcIaaN8spa0aucGMdoOKDXHsddkviVn53iX1pPY67JfErPzvEvrSuOC7dYdVYYzHhUtgwuSPfipqv8AR2sizmPPLn97GYW17Qp3Da2KpijqaeRk0E0bJ4JoyHxywytD45I3DRzHNc0gjiCEGsfY67JfErPzvEvrSex12S+JWfneJfWltZEGqfY67JfErPzvEvrSex12S+JWfneJfWltZEHJHhY8lWB4FhtLU4VhzKWeXEWU0km+qp80DqSvlLMtRM9o6cMRuBfo8bE35s3LO430R/Jdj+Hb96KH8rR/wGKLjxVHnuWdxvoj+Sblncb6I/kvREHwImjUNb8wX2iKgiIiP1o7SAOsnQDylZdJFC46yF3aQMrL90E3LvmCgmEyuN9W8bDhx6N/kN1MSgRtA17ANCDcXPFFe1dWRxA5AGDgDYZ3HtBPSt51gUjnPyTHLZxe2NrXXDHM1dfr3pGo8mo/BtjVQ3rw0us0C73dxo46DUcDw7Co+irTlJia8NsbuOhcblzCG/g2IZY3va+isJLYOxFayDHMML3BrYnvkk7rd9BI0DThZsmv9ldA7YYZHP0nNBI6/wDPUuS8Kc5tdS2Ju3W5PCzQ0DjoNCt/Um0k0UeW28jI9ydcna1vW0eTq8i526jqtj4Ojs9SK159XjBTMa+zW31UtBx4DRVtm1Mcbi4wPJPAWAGvVcn/AAWBiO1k+V742MiHeOpubANBItckgcFyp2tp4dP2vTrGUDy44w97o6Nh6LelIerO8aD+6w//ALVRcGjtJc8GNLhp+HZrWEWOtnOafkWVjZmqniUvc4/hl1r5hdxeXONg02JueGXzLAwqQSEtbI10ri27Wkvs3ouLnOAytIc1oy3vx7Ne5oaMaWnFI8nB19WdW83nzXKGW04Y8Nkikb7lwu0tIbby8D/+K9qjZTOSYJWsudGTE2AJ4NkANx5x8qiqm4kheD7l27Nr8HaftN1aqCoIGR1z2acOPCwXq81PxXCKilPt0Tmg8HjpRnzPbosFbQZXtaCHWI4OaeBB4ggi1v8Aqq/i2EU0t3RAQO4AstkJ6g5hOnZ0beYq9XqYU9F+ytyuLCRmabG3mBBHkIIPyr8WSCIiqCIiAiIgIiICIiDePgRff+X8k1f8Xha7VXFXgRff+X8k1f8AF4Wu1Viycm4xyk0uzG1e11bM01FXJBgsGG4fGf8ASMQrH0VM2OGJou7dguaXvAOVvAOcWtdt7kI5Op8P3+OY25lTtPigEmIT6ObRQHKYsKpCCRHTxBsYdlJDnRN1cGMK1jzDodpNq9ssKxGPNDLTYK6OVtt9S1DKGDdVNO4joSsJPkcHOa4FrnA2PkJ2/rsLrnbEbVS3xSBoOC4m+4ZjOH9IQgucenVNDHAOvd27e13tkbnSBYdruVLEZ8Xl2b2Yw2mr66jhZPildiM0tNhtBvmsdBAdyx0lRO9r2mzOGoscsmTI5OuVCsmxWXZnaDD4cNxllOK6lfSTOqKDEqPMWulpnSNbJG5rmv6DgSd1Jwy2VE5PcXptm9sdo6bGaiKhGMGhxDC6qseyCmqYohUCSKOaUhm8D6rdhhIJMDrX0v8AgxWDaTb/AA+qweWKtosCwyoOIV9Od7S7+ujrIYqVk7BupH/6TG4ZXG+WcDWJ9gm8U5bsSdjeJ7M4XgQxDEKR1MKN2+MFNuJYWy1dZiUzxlp4YTJC0Nbd0hkDRrZT3ItynV+J4hiWAY5h9PQYvhYglk8SmdPSz09Uxr43sL+kwhskLtSbiYaNLSFAcif+uO2P9rBv4WZY/Jv/ALQdpfydhn8Nh6D6g5a8axDEsUwHBMBhq67D6x9P4zPO+HDqejjL2iprpCMxnkeGtZBHcuDZnXtGb3/a7F9pm+KwYThGGTTSUwmrqyvrHwUVJVDIHUscUDH1E9yXkPGgDNTci9G8Gb787YflwfsqVF8rG2z5tqW7OYlj02zGBxYa3EPGYKiHDZsTq3ysDYTXzC9NDl3wtGWkmnlF7ubkC8ci3KVXYpW4ngmM0FPQ4vhLoN8aOV89JUw1bHPilhMgzs6IY6ziTaVvAggRI5UcbxivrqPZXC8OqKLC5zRVmI4tUVFPFU1sdxNS0TaeNziWEEbx12m4Ogc0uofg0YphrdrsfjosRlq6epp6D7nVNdUz1NTiIpYxHVvhnrDva1jJmytDwXDLGMpLQCngr7a4bs4zHcEx7EKfDMQp8crKtza+RtNv4JoqaNksBlsJ83izngMuS2WNwBDgUEx4NmI1NXtVtVPW0L8Nq3MwcVFE+WOoMErKZ7HBs0XQmiOTM14tdr2mwvZZ3hk1UcDtmp55GQwxbTUEs0srgyOKKMudJJI52jGNaCSToACo7wZ9o4MX2p2qxGkbMKWoZhD6d1RE+CSWBtPIyKoEclnthlawSsLgCWSsJAvYS3hfNBl2XDgHA7UYcC1wBBBcbgg6EeRBibKUzuULEo8cqmvGyOFzvGB0MgLW4ziEJLJMVrI3aup43AtjY4X4g2vMx+yeWzlJj2bpYZBSyV9fW1MdBheHROEb6ysmNmMLyDu4xpd1jq5gt0lp/HaWfkzxN2JUcUs2xGKTj7pUkQL/ALhV0haxtVCwatp39FoyixDRGek2DNn+FVVRsn2W2tjc2qwbDsREtXUQB08bKPEnULoq4GIOvE0UuhA1fJE0G7hcJnaLlU2j2dbDX7UYLhrcGlmjgqarB6qoqKjCt9pG+rimitOzN0SYja/AklrXT/L5ytu2Y+5ckdH90IcRrG0sghL3ziI7t2ajZGD4xO5ryGsuA4louLqkeFvt9hWKYBJg2FV9JiuJ4tNQ09BSYdPDWTSObWU85eWwOcY47U72ZnWGZwHavHwiaB1JNsLSvcHPgx3C6d7hwc6F1CxzhfqJaT8qDYFByg4rh2HYhje1mG0mE0dNFFUUlNSVPjtW7eGRppah5yxGqdI6ljblytLptSLaUHbLbXa2u2er8Qq9ncPgwmtwmtPi8NdI/GKKkqaScMrJ2SxtgmY2N7ZHRtLJMt+iHAtVs8NPCZ6vZXEW07XSOi8Xq5GN4mnpqiGSod/ZZG18h8kRUDt3y2bP1my1QylxCGesrsHqaWDDKc76viqJqGVj456eO76eOHpufI+zA2JzgSLXDy2KxiLD+TmCsnoqfEYYcN3klDVgOp6hvjJGSUFpBbrfgdQFY9s+VE4FsjRbRUmHUwDqLCnxYc1xipqeOtip8sERY3oxxNkDWgAaMHBUQf7Lf/tP/wDUsbl6/wBmeHfk7Z7/AJVEgsO2PLhtDQ0nONuzMTNmGyQjPV1W6xeekqHsjirm07btponvkYGxvDn9NpIynMNh8sXKnDgFBT1kVNJiFXiEsNLhNBGd3JWVNUAYml1ju2AEXNjq5jfwgVW/DR/1OxP+zh3/AMnhypnhJUslLBsjtIYZKigwWpppsSZGwymKnqG4e4VRaDYbs0hDXHg+aPUXQTHKRyt7WbM4e7EsY2ewmaJxja2XD66ZzKSSR7A2CujmjzkuDngSwlzQ5gB92COgYH5mtd2gH5xdck+FzyyYPjmz89Dgks2Jkvo6mqqIYJ46Wgh38e68akqI2ZZpZLMbEAXaPJDcuvWtIOg3+y39gQaA8O370UP5Wj/gMUXHi7D8O370UP5Wj/gMUXHiqCIiqCIiAvGtlyMc7sabefqXsozaB5yBg/COvmCBhLi11hfjGO0XDG6H5VJYjUEvY0aNGawHFpA6TSONrm4WHhzTdr9bF44HUgjXhx49a/ZZc07rfgtA1sNT/wBAsu0DyqrBr+svZLfrB6D2jjpYXX5RU9o8oFurhxufL519VA0cRpoGAA8S97GkaeRxWVTjgOFzewJP6RqfnWI9sBjD68AWtGwcO3pLbNLDnaWh5b2cLEf57Fq/YKAvq5XdhDfJoB/ity4TS/JwvfguTr3/AOst3Sj3UM7CpZD0SwNvxyOv+l9lU9vW5HNpg973N6chBAAc73DcrQBoLngeI7FtXEXx00Lpjwa0m5sLho7fmHyrSVVUGaR0shs57i4nsvft/B4Beu2jqnqnyYa04jCLmYWDLI1rozdpuLtfcWLJLa2tcXHC6k6SBl2iMjJla8ZQ1pDTfoPA4O049dgRxWPVzgDtGgLBo55Nwxrf7Zv0uprXnqAOTh8O7BuQ6RxzSEcC4gXA7rABlaOoNAW7LVe2QA6gkh1xe+XQi1rFScFRpd3AeXQn/IsoeKTMRex1tw+XT/PasXEa8ueIGHQavtwvr1W4WVwqaqcQvw0HC4v5B0j5LrBrsUDG3ubnpDtDOrXtJ7TwA7So6smLnshaQAbZjaxsLl2o68rSovE6wvfbRw4AN4XHVrropgYlfWOLxISRcjyfP5dApimlD2hw8vzg2KgsQbpfr42/yFmbOzXa5vYbjzH/ALLKBKoiLJBERAREQEREBERBvHwIvv8Ay/kmr/i8LXaq4O8Fna2gwTF5K3E6jxWmdh1RTNk3c815pKigexmWnje/VkMpva3R46i/T/shNlfjf9TxT6qoyhsOlwWkinlrYqSmirKgMbVVccMTKmpbC0NibUTNaJJgxoDWhxNgAAvHHNmsPrnwzV2H0VZLTOL6SWqp4KiSmeSxxfTvmYXQuLoozdtjeNvYFQvZCbK/G/6nin1VPZCbK/G/6nin1VQXzafZnD8UY2HEqCjxCJjs7I62CGpYx9rZ2CZpDH20uLFeuz2BUeHRCmw+jpaGnBLhBSQxU0Qc73TskLQ3Mes2uVr72Qmyvxv+p4p9VT2Qmyvxv+p4p9VQbDosFpIJpquCkpoaqpyeN1MUMUdRVboFsXjErGh8+RpIGcmwOiU2CUkdRJXR0lLHWztbHUVjIYm1U8cYaI2TTNbvJWNDWgBxIGUW4LXnshNlfjf9TxT6qnshNlfjf9TxT6qg2HhmC0lK+aWmpKanlqX76rlghihkqptfbah0bQ6aTU9J9zqVh7UbIYZiu7OJ4Zh+IGK+5NbTU9UYs+XOI9+x2QOytuBocovwVI9kJsr8b/qeKfVU9kJsr8b/AKnin1VBeZdlMNdUQ1zsOoXVtNGIKWrNNAammhaHhsUEuTPFGBJIA1pAG8fb3Rv4Y/sRhGITMqq/CcNramMBsdRVUlNUTMa0kta2SWMuDQSSBfQm6pvshNlfjf8AU8U+qp7ITZX43/U8U+qoNh0WCUkE01XBSUsNVU5BVVMUMUdRUiFuWEVErGh8wY3RuYmw0CYvgtJWGI1dJTVRp5W1NMamGKc09RH73UQGVp3Uzep7bEdq157ITZX43/U8U+qp7ITZX43/AFPFPqqDZWJ0MNVE+nqYYqinlaY5oJ2Mlhljdo5kkcgLXsI4gghY2F4FR0tOKGlo6WmogHtFHBBDDShspc6VohjaIw17nvJFtS51+K197ITZX43/AFPFPqqeyE2V+N/1PFPqqC37ObBYNhspqMPwbC6GcgtM1JR0tPLkd7pgfDGHBhsOiDbRSeLYHR1joZKujpap9NK2opH1EMU76WoYQWT07pWkwzAtaQ9liLDVa99kJsr8b/qeKfVU9kJsr8b/AKnin1VBtIqs4fye4JTvllgwTCYZKiOSGpfFQ0jHTwzi08MxbEDJFIPdNOjusFVP2Qmyvxv+p4p9VT2Qmyvxv+p4p9VQX7m7Q+K/c3xCj+52TdeIeLweJbq+bd+L5N1u82uXLa6Yhs3QVNM3D6igop6BjY2MopqeCWkYyCwhY2B7DG1rA1uUAWblFrWVB9kJsr8b/qeKfVU9kJsr8b/qeKfVUGxcawilroXUlbS09ZSyZd5TVUUdRTybtzXszxStLH5XsY4XGha09SheUCbEqWkacDw6jr52PYx1DUTCjifRhjw9kMmUsjkuIwA4ZbXVU9kJsr8b/qeKfVU9kJsr8b/qeKfVUFB2p2S2k2uZT4RX7PUOyeAtq4qzFAyvpcQqsQZCcwp6YYexrIcx4ufY3axwd0Sx/SC1b7ITZX43/U8U+qp7ITZX43/U8U+qoKd4dv3oofytH/AYouPF0l4WPKfg2O4bS02FV3jU8WIsqZI9xWQZYG0lfEX5qiFjT05ohYG/S4WBtzaqgiIqgiIgKHxF2Z5cNcnRcO0cTbygqXJUHTPJc4t1N3E34PBOrT/PqVgScZywxH+t7rXUZjxPHgOpYUEvt0uutx1A9v8An5FlSR56du7/AAXOLGuNnE5m+1tvoXX0GovbS9wsOnsJZj2Bululfr0PA3CyuQz3tuw6ZhmZ8hzB3Dr0YeKyaVo4gm/DhbiewXI4LwYQWWN3Xc3iNQMk+nDTXX5F6F4DXOF7NBcctgOiDpxXmLFyV012yzEOPtjzpqXAE2t5ToAFuCigIHA2tck21vppr2kaeZaq5O6JzaYkNIzXkeSD0gwbuJo4EkEGTzgdq2phsDnvikL3We+S8YLmt3bHSlmnB1s0XHs61zJ062mbfFuRaYiIVnlixHdxRUbT05PbZAOIijPRB/tP1/8AaPatWzjS2tu3gfPp/n51J7a414/WTVLTdhdu4DxbuIehG7j7l1nP/wDcKgJZHe4aem45IzYGztC5+uuVrTmsRbMY1u6VOmuGte2ZyysNYC4vcehGXBt9Q6VwAkfpp0WtbH5w/tUk4eUa/Na/Vrw4alYUEbWBrGE2AsOu3G1+03usozho1NiPwbW8pGvk/avRi+ZHCIF56r8dNbG/A+RQeBOL3SSO67gG44fKV+47iBeC0HTXtHbx+f8AQvnA3lsTh0NG3JsL8NeKyhJeRmAMkh4j2ttzY3cLvvbjYED5V54dRE+2O0HVoLW43Av2LGpqxjI2ucA4kuf0h1vJygfJYfIveSokeM8hyNIOWIaEggWv2cFJGPXuBuAb9v8AkcF8bOyWkt3gWnzjUH9H6V+ubfgBrZY+EHLKB5f8bH9qirUiIs0EREBERAREQEREBERAREQEREBERAREQEREBERAREQEREBERAREQEREBERAREQEREBERBh4xKWROI4mzR8p/ksGilbIRdjt4BxiLQXDrOV+jj5iF9bRye5b1XzH/BY1J7WM72gWByg3PHr08l1YGZWFpjMQ1GYta6QiOzyGuDTYltybt42uRwXvs/Qy1TQ3dTSyAuYXsje+YBvFrwATKBYiztR2hbb8EfYiKtnlxbEqaklw1gkipBUneE10JgL5BTvBY9jY5H9Nx0e1tgdSOpqXE6KnIYyOEEaBzWMYQB1NDAABpwt1LR3W/jTnEVz8cx39PVu6GxvqV6o/I9XDeH7K4jKGRjDa18wu7IaWobeNsMri6z2A2AOvEX0vwvDVIaGPtpq1paP67gLeQr+gtVtHSM6T4g6MkCwvceUarXPL5s7Q4rQuFBRMdXjLLTua2zy9jg4sMjgGtBaHdDg45eHFa+n4lW2Yt7vzel/D71iJiJn5NH7KTWjZbSPM6S2uaRsbgbi5s1uWKRvYdToOMztXjrqShnfHmLreLxOzZ3NmqBJG94dwORwJ0sLN04BeWyNOY4zHJmDml4DXNs5rmjI5hBvY5mu7OJ01KqfK/XNvS0jRlPtlRJYBtg0NjjabaZbmX6Mdi9NCYm2HjqcRlTYxlbcZbWy2PAdnEaDjfq0PYvnCbPJmJJBBZDe49rBJc+x4F7iX+YtH4Kxa+VxDYRo6S7ewiIe+m7dC1xsziP8AeLNjmAFmgW4cNNPNot5qM64HDX5bC381GYlUgC1yDc34HydXkK/J57Dj5rDhcEquyPcXEkk3N9VlAyaiXy3Hl/7r68aywzOB0LWsb1avLr2+SyjppNbLKrb7qOMWzSSAi/Do2Df0gqjIoYWxtbNNbNb2qM6kNto4jjdflQXv1cA1vVewJtw0WU2ERHQ7yS3TfcHXrt2BeboQelK+/kHHrUkYwd+Dx+RYkT8kgJ0s/h5L9az5ZuLY22HbbXyqJlBDrnTz9fyLFV2ReVI/Mxru1oP6F6rMEREQREQEREBERAREQEREBERAREQEREBERAREQEREBERAREQEREBERAREQEREBERAREAvoC0HtccrR5XHqCCu44SZTmc2NgsLuIBNgCco4u6+CxZ8VisQ1heQNC/3NwNCWjjwVli2ZE2WXxmIukaXNswOc8D8JgJuI/KLjyr82f2ZbNiNHSyPMsU1ZSwyMIia58Mk8TZW5WO1BYXdV1naMRkr704dQ8i2zDKDDqFlRUFhjhE9RAQ1rn1WIh00rJBwayMStYOsmMcLFWnFMGw8XmMtRfXK1kzmi58o6/OVWttdlZ8XqzFFVfc6na28lUC4SAXAaIGNIzuzBw6RAGUnW4BzdsNlWWDosRqY5CQBuA1kd+8WG4K+e1Y6otaeOZ/19XT3JrWJmeI/z7ozEcMq7tfTVcVQziIqs5JW+Rs0LchH9pnnKm8EfVxD2+It0tZsjHi393q8uir+E4RXsNn1UdS0XyucxkMgA7xa4Nd6IU6TVwssI7t1uRY8fl0K5mpT45bdZzPPDF2ipo6q8jYwypYbiQAAztsQY5NbbwWbZ/XYArl7batfVYjNI6zTHlpQ0aZdxfNYAk3Er5Li99Cum2TG+pvfi0/gk9TiB8y0h4QeyRp3HEqaN25qXtjqsouyCoebGdw/BbKNMwtaR7u+Auh4ZuMW/Tt59v6cjxTa5j9Ssdu8fdrOj9sc6YNu0kBnDSNtwCTYXubu4fhrOa6w4gDz/t+ZfVK4RMDdPLw1HC2nyKPqagDr07Ov9i7zglTUk6Ai1h/m3aoqckG+lu3tXrU1DLaXuf2fMsN02YW6+I8vkWSPppzPCzqsF8kTcokyM3hbewNrcba8T+hR9I4Zrn/us7DsQEdS17m5mOa6Nw7GuIsR5QQ1Ue5qHPAPRb1WaLf91+wEDjx8uvWpDEMNB9ugIc06kC2mv8lFOJB6Qtbjf/FTuPeoudf2edRlYOlfrspNr7j+X7b2URVHpG3VoscKtWCSZoW+S7fmWaonZd3tZHY4/pAUssgREVQREQEU/sPs6zE5KiE1kdJJDQ1dfA18Uk7qyShjdM+kibGQWyOijndm6RAhdZruAxsB2YxHEG7yhw3EK2PX22kpampiBboRvIYyzMD1XvogiUWRiNDNTSGGpgnppwA50NTFJTzNBuAXRzNDwCQdSOorHQEREBERAREQEREBERARF+XQfqIsiloJ5mySRQTyxwNElRJFHJJHTxuNmyTuY0thYToHOIF0GOiIgIiICIiAiIgIiICIiAiIgIiICCkE5bG49Fzhcd4d0+Q9fkui9qJxD2kcb6ec6C3l1WVO5PZM4dG1sjo4wCQRvZP7PuIx29Yt7lvn1WyuS3D2ur6Z8mr2ytdEy2a5a17yfOGxvdfqyrW2Ft3YAv0iS+TyuJzW+QlXrkxx5sOLUUbiAJI64Zjwa9kcTYzrw0dIL/1irq8Um0s9CudSsfF0TtDVxxsvLDBNEW2GntjS618w4gGw4dg7FTsSjwu2dratrtBliqJS1vlDHuc39CbQtkkkyb3LZtwLajjrfgTx0VSqsEpmPM8lRUSy9Q3r4ooweoNjIaPOblfP61eqfR9VozFY/pPtooLh0GIyADV0dVFG9x8gdDk/S0rwxjEHi0fjDXNPA3Lc1uogcFTJ8SmilAiPjUbibtf0QwNtmyS26TwDoDcGx4WKzKGrgqS7dPa6WMgSwnKJYyeGdtz84uFoX07fJ79dfmmaKrJ6iHjRw4aeQjiLdqlY6qCdpp3QiRjwWSiVoMZYdHNcHXDmlVzxpzPk0BOhHmPFZ1FjEbGPe5rhkY5xOhuGAk/JovCaTM8LMx5ufOU6ipo6yeOiDYoI3bpsYLzctNi5r3k31v8AIAqLU07r21Fu3XTtBbxGnYrHW1m+e57iS55c9wI63Enr86wXTahpHDS9+Gq+upE1iI9HxtpzMygybA9fk0N/mXlCTl4D5jfzAdqnJIQ4m4zN6tO0+TgbBYFVQuHSY0uYdMoGazh1ebyrPLFGAW8nEEHiLI94BaeNv5qRlwyQgC7S7XoC5IuLm3UTpw7Viy4a9paLscxwBZLciNweAQbkdHrGvAgq5E1g1W9tix12ni08De/bpdStRDHMBfK134Q0/wC/Uq6/CKuBzWuiLc/uHZmmNx8j2ki9ivqXB52OAkifCXEZZZJA2F5PANla1zC4nqvdMZRly074uIuw9YvYa/tURXNs4kcDZTFfRVVKBn9sjtckXcGHrBuBp5bW8qi5iH6jzEcMp04jiNbKKm9mBZj/AO0D87Wn/FS6jNm2+1X8tj52gA/sUmqCIiqCIiDffJBt74lBS4rjcuH1tLRhmBYRRU9JRTY9SvswGoa8NZLFRNpTI113uMhLBlzOBfhcvu1bH1WIUswx/DcUpaiOmw+mjrw7BTRxP/8ANNp2MjdTGamLZGhue5kj6QAcFTNhaaOtwnF6GOkppcSiFLi1JNug6vdS0smTE4aeT3QDInRyiNurg6fQ6WqO8qcQqG5pJ62sqZIoWPmkfNPUTSFkMDDJM4l7iTGwZjwyjgEVdtitrX4i6LBMenlrcPqXtp6arqHGetwernOSnrKSokvKYN46NskL3FhZewFiHUXGqCSjmnpZwBPTTS00zRewlp3vjkDSRctzMNj1iy2hs5yX4iaWpazBa9m0eH4lRSRuqCyOgkopRJ0WGX/RqoRz0+Z7muIyTMIJAc1VHljqGT4pVzx4jSYsZiyWStoYHUlJLM6Jge2CN0kl2NLQM4e4P1dcklBbse5KcOwo0rsY2kio4qykgqoGxUFTVVGeVpM28jhkIhpYyY7TON5CXgNbkJMdWcj1azGjgLaineGwfdB2IuvHTMwwC766RmYuYA7oZAT0yBmynOPbwm66Gpq8PdTzRTtGz2HRl0L2StbJnr3GMlhID8r2HLxs9vatpYltrQUu0QEtbSx0tfsvTYZ4/wC01NNSVMj55YXVIdmiMOUjM14LfbI81mklEafrdhMPnpaurwPHPuq/D4hU11NLQz4dIaTMWyVtI6aRwmiZxcw2c1tiTcta6J5QtjjhEWGzGoFR90sNgxTKI914uZwHGC+d29DQW9Po316IWydoosdoqOsfW4zspSU81HUU2XD48HNVisczLPo6PxOibMWSjTOS3L0XEC12/O2Wz7dpMMwWqocTwiBlBhUWGYmK+rZSvoZqZsbXPkY5pc6M2kI4EgMLQ4OuCoWl5GXSYvSYIMRGarwlmMeMeLEiMyCceLCPfjP04PfMzdH+501xcN5LIKypjw6gx2lq62Nss2MObTVMeHYVTU7W7+ZtbIQyvDZXCMbsNzFwJyAOI25T43QN2vw6eKvpX0bdmo4WVRliZGS3x97WvJdaOUxFr8h1AcNFpnwecbpKd1bh2IVDKKnxbCZ8L8dk6MdJPKy0b5idGREOkBcSACGXsLkBkScm1BWU9VNgGPNxeooYXVVVRSUFTh80tNH77UURme7ftb3AL6t1u5od9Q8mVFDh2H4zimPMoKOvZK7dsoqisqmysfaOKCOB5MzDGHPfKQ0MIY2zy8Ws3J7gXM81mL4tX4U97sOqKLD6Kgq2Vs1fUVLoS1zWsaC2lbum3e4aCS5DcutZ5UqyF+AbLwxTRSSQ0uJMmYx7HvicZqJrRK1pvGSY32zWvkd2IjOx7kkw/C5Y/uttNTU1FVtZJhdRBRVNTNVwyNY41M8Ub8tDTsMjBnc9wdqRlsbR7ORys+7NTgclTBFHRwmtqsUka4UseHhjHiqLM1w45w3dlws5knSytL1++EVWxTwYGIJopizZyijkET2yGOTI8GN4YTkkuD0TrotqbXbS4dNj2MYdNiFNBT4zgcGGw4jvGSUtPVbmUxNnkY7Kxjm1BJJIHRYPwwg1zs/yUYdixqXYPtIyrjpKWapnbNh9TSVIfG28O7jnkAlppHB4MgN4yGAtdnBE7SbLYE/ZVj343FEx2MNe/FvuPWSTR1DqMB2Gblr9++NoJdvQ7dm3C6y+RrZEbP1FfLiuKYOyokwetgpqamrYqh0kbt1JNUSOs0RRjcRhgd0n55DlG7KrfJ/SsxjZmXAqerooMUhxZuJMp62ojpPGKV1LHCXQOk0e5ry+46sgvbM24Q2GcndHDRwYnjmNNwqnrXSfcyGOinr6ysgiIBq3QxPBp6exa7W+kkeoLmg3jkn2Zgjp9p6Cmxegq6WXCqJ7cVbnhpYoZTiBkfVsdd9PJE1rnPju4gBvWbDCx7Bm7UYbhDMPrsNixDCKQ4TiFBWVUVM+1Puo46umfcsngfuC7O0lpEjdbtIWPsdQ0+E0O1FC7FMNrJX4RSASUcwfA+pc+tbLSU735fGnxufE0uYLXlaNDcAK5i3J5RSYbU4tguNjFmUDoW4jBJQ1GHSxMqHBsdRCKh5c+K5OhA0jk1u0tWuls/knroYsD2njlmijklpcObCx72MfM4T1gIia43kIL2XDb+7b2rWCAiIgIiICIiAiIgIiICIiAiIgIDax6wQR5wbj9iIglnVFmlw42JB7TbiPOqxtdjktLPRTRGz44HPsfws1RMOlbUXEbdf6qki82y9X/a/7FV+UF2d9O/8AB8WEd/60cs2b99p/vL11Ji1cFZms5huXBeXCg3bfGGTslLbOsHua12lz0erzXWWzlRwWRubxktdfUPjqcoB7CYjrcdS5qAWXu7FsehJs51v6w6A89jf+8FzbbKlvX8+ToV8R1a+n5823tv8AlHY5j4KCcTXDX542uZCwtIIsXAOkkBtw07b2savsdXPjGcOcJNOmCQ+/EnNe5JOt1Vo2WzXHANYPKXG518zT86s2AQ9E2Cw1NvWleiGHtFtS/VP8MvF+ULE4pgyOoBa1oJbLHG+5Nzq6wdw8qk8O5TquoY+llgizSxTNM0RczK1sZJJY4m9ybcetUbHIvb5Nbe4FgL/gN1Pk1X1hTcr33A6FNldxNnzSNd8+Un5lsV22niPdjMPP2rVjMdUsiaQtcRe+gHV2LwncRqOv/qF5GQXPbwXmx59yfk/l5VsNZkxznttof5f4le5qMosO9fS/Zp+xYbdQfkH7T/Jfpf13t/nyqYGZvbNDrkPBaQeOodp/nyLI8YYxro3C7HFxDTboFxzZR/VzF3zqPYRdt7ZQQT+0rHklMgceskuHyaj9imFW6lxNj2Mp3C92uyZtbOaLtHkva3yrJmxFhp7P6cbhkeziHNuOI7RcKkw1B6Lm8W2IssypqejYHoOJe0dmb3TfMCf2KYRnYhJI1piDy5sfttM8km8f4cT9elpqL90hQtU0OAlj6LvclvDUD3vzWuW/KOxe7qs2DQb21t2tI6bB+351hxSBriCMzescL2sW+Y9d1lgT2zTwYjbvE+a4H/VSigdl5LuksLNd0gOzXh+kqeVURERBERBl4Nic9FPFV0kz6eqgeJYJ4yA+N4BFxcEEFpc0tcC1zXOaQQSDcpdqcErXb/EMDnpawkSSVGA1jaKGeW9y/wATqoJYqVxNiTC4Akk2BVCRFdAclPK48VBwigbTYRR1EVc9tfjVfVYjNFiPi0jqSqmqKt7YI4jNFEHQNiykyOIJcTm09tbtG2vZTsGG4VQy07ZmTT4ZTR0YrnSvYWyTshAjuwMs3KAPbH2sCGiARB+AIAv1ER+BoHAAIWjjYXX6iD8sOxfqIg/A0DgAPMll+ogmsK2TxCqhNVT0cssHthD27sOl3Dc05gjc4SVWQe6MTXZbG9rLzbsxXeKnEBSS+JBhmM3QHtDX7t1QI829dTCTomYNyAggu0KvXJ3tNhdE3D5JpY4ZKcVTK0SYe6vrHSVL6psc1HVSOLKGjbDPAXMgDJc0M/RkMuZQmJV+HTQwzOrq1k8GEU+DGhpY3QvnfSQtpC51S8GIYZNE0yvicM5Mj2ZdcyCExTY7EKSNs09BNFG58cfBjnslnBdBHNFG4y08rwDlZI1rnW0BUhinJ/X01N4xU08sczq+mwyGkDGTSTzVUVbIWtdDI7LUsdSMjNOW571LL5dA69c+MKpXzz08kMrTiOF4nSUseGvp53wYZXGd1NXV0znz1mIGKQe2SvdFmhe4PvJlEXs1tNheDmN0NXU4j/8AWYsSkBpnwFtJ4hjFG91p32kxBjsQje4aMcWMAedS0KbUbE4k2aOldQTOnmbLJTxx7uffNpmufUiJ0LnMkkja0lzAS5ugIBIB9a/YTFYI3zy0ErYYonVDpQ6B7DBG3NLPCY5D4xExur3RZgwA5stlaRtdR0zGUsM1O6NsOMPL8Ow77l0ranEMImw+kDY3Xnknc8s3khysa0RAZ8pcozBtpqWI4cXueG0mC4th01mE5arEOcG4azvMP3RpbuGgu6/uSiqvVYBVxPnjkppGSUkbZqtrsv8Ao8UhgbG95vbK41NOBYm+9ba6jlsfbbEd3hFEySOaDEsQgpo69szXMdJh2AvqoMLnLZLPy1DZIDnI6X3KaQSCL64RBERAREQEREBERAREQEREBERAREQFi4nRNnaGmwLSXMdYOyl1swIPFpsLjT3I1WUiCs1WDMgY6YjM9vBmpicTYXsekWa3ynzXKgoHHPncbnNmJPXc6q4bRP8Aa3MB6XRcRp7nNb9tlVY2CwJ4X17TpwFuJ8iYEpPBlyMGoe90vXbKAGxkAgEcX/Mrzs3RAMuQqm1l5w0aiNjGg6dbQ93DQnM8i/XZbCwWICMeZaevbN2xpRxlRNpKcCeTtO71Fh/uxx6yvhtJu45J2lrw8wizHAuY2KEZg8fguzOOnHog8CL5m1mUVD72Jyx/hG40I1b1Dh/kqvV1TK1ha15DC67mCxa46dKxHkA+RbcdmvPd4PYXnQ2FtfPfgNR8q8je1utt7HqcBpp5l8+NPIsS21yfcs4kWJ4diCd3k6wNLcdT7lB9tkPEdetv+h4r6dLfQi36NV5GXgC3QXN2mx186eMDUhrr6i9wdT5LedUegdc5fIdV9U0trXHBYjJgOrXyr7ErT5EH6527Jb1dXm4hfYmuMl9L5m+RfjXtcLG1+o3HD519OpesaEdnaFADjcEGxGt+wjgvRzszsxtqNerhofMvMRuHugQe3qP8lmYZh75nC4LYvwncLjsb2kqqldmKYsjLz+Gej/ZHA/Kb/oUuvxrQAABYAWAHAAcAv1EEREBFTOdc/ch9F/rpzrn7kPov9dRcLmipnOufuQ+i/wBdOdc/ch9F/roYXNFTOdc/ch9F/rpzrn7kPov9dDC5oqZzrn7kPov9dOdc/ch9F/roYXNFTOdc/ch9F/rpzrn7kPov9dDC5oqZzrn7kPov9dOdc/ch9F/roYXNFTOdc/ch9F/rpzrn7kPov9dDC5oqZzrn7kPov9dOdc/ch9F/roYXNFTOdc/ch9F/rpzrn7kPov8AXQwuaKmc65+5D6L/AF051z9yH0X+uhhdHEnUkk6C51NgAANeoAAeYBfipnOufuQ+i/1051z9yH0X+uhhc0VM51z9yH0X+unOufuQ+i/10MLmipnOufuQ+i/1051z9yH0X+uhhc0VM51z9yH0X+unOufuQ+i/10MLmipnOufuQ+i/1051z9yH0X+uhhc0VM51z9yH0X+unOufuQ+i/wBdDC5oqZzrn7kPov8AXTnXP3IfRf66GFzRUznXP3IfRf66c65+5D6L/XQwuaKmc65+5D6L/XTnXP3IfRf66GFzRUznXP3IfRf66c65+5D6L/XQwz8ble91gx2UakhpJcSbC9uIDGt8xe7tXjQUJeGsc1zQZGNeSHCzSQCfNYLG511Hch9F/rpzrqO5D6L/AF1l1GE9g4dJI+VwLS97n6gi2Yk63Ww8OLWsALm8B1hae51z9yH0X+uvznVP3IPRf661baGZzl6xqYjC4bXMLp3kAubkiN2lrh/vBbUXB06r9XaqvWwuJ9w+2umU/IvDnXP3IfRf66c65+5D6L/XWxHbDyw+Y6J3cd8oP8l6CjPcf8x/kvnnXP3IfRf66c66juQ+i/10MHiju4/0T/JYviz7noSce67+Syudc/ch9F/rpzrqO5D6L/XQwxDTv4ZH+ToO/kvjxd5/3cgP9hw/wWdzrqO5D6MnrpzrqO5D80nroYYApXkgbuTXQ9B3X8iv5ibwLQbdoBVP511Hch9F/rpzrn7kPov9dDC4CJvdb8wX2qZzrn7kPov9dOdc/ch9F/roYXNFTOdc/ch9F/rpzrn7kPov9dDC5oqZzrn7kPov9dOdc/ch9F/roYQCIiiiIiAiIgIiICIiAiIgIiICIiAiIgIiICIiAiIgIiICIiAiIgIiICIiAiIgIiICIiAiIgIiICIiAiIgIiICIiAiIgIiICIiAiIgIiICIiAiIgIiICIiAiIgIiICIiAiIgIiICIiAiIgIiICIiAiIgIiICIiAiIgIiICIiAiIgIiICIiAiIgIiICIiAiIgIiICIiAiIgIiICIiAiIgIiICIiAiIgIiICIiAiIgIiICIiAiIgIiICIiAiIgIiICIiAiIgIiICIiAiIgIiICIiAiIgIiICIiAiIgIiICIiAiIg/9k=\n"
                },
                "metadata": {}
              }
            ]
          }
        },
        "f0c4e817343b475b8c21c2d3209030fb": {
          "model_module": "@jupyter-widgets/output",
          "model_name": "OutputModel",
          "model_module_version": "1.0.0",
          "state": {
            "_dom_classes": [],
            "_model_module": "@jupyter-widgets/output",
            "_model_module_version": "1.0.0",
            "_model_name": "OutputModel",
            "_view_count": null,
            "_view_module": "@jupyter-widgets/output",
            "_view_module_version": "1.0.0",
            "_view_name": "OutputView",
            "layout": "IPY_MODEL_13ea06052f6b434d86a53d13004df981",
            "msg_id": "",
            "outputs": [
              {
                "output_type": "stream",
                "name": "stdout",
                "text": [
                  "Video available at https://www.bilibili.com/video/BV1ov411B7Pm\n"
                ]
              },
              {
                "output_type": "display_data",
                "data": {
                  "text/plain": "<__main__.PlayVideo at 0x7f359ff83dc0>",
                  "text/html": "\n        <iframe\n            width=\"854\"\n            height=\"480\"\n            src=\"https://player.bilibili.com/player.html?bvid=BV1ov411B7Pm&page=1?fs=1&autoplay=False\"\n            frameborder=\"0\"\n            allowfullscreen\n            \n        ></iframe>\n        "
                },
                "metadata": {}
              }
            ]
          }
        },
        "1340219fdf2c43a48d863bbd2b6af6e8": {
          "model_module": "@jupyter-widgets/base",
          "model_name": "LayoutModel",
          "model_module_version": "1.2.0",
          "state": {
            "_model_module": "@jupyter-widgets/base",
            "_model_module_version": "1.2.0",
            "_model_name": "LayoutModel",
            "_view_count": null,
            "_view_module": "@jupyter-widgets/base",
            "_view_module_version": "1.2.0",
            "_view_name": "LayoutView",
            "align_content": null,
            "align_items": null,
            "align_self": null,
            "border": null,
            "bottom": null,
            "display": null,
            "flex": null,
            "flex_flow": null,
            "grid_area": null,
            "grid_auto_columns": null,
            "grid_auto_flow": null,
            "grid_auto_rows": null,
            "grid_column": null,
            "grid_gap": null,
            "grid_row": null,
            "grid_template_areas": null,
            "grid_template_columns": null,
            "grid_template_rows": null,
            "height": null,
            "justify_content": null,
            "justify_items": null,
            "left": null,
            "margin": null,
            "max_height": null,
            "max_width": null,
            "min_height": null,
            "min_width": null,
            "object_fit": null,
            "object_position": null,
            "order": null,
            "overflow": null,
            "overflow_x": null,
            "overflow_y": null,
            "padding": null,
            "right": null,
            "top": null,
            "visibility": null,
            "width": null
          }
        },
        "7f1ea7c98d5a49a29de9c90e978265c7": {
          "model_module": "@jupyter-widgets/base",
          "model_name": "LayoutModel",
          "model_module_version": "1.2.0",
          "state": {
            "_model_module": "@jupyter-widgets/base",
            "_model_module_version": "1.2.0",
            "_model_name": "LayoutModel",
            "_view_count": null,
            "_view_module": "@jupyter-widgets/base",
            "_view_module_version": "1.2.0",
            "_view_name": "LayoutView",
            "align_content": null,
            "align_items": null,
            "align_self": null,
            "border": null,
            "bottom": null,
            "display": null,
            "flex": null,
            "flex_flow": null,
            "grid_area": null,
            "grid_auto_columns": null,
            "grid_auto_flow": null,
            "grid_auto_rows": null,
            "grid_column": null,
            "grid_gap": null,
            "grid_row": null,
            "grid_template_areas": null,
            "grid_template_columns": null,
            "grid_template_rows": null,
            "height": null,
            "justify_content": null,
            "justify_items": null,
            "left": null,
            "margin": null,
            "max_height": null,
            "max_width": null,
            "min_height": null,
            "min_width": null,
            "object_fit": null,
            "object_position": null,
            "order": null,
            "overflow": null,
            "overflow_x": null,
            "overflow_y": null,
            "padding": null,
            "right": null,
            "top": null,
            "visibility": null,
            "width": null
          }
        },
        "13ea06052f6b434d86a53d13004df981": {
          "model_module": "@jupyter-widgets/base",
          "model_name": "LayoutModel",
          "model_module_version": "1.2.0",
          "state": {
            "_model_module": "@jupyter-widgets/base",
            "_model_module_version": "1.2.0",
            "_model_name": "LayoutModel",
            "_view_count": null,
            "_view_module": "@jupyter-widgets/base",
            "_view_module_version": "1.2.0",
            "_view_name": "LayoutView",
            "align_content": null,
            "align_items": null,
            "align_self": null,
            "border": null,
            "bottom": null,
            "display": null,
            "flex": null,
            "flex_flow": null,
            "grid_area": null,
            "grid_auto_columns": null,
            "grid_auto_flow": null,
            "grid_auto_rows": null,
            "grid_column": null,
            "grid_gap": null,
            "grid_row": null,
            "grid_template_areas": null,
            "grid_template_columns": null,
            "grid_template_rows": null,
            "height": null,
            "justify_content": null,
            "justify_items": null,
            "left": null,
            "margin": null,
            "max_height": null,
            "max_width": null,
            "min_height": null,
            "min_width": null,
            "object_fit": null,
            "object_position": null,
            "order": null,
            "overflow": null,
            "overflow_x": null,
            "overflow_y": null,
            "padding": null,
            "right": null,
            "top": null,
            "visibility": null,
            "width": null
          }
        },
        "b74c803ee4f6437d9d6e58a4c4532386": {
          "model_module": "@jupyter-widgets/controls",
          "model_name": "VBoxModel",
          "model_module_version": "1.5.0",
          "state": {
            "_dom_classes": [
              "widget-interact"
            ],
            "_model_module": "@jupyter-widgets/controls",
            "_model_module_version": "1.5.0",
            "_model_name": "VBoxModel",
            "_view_count": null,
            "_view_module": "@jupyter-widgets/controls",
            "_view_module_version": "1.5.0",
            "_view_name": "VBoxView",
            "box_style": "",
            "children": [
              "IPY_MODEL_9797dfd6e3a647648c8341eb72c9ceb8",
              "IPY_MODEL_2d3c10f0dc1b4dec97146161a542fa15",
              "IPY_MODEL_3db8fec8840744489218ed2fde18c8e2",
              "IPY_MODEL_dcddc5c9c6bd484fb2246ee80630bf99",
              "IPY_MODEL_2539cfbb2d5041d7aaec17089c0e9522",
              "IPY_MODEL_7c12ab96009f45c894c7b5cc17d594b7",
              "IPY_MODEL_1bea49a9b73d4fa090dcfa88f47e1910",
              "IPY_MODEL_90e83ae5833c4989985a47e31eeca1d9"
            ],
            "layout": "IPY_MODEL_3a1574748c7f4186b30ab209372ddb2a"
          }
        },
        "9797dfd6e3a647648c8341eb72c9ceb8": {
          "model_module": "@jupyter-widgets/controls",
          "model_name": "FloatSliderModel",
          "model_module_version": "1.5.0",
          "state": {
            "_dom_classes": [],
            "_model_module": "@jupyter-widgets/controls",
            "_model_module_version": "1.5.0",
            "_model_name": "FloatSliderModel",
            "_view_count": null,
            "_view_module": "@jupyter-widgets/controls",
            "_view_module_version": "1.5.0",
            "_view_name": "FloatSliderView",
            "continuous_update": true,
            "description": "exp_scale",
            "description_tooltip": null,
            "disabled": false,
            "layout": "IPY_MODEL_8facac2e1b484d969821bbcc06091fdc",
            "max": 20000,
            "min": 0,
            "orientation": "horizontal",
            "readout": true,
            "readout_format": ".2f",
            "step": 250,
            "style": "IPY_MODEL_2de2ac052e8d477ca2ed6a0a6c2e9edc",
            "value": 8000
          }
        },
        "2d3c10f0dc1b4dec97146161a542fa15": {
          "model_module": "@jupyter-widgets/controls",
          "model_name": "FloatSliderModel",
          "model_module_version": "1.5.0",
          "state": {
            "_dom_classes": [],
            "_model_module": "@jupyter-widgets/controls",
            "_model_module_version": "1.5.0",
            "_model_name": "FloatSliderModel",
            "_view_count": null,
            "_view_module": "@jupyter-widgets/controls",
            "_view_module_version": "1.5.0",
            "_view_name": "FloatSliderView",
            "continuous_update": true,
            "description": "exp_rate",
            "description_tooltip": null,
            "disabled": false,
            "layout": "IPY_MODEL_8e3b69399fc54938861543ba72f57c04",
            "max": 50,
            "min": -200,
            "orientation": "horizontal",
            "readout": true,
            "readout_format": ".2f",
            "step": 1,
            "style": "IPY_MODEL_4f9befbe798d41769f20f1d71f9c8615",
            "value": -50
          }
        },
        "3db8fec8840744489218ed2fde18c8e2": {
          "model_module": "@jupyter-widgets/controls",
          "model_name": "FloatSliderModel",
          "model_module_version": "1.5.0",
          "state": {
            "_dom_classes": [],
            "_model_module": "@jupyter-widgets/controls",
            "_model_module_version": "1.5.0",
            "_model_name": "FloatSliderModel",
            "_view_count": null,
            "_view_module": "@jupyter-widgets/controls",
            "_view_module_version": "1.5.0",
            "_view_name": "FloatSliderView",
            "continuous_update": true,
            "description": "exp_x0",
            "description_tooltip": null,
            "disabled": false,
            "layout": "IPY_MODEL_d6f17f7d6db047adb44ba79ce142e86e",
            "max": 0.5,
            "min": -0.5,
            "orientation": "horizontal",
            "readout": true,
            "readout_format": ".2f",
            "step": 0.005,
            "style": "IPY_MODEL_3c629fd9222b4d9d9a6a481c992d1311",
            "value": 0.03
          }
        },
        "dcddc5c9c6bd484fb2246ee80630bf99": {
          "model_module": "@jupyter-widgets/controls",
          "model_name": "FloatSliderModel",
          "model_module_version": "1.5.0",
          "state": {
            "_dom_classes": [],
            "_model_module": "@jupyter-widgets/controls",
            "_model_module_version": "1.5.0",
            "_model_name": "FloatSliderModel",
            "_view_count": null,
            "_view_module": "@jupyter-widgets/controls",
            "_view_module_version": "1.5.0",
            "_view_name": "FloatSliderView",
            "continuous_update": true,
            "description": "inv_scale",
            "description_tooltip": null,
            "disabled": false,
            "layout": "IPY_MODEL_dcc262c7cc9140d0a076e1ca7f0f470e",
            "max": 300,
            "min": 0,
            "orientation": "horizontal",
            "readout": true,
            "readout_format": ".2f",
            "step": 10,
            "style": "IPY_MODEL_7dc63d23e5834332a58f7a5a64531628",
            "value": 180
          }
        },
        "2539cfbb2d5041d7aaec17089c0e9522": {
          "model_module": "@jupyter-widgets/controls",
          "model_name": "FloatSliderModel",
          "model_module_version": "1.5.0",
          "state": {
            "_dom_classes": [],
            "_model_module": "@jupyter-widgets/controls",
            "_model_module_version": "1.5.0",
            "_model_name": "FloatSliderModel",
            "_view_count": null,
            "_view_module": "@jupyter-widgets/controls",
            "_view_module_version": "1.5.0",
            "_view_name": "FloatSliderView",
            "continuous_update": true,
            "description": "inv_x0",
            "description_tooltip": null,
            "disabled": false,
            "layout": "IPY_MODEL_e9d40a79e38048d183802bc032f29f8a",
            "max": 0.2,
            "min": -0.2,
            "orientation": "horizontal",
            "readout": true,
            "readout_format": ".2f",
            "step": 0.01,
            "style": "IPY_MODEL_b68cbd152e2b479bb5320159594abeda",
            "value": 0
          }
        },
        "7c12ab96009f45c894c7b5cc17d594b7": {
          "model_module": "@jupyter-widgets/controls",
          "model_name": "FloatSliderModel",
          "model_module_version": "1.5.0",
          "state": {
            "_dom_classes": [],
            "_model_module": "@jupyter-widgets/controls",
            "_model_module_version": "1.5.0",
            "_model_name": "FloatSliderModel",
            "_view_count": null,
            "_view_module": "@jupyter-widgets/controls",
            "_view_module_version": "1.5.0",
            "_view_name": "FloatSliderView",
            "continuous_update": true,
            "description": "lin_slope",
            "description_tooltip": null,
            "disabled": false,
            "layout": "IPY_MODEL_ab7b7ce93dc74d8ca0e658b65ca08e40",
            "max": 100000,
            "min": -600000,
            "orientation": "horizontal",
            "readout": true,
            "readout_format": ".2f",
            "step": 10000,
            "style": "IPY_MODEL_3809dfd642454879a72183ad5e5cfe35",
            "value": -100000
          }
        },
        "1bea49a9b73d4fa090dcfa88f47e1910": {
          "model_module": "@jupyter-widgets/controls",
          "model_name": "FloatSliderModel",
          "model_module_version": "1.5.0",
          "state": {
            "_dom_classes": [],
            "_model_module": "@jupyter-widgets/controls",
            "_model_module_version": "1.5.0",
            "_model_name": "FloatSliderModel",
            "_view_count": null,
            "_view_module": "@jupyter-widgets/controls",
            "_view_module_version": "1.5.0",
            "_view_name": "FloatSliderView",
            "continuous_update": true,
            "description": "lin_y0",
            "description_tooltip": null,
            "disabled": false,
            "layout": "IPY_MODEL_379ff3ee07dc4b51838191c58c19aee7",
            "max": 40000,
            "min": 0,
            "orientation": "horizontal",
            "readout": true,
            "readout_format": ".2f",
            "step": 1000,
            "style": "IPY_MODEL_8079828e996d4b52a44b45efba375e3b",
            "value": 10000
          }
        },
        "90e83ae5833c4989985a47e31eeca1d9": {
          "model_module": "@jupyter-widgets/output",
          "model_name": "OutputModel",
          "model_module_version": "1.0.0",
          "state": {
            "_dom_classes": [],
            "_model_module": "@jupyter-widgets/output",
            "_model_module_version": "1.0.0",
            "_model_name": "OutputModel",
            "_view_count": null,
            "_view_module": "@jupyter-widgets/output",
            "_view_module_version": "1.0.0",
            "_view_name": "OutputView",
            "layout": "IPY_MODEL_6803ba7b9c344b15a1ba539a0f0cdeed",
            "msg_id": "",
            "outputs": [
              {
                "output_type": "display_data",
                "data": {
                  "text/plain": "<Figure size 800x600 with 1 Axes>",
                  "image/png": "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\n"
                },
                "metadata": {
                  "image/png": {
                    "width": 775,
                    "height": 575
                  }
                }
              }
            ]
          }
        },
        "3a1574748c7f4186b30ab209372ddb2a": {
          "model_module": "@jupyter-widgets/base",
          "model_name": "LayoutModel",
          "model_module_version": "1.2.0",
          "state": {
            "_model_module": "@jupyter-widgets/base",
            "_model_module_version": "1.2.0",
            "_model_name": "LayoutModel",
            "_view_count": null,
            "_view_module": "@jupyter-widgets/base",
            "_view_module_version": "1.2.0",
            "_view_name": "LayoutView",
            "align_content": null,
            "align_items": null,
            "align_self": null,
            "border": null,
            "bottom": null,
            "display": null,
            "flex": null,
            "flex_flow": null,
            "grid_area": null,
            "grid_auto_columns": null,
            "grid_auto_flow": null,
            "grid_auto_rows": null,
            "grid_column": null,
            "grid_gap": null,
            "grid_row": null,
            "grid_template_areas": null,
            "grid_template_columns": null,
            "grid_template_rows": null,
            "height": null,
            "justify_content": null,
            "justify_items": null,
            "left": null,
            "margin": null,
            "max_height": null,
            "max_width": null,
            "min_height": null,
            "min_width": null,
            "object_fit": null,
            "object_position": null,
            "order": null,
            "overflow": null,
            "overflow_x": null,
            "overflow_y": null,
            "padding": null,
            "right": null,
            "top": null,
            "visibility": null,
            "width": null
          }
        },
        "8facac2e1b484d969821bbcc06091fdc": {
          "model_module": "@jupyter-widgets/base",
          "model_name": "LayoutModel",
          "model_module_version": "1.2.0",
          "state": {
            "_model_module": "@jupyter-widgets/base",
            "_model_module_version": "1.2.0",
            "_model_name": "LayoutModel",
            "_view_count": null,
            "_view_module": "@jupyter-widgets/base",
            "_view_module_version": "1.2.0",
            "_view_name": "LayoutView",
            "align_content": null,
            "align_items": null,
            "align_self": null,
            "border": null,
            "bottom": null,
            "display": null,
            "flex": null,
            "flex_flow": null,
            "grid_area": null,
            "grid_auto_columns": null,
            "grid_auto_flow": null,
            "grid_auto_rows": null,
            "grid_column": null,
            "grid_gap": null,
            "grid_row": null,
            "grid_template_areas": null,
            "grid_template_columns": null,
            "grid_template_rows": null,
            "height": null,
            "justify_content": null,
            "justify_items": null,
            "left": null,
            "margin": null,
            "max_height": null,
            "max_width": null,
            "min_height": null,
            "min_width": null,
            "object_fit": null,
            "object_position": null,
            "order": null,
            "overflow": null,
            "overflow_x": null,
            "overflow_y": null,
            "padding": null,
            "right": null,
            "top": null,
            "visibility": null,
            "width": null
          }
        },
        "2de2ac052e8d477ca2ed6a0a6c2e9edc": {
          "model_module": "@jupyter-widgets/controls",
          "model_name": "SliderStyleModel",
          "model_module_version": "1.5.0",
          "state": {
            "_model_module": "@jupyter-widgets/controls",
            "_model_module_version": "1.5.0",
            "_model_name": "SliderStyleModel",
            "_view_count": null,
            "_view_module": "@jupyter-widgets/base",
            "_view_module_version": "1.2.0",
            "_view_name": "StyleView",
            "description_width": "",
            "handle_color": null
          }
        },
        "8e3b69399fc54938861543ba72f57c04": {
          "model_module": "@jupyter-widgets/base",
          "model_name": "LayoutModel",
          "model_module_version": "1.2.0",
          "state": {
            "_model_module": "@jupyter-widgets/base",
            "_model_module_version": "1.2.0",
            "_model_name": "LayoutModel",
            "_view_count": null,
            "_view_module": "@jupyter-widgets/base",
            "_view_module_version": "1.2.0",
            "_view_name": "LayoutView",
            "align_content": null,
            "align_items": null,
            "align_self": null,
            "border": null,
            "bottom": null,
            "display": null,
            "flex": null,
            "flex_flow": null,
            "grid_area": null,
            "grid_auto_columns": null,
            "grid_auto_flow": null,
            "grid_auto_rows": null,
            "grid_column": null,
            "grid_gap": null,
            "grid_row": null,
            "grid_template_areas": null,
            "grid_template_columns": null,
            "grid_template_rows": null,
            "height": null,
            "justify_content": null,
            "justify_items": null,
            "left": null,
            "margin": null,
            "max_height": null,
            "max_width": null,
            "min_height": null,
            "min_width": null,
            "object_fit": null,
            "object_position": null,
            "order": null,
            "overflow": null,
            "overflow_x": null,
            "overflow_y": null,
            "padding": null,
            "right": null,
            "top": null,
            "visibility": null,
            "width": null
          }
        },
        "4f9befbe798d41769f20f1d71f9c8615": {
          "model_module": "@jupyter-widgets/controls",
          "model_name": "SliderStyleModel",
          "model_module_version": "1.5.0",
          "state": {
            "_model_module": "@jupyter-widgets/controls",
            "_model_module_version": "1.5.0",
            "_model_name": "SliderStyleModel",
            "_view_count": null,
            "_view_module": "@jupyter-widgets/base",
            "_view_module_version": "1.2.0",
            "_view_name": "StyleView",
            "description_width": "",
            "handle_color": null
          }
        },
        "d6f17f7d6db047adb44ba79ce142e86e": {
          "model_module": "@jupyter-widgets/base",
          "model_name": "LayoutModel",
          "model_module_version": "1.2.0",
          "state": {
            "_model_module": "@jupyter-widgets/base",
            "_model_module_version": "1.2.0",
            "_model_name": "LayoutModel",
            "_view_count": null,
            "_view_module": "@jupyter-widgets/base",
            "_view_module_version": "1.2.0",
            "_view_name": "LayoutView",
            "align_content": null,
            "align_items": null,
            "align_self": null,
            "border": null,
            "bottom": null,
            "display": null,
            "flex": null,
            "flex_flow": null,
            "grid_area": null,
            "grid_auto_columns": null,
            "grid_auto_flow": null,
            "grid_auto_rows": null,
            "grid_column": null,
            "grid_gap": null,
            "grid_row": null,
            "grid_template_areas": null,
            "grid_template_columns": null,
            "grid_template_rows": null,
            "height": null,
            "justify_content": null,
            "justify_items": null,
            "left": null,
            "margin": null,
            "max_height": null,
            "max_width": null,
            "min_height": null,
            "min_width": null,
            "object_fit": null,
            "object_position": null,
            "order": null,
            "overflow": null,
            "overflow_x": null,
            "overflow_y": null,
            "padding": null,
            "right": null,
            "top": null,
            "visibility": null,
            "width": null
          }
        },
        "3c629fd9222b4d9d9a6a481c992d1311": {
          "model_module": "@jupyter-widgets/controls",
          "model_name": "SliderStyleModel",
          "model_module_version": "1.5.0",
          "state": {
            "_model_module": "@jupyter-widgets/controls",
            "_model_module_version": "1.5.0",
            "_model_name": "SliderStyleModel",
            "_view_count": null,
            "_view_module": "@jupyter-widgets/base",
            "_view_module_version": "1.2.0",
            "_view_name": "StyleView",
            "description_width": "",
            "handle_color": null
          }
        },
        "dcc262c7cc9140d0a076e1ca7f0f470e": {
          "model_module": "@jupyter-widgets/base",
          "model_name": "LayoutModel",
          "model_module_version": "1.2.0",
          "state": {
            "_model_module": "@jupyter-widgets/base",
            "_model_module_version": "1.2.0",
            "_model_name": "LayoutModel",
            "_view_count": null,
            "_view_module": "@jupyter-widgets/base",
            "_view_module_version": "1.2.0",
            "_view_name": "LayoutView",
            "align_content": null,
            "align_items": null,
            "align_self": null,
            "border": null,
            "bottom": null,
            "display": null,
            "flex": null,
            "flex_flow": null,
            "grid_area": null,
            "grid_auto_columns": null,
            "grid_auto_flow": null,
            "grid_auto_rows": null,
            "grid_column": null,
            "grid_gap": null,
            "grid_row": null,
            "grid_template_areas": null,
            "grid_template_columns": null,
            "grid_template_rows": null,
            "height": null,
            "justify_content": null,
            "justify_items": null,
            "left": null,
            "margin": null,
            "max_height": null,
            "max_width": null,
            "min_height": null,
            "min_width": null,
            "object_fit": null,
            "object_position": null,
            "order": null,
            "overflow": null,
            "overflow_x": null,
            "overflow_y": null,
            "padding": null,
            "right": null,
            "top": null,
            "visibility": null,
            "width": null
          }
        },
        "7dc63d23e5834332a58f7a5a64531628": {
          "model_module": "@jupyter-widgets/controls",
          "model_name": "SliderStyleModel",
          "model_module_version": "1.5.0",
          "state": {
            "_model_module": "@jupyter-widgets/controls",
            "_model_module_version": "1.5.0",
            "_model_name": "SliderStyleModel",
            "_view_count": null,
            "_view_module": "@jupyter-widgets/base",
            "_view_module_version": "1.2.0",
            "_view_name": "StyleView",
            "description_width": "",
            "handle_color": null
          }
        },
        "e9d40a79e38048d183802bc032f29f8a": {
          "model_module": "@jupyter-widgets/base",
          "model_name": "LayoutModel",
          "model_module_version": "1.2.0",
          "state": {
            "_model_module": "@jupyter-widgets/base",
            "_model_module_version": "1.2.0",
            "_model_name": "LayoutModel",
            "_view_count": null,
            "_view_module": "@jupyter-widgets/base",
            "_view_module_version": "1.2.0",
            "_view_name": "LayoutView",
            "align_content": null,
            "align_items": null,
            "align_self": null,
            "border": null,
            "bottom": null,
            "display": null,
            "flex": null,
            "flex_flow": null,
            "grid_area": null,
            "grid_auto_columns": null,
            "grid_auto_flow": null,
            "grid_auto_rows": null,
            "grid_column": null,
            "grid_gap": null,
            "grid_row": null,
            "grid_template_areas": null,
            "grid_template_columns": null,
            "grid_template_rows": null,
            "height": null,
            "justify_content": null,
            "justify_items": null,
            "left": null,
            "margin": null,
            "max_height": null,
            "max_width": null,
            "min_height": null,
            "min_width": null,
            "object_fit": null,
            "object_position": null,
            "order": null,
            "overflow": null,
            "overflow_x": null,
            "overflow_y": null,
            "padding": null,
            "right": null,
            "top": null,
            "visibility": null,
            "width": null
          }
        },
        "b68cbd152e2b479bb5320159594abeda": {
          "model_module": "@jupyter-widgets/controls",
          "model_name": "SliderStyleModel",
          "model_module_version": "1.5.0",
          "state": {
            "_model_module": "@jupyter-widgets/controls",
            "_model_module_version": "1.5.0",
            "_model_name": "SliderStyleModel",
            "_view_count": null,
            "_view_module": "@jupyter-widgets/base",
            "_view_module_version": "1.2.0",
            "_view_name": "StyleView",
            "description_width": "",
            "handle_color": null
          }
        },
        "ab7b7ce93dc74d8ca0e658b65ca08e40": {
          "model_module": "@jupyter-widgets/base",
          "model_name": "LayoutModel",
          "model_module_version": "1.2.0",
          "state": {
            "_model_module": "@jupyter-widgets/base",
            "_model_module_version": "1.2.0",
            "_model_name": "LayoutModel",
            "_view_count": null,
            "_view_module": "@jupyter-widgets/base",
            "_view_module_version": "1.2.0",
            "_view_name": "LayoutView",
            "align_content": null,
            "align_items": null,
            "align_self": null,
            "border": null,
            "bottom": null,
            "display": null,
            "flex": null,
            "flex_flow": null,
            "grid_area": null,
            "grid_auto_columns": null,
            "grid_auto_flow": null,
            "grid_auto_rows": null,
            "grid_column": null,
            "grid_gap": null,
            "grid_row": null,
            "grid_template_areas": null,
            "grid_template_columns": null,
            "grid_template_rows": null,
            "height": null,
            "justify_content": null,
            "justify_items": null,
            "left": null,
            "margin": null,
            "max_height": null,
            "max_width": null,
            "min_height": null,
            "min_width": null,
            "object_fit": null,
            "object_position": null,
            "order": null,
            "overflow": null,
            "overflow_x": null,
            "overflow_y": null,
            "padding": null,
            "right": null,
            "top": null,
            "visibility": null,
            "width": null
          }
        },
        "3809dfd642454879a72183ad5e5cfe35": {
          "model_module": "@jupyter-widgets/controls",
          "model_name": "SliderStyleModel",
          "model_module_version": "1.5.0",
          "state": {
            "_model_module": "@jupyter-widgets/controls",
            "_model_module_version": "1.5.0",
            "_model_name": "SliderStyleModel",
            "_view_count": null,
            "_view_module": "@jupyter-widgets/base",
            "_view_module_version": "1.2.0",
            "_view_name": "StyleView",
            "description_width": "",
            "handle_color": null
          }
        },
        "379ff3ee07dc4b51838191c58c19aee7": {
          "model_module": "@jupyter-widgets/base",
          "model_name": "LayoutModel",
          "model_module_version": "1.2.0",
          "state": {
            "_model_module": "@jupyter-widgets/base",
            "_model_module_version": "1.2.0",
            "_model_name": "LayoutModel",
            "_view_count": null,
            "_view_module": "@jupyter-widgets/base",
            "_view_module_version": "1.2.0",
            "_view_name": "LayoutView",
            "align_content": null,
            "align_items": null,
            "align_self": null,
            "border": null,
            "bottom": null,
            "display": null,
            "flex": null,
            "flex_flow": null,
            "grid_area": null,
            "grid_auto_columns": null,
            "grid_auto_flow": null,
            "grid_auto_rows": null,
            "grid_column": null,
            "grid_gap": null,
            "grid_row": null,
            "grid_template_areas": null,
            "grid_template_columns": null,
            "grid_template_rows": null,
            "height": null,
            "justify_content": null,
            "justify_items": null,
            "left": null,
            "margin": null,
            "max_height": null,
            "max_width": null,
            "min_height": null,
            "min_width": null,
            "object_fit": null,
            "object_position": null,
            "order": null,
            "overflow": null,
            "overflow_x": null,
            "overflow_y": null,
            "padding": null,
            "right": null,
            "top": null,
            "visibility": null,
            "width": null
          }
        },
        "8079828e996d4b52a44b45efba375e3b": {
          "model_module": "@jupyter-widgets/controls",
          "model_name": "SliderStyleModel",
          "model_module_version": "1.5.0",
          "state": {
            "_model_module": "@jupyter-widgets/controls",
            "_model_module_version": "1.5.0",
            "_model_name": "SliderStyleModel",
            "_view_count": null,
            "_view_module": "@jupyter-widgets/base",
            "_view_module_version": "1.2.0",
            "_view_name": "StyleView",
            "description_width": "",
            "handle_color": null
          }
        },
        "6803ba7b9c344b15a1ba539a0f0cdeed": {
          "model_module": "@jupyter-widgets/base",
          "model_name": "LayoutModel",
          "model_module_version": "1.2.0",
          "state": {
            "_model_module": "@jupyter-widgets/base",
            "_model_module_version": "1.2.0",
            "_model_name": "LayoutModel",
            "_view_count": null,
            "_view_module": "@jupyter-widgets/base",
            "_view_module_version": "1.2.0",
            "_view_name": "LayoutView",
            "align_content": null,
            "align_items": null,
            "align_self": null,
            "border": null,
            "bottom": null,
            "display": null,
            "flex": null,
            "flex_flow": null,
            "grid_area": null,
            "grid_auto_columns": null,
            "grid_auto_flow": null,
            "grid_auto_rows": null,
            "grid_column": null,
            "grid_gap": null,
            "grid_row": null,
            "grid_template_areas": null,
            "grid_template_columns": null,
            "grid_template_rows": null,
            "height": null,
            "justify_content": null,
            "justify_items": null,
            "left": null,
            "margin": null,
            "max_height": null,
            "max_width": null,
            "min_height": null,
            "min_width": null,
            "object_fit": null,
            "object_position": null,
            "order": null,
            "overflow": null,
            "overflow_x": null,
            "overflow_y": null,
            "padding": null,
            "right": null,
            "top": null,
            "visibility": null,
            "width": null
          }
        },
        "9aa3d8c8516c45d29f4c2e7ef3270ec4": {
          "model_module": "@jupyter-widgets/controls",
          "model_name": "TabModel",
          "model_module_version": "1.5.0",
          "state": {
            "_dom_classes": [],
            "_model_module": "@jupyter-widgets/controls",
            "_model_module_version": "1.5.0",
            "_model_name": "TabModel",
            "_titles": {
              "0": "Youtube",
              "1": "Bilibili"
            },
            "_view_count": null,
            "_view_module": "@jupyter-widgets/controls",
            "_view_module_version": "1.5.0",
            "_view_name": "TabView",
            "box_style": "",
            "children": [
              "IPY_MODEL_0150add7322648b7a01ea5f4c28094cd",
              "IPY_MODEL_de26b1ae5a2b47a5b460fe141b83baf4"
            ],
            "layout": "IPY_MODEL_edf476c5f98c4f8eaa69a665c1b6962f",
            "selected_index": 0
          }
        },
        "0150add7322648b7a01ea5f4c28094cd": {
          "model_module": "@jupyter-widgets/output",
          "model_name": "OutputModel",
          "model_module_version": "1.0.0",
          "state": {
            "_dom_classes": [],
            "_model_module": "@jupyter-widgets/output",
            "_model_module_version": "1.0.0",
            "_model_name": "OutputModel",
            "_view_count": null,
            "_view_module": "@jupyter-widgets/output",
            "_view_module_version": "1.0.0",
            "_view_name": "OutputView",
            "layout": "IPY_MODEL_30b3f4d92a614ebea0b0d1bc1f18c1ed",
            "msg_id": "",
            "outputs": [
              {
                "output_type": "stream",
                "name": "stdout",
                "text": [
                  "Video available at https://youtube.com/watch?v=uW2HDk_4-wk\n"
                ]
              },
              {
                "output_type": "display_data",
                "data": {
                  "text/plain": "<IPython.lib.display.YouTubeVideo at 0x7f359fcafbe0>",
                  "text/html": "\n        <iframe\n            width=\"854\"\n            height=\"480\"\n            src=\"https://www.youtube.com/embed/uW2HDk_4-wk?fs=1&rel=0\"\n            frameborder=\"0\"\n            allowfullscreen\n            \n        ></iframe>\n        ",
                  "image/jpeg": "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\n"
                },
                "metadata": {}
              }
            ]
          }
        },
        "de26b1ae5a2b47a5b460fe141b83baf4": {
          "model_module": "@jupyter-widgets/output",
          "model_name": "OutputModel",
          "model_module_version": "1.0.0",
          "state": {
            "_dom_classes": [],
            "_model_module": "@jupyter-widgets/output",
            "_model_module_version": "1.0.0",
            "_model_name": "OutputModel",
            "_view_count": null,
            "_view_module": "@jupyter-widgets/output",
            "_view_module_version": "1.0.0",
            "_view_name": "OutputView",
            "layout": "IPY_MODEL_cf4190c7b2a6479385263a41bcdd57df",
            "msg_id": "",
            "outputs": [
              {
                "output_type": "stream",
                "name": "stdout",
                "text": [
                  "Video available at https://www.bilibili.com/video/BV1w54y1S7Eb\n"
                ]
              },
              {
                "output_type": "display_data",
                "data": {
                  "text/plain": "<__main__.PlayVideo at 0x7f359fcafbb0>",
                  "text/html": "\n        <iframe\n            width=\"854\"\n            height=\"480\"\n            src=\"https://player.bilibili.com/player.html?bvid=BV1w54y1S7Eb&page=1?fs=1&autoplay=False\"\n            frameborder=\"0\"\n            allowfullscreen\n            \n        ></iframe>\n        "
                },
                "metadata": {}
              }
            ]
          }
        },
        "edf476c5f98c4f8eaa69a665c1b6962f": {
          "model_module": "@jupyter-widgets/base",
          "model_name": "LayoutModel",
          "model_module_version": "1.2.0",
          "state": {
            "_model_module": "@jupyter-widgets/base",
            "_model_module_version": "1.2.0",
            "_model_name": "LayoutModel",
            "_view_count": null,
            "_view_module": "@jupyter-widgets/base",
            "_view_module_version": "1.2.0",
            "_view_name": "LayoutView",
            "align_content": null,
            "align_items": null,
            "align_self": null,
            "border": null,
            "bottom": null,
            "display": null,
            "flex": null,
            "flex_flow": null,
            "grid_area": null,
            "grid_auto_columns": null,
            "grid_auto_flow": null,
            "grid_auto_rows": null,
            "grid_column": null,
            "grid_gap": null,
            "grid_row": null,
            "grid_template_areas": null,
            "grid_template_columns": null,
            "grid_template_rows": null,
            "height": null,
            "justify_content": null,
            "justify_items": null,
            "left": null,
            "margin": null,
            "max_height": null,
            "max_width": null,
            "min_height": null,
            "min_width": null,
            "object_fit": null,
            "object_position": null,
            "order": null,
            "overflow": null,
            "overflow_x": null,
            "overflow_y": null,
            "padding": null,
            "right": null,
            "top": null,
            "visibility": null,
            "width": null
          }
        },
        "30b3f4d92a614ebea0b0d1bc1f18c1ed": {
          "model_module": "@jupyter-widgets/base",
          "model_name": "LayoutModel",
          "model_module_version": "1.2.0",
          "state": {
            "_model_module": "@jupyter-widgets/base",
            "_model_module_version": "1.2.0",
            "_model_name": "LayoutModel",
            "_view_count": null,
            "_view_module": "@jupyter-widgets/base",
            "_view_module_version": "1.2.0",
            "_view_name": "LayoutView",
            "align_content": null,
            "align_items": null,
            "align_self": null,
            "border": null,
            "bottom": null,
            "display": null,
            "flex": null,
            "flex_flow": null,
            "grid_area": null,
            "grid_auto_columns": null,
            "grid_auto_flow": null,
            "grid_auto_rows": null,
            "grid_column": null,
            "grid_gap": null,
            "grid_row": null,
            "grid_template_areas": null,
            "grid_template_columns": null,
            "grid_template_rows": null,
            "height": null,
            "justify_content": null,
            "justify_items": null,
            "left": null,
            "margin": null,
            "max_height": null,
            "max_width": null,
            "min_height": null,
            "min_width": null,
            "object_fit": null,
            "object_position": null,
            "order": null,
            "overflow": null,
            "overflow_x": null,
            "overflow_y": null,
            "padding": null,
            "right": null,
            "top": null,
            "visibility": null,
            "width": null
          }
        },
        "cf4190c7b2a6479385263a41bcdd57df": {
          "model_module": "@jupyter-widgets/base",
          "model_name": "LayoutModel",
          "model_module_version": "1.2.0",
          "state": {
            "_model_module": "@jupyter-widgets/base",
            "_model_module_version": "1.2.0",
            "_model_name": "LayoutModel",
            "_view_count": null,
            "_view_module": "@jupyter-widgets/base",
            "_view_module_version": "1.2.0",
            "_view_name": "LayoutView",
            "align_content": null,
            "align_items": null,
            "align_self": null,
            "border": null,
            "bottom": null,
            "display": null,
            "flex": null,
            "flex_flow": null,
            "grid_area": null,
            "grid_auto_columns": null,
            "grid_auto_flow": null,
            "grid_auto_rows": null,
            "grid_column": null,
            "grid_gap": null,
            "grid_row": null,
            "grid_template_areas": null,
            "grid_template_columns": null,
            "grid_template_rows": null,
            "height": null,
            "justify_content": null,
            "justify_items": null,
            "left": null,
            "margin": null,
            "max_height": null,
            "max_width": null,
            "min_height": null,
            "min_width": null,
            "object_fit": null,
            "object_position": null,
            "order": null,
            "overflow": null,
            "overflow_x": null,
            "overflow_y": null,
            "padding": null,
            "right": null,
            "top": null,
            "visibility": null,
            "width": null
          }
        }
      }
    }
  },
  "nbformat": 4,
  "nbformat_minor": 0
}